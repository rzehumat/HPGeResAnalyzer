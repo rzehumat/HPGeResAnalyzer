{
 "metadata": {
  "language_info": {
   "codemirror_mode": {
    "name": "ipython",
    "version": 3
   },
   "file_extension": ".py",
   "mimetype": "text/x-python",
   "name": "python",
   "nbconvert_exporter": "python",
   "pygments_lexer": "ipython3",
   "version": "3.8.5-final"
  },
  "orig_nbformat": 2,
  "kernelspec": {
   "name": "python3",
   "display_name": "Python 3.8.5 64-bit ('base': conda)",
   "metadata": {
    "interpreter": {
     "hash": "590f3899dd7b9bcfd4cbc68d67e174e21f00fe45394f2e3932fd522000967c3f"
    }
   }
  }
 },
 "nbformat": 4,
 "nbformat_minor": 2,
 "cells": [
  {
   "cell_type": "code",
   "execution_count": 12,
   "metadata": {},
   "outputs": [],
   "source": [
    "import pandas as pd\n",
    "import urllib\n",
    "from bs4 import BeautifulSoup"
   ]
  },
  {
   "cell_type": "code",
   "execution_count": 62,
   "metadata": {},
   "outputs": [],
   "source": [
    "def func_get_text(cell):\n",
    "    return cell.get_text(strip=True)"
   ]
  },
  {
   "cell_type": "code",
   "execution_count": null,
   "metadata": {},
   "outputs": [],
   "source": [
    "def process_radiation_search(download_path):\n",
    "    html_file = open(download_path, \"r\")\n",
    "    soup = BeautifulSoup(html_file.read(), 'lxml')\n",
    "    table = soup.find_all(\"table\")[0]\n",
    "    gammas = table.find_all(\"tr\")\n",
    "    init_dict = {\"E_tab\": [0], \"Ig\": [0], \"Decay_Mode\": [\"b-\"], \"half_life\": [\"3 m\"], \"Isotope\": [\"Tu\"]}\n",
    "    gamma_df = pd.DataFrame(init_dict)\n",
    "\n",
    "    for gamma_row in gammas:\n",
    "        vals = list(map(func_get_text, row.find_all(\"td\")))\n",
    "        gamma_df.append({\"E_tab\": vals[0], \"Ig\": vals[1], \"Decay_Mode\": vals[2], \"half_life\": vals[3], \"Isotope\": vals[4]}, ignore_index=True)\n",
    "    return gamma_df"
   ]
  },
  {
   "cell_type": "code",
   "execution_count": 10,
   "metadata": {},
   "outputs": [],
   "source": [
    "# http://nucleardata.nuclear.lu.se/toi/Gamma.asp?sql=&Min=58&Max=60&HlifeMin=2&tMinStr=2+s&HlifeMax=1000&tMaxStr=1000+s\n",
    "def find_peaks(energy, fwhm, t_min, t_max):\n",
    "    e_min = energy - fwhm\n",
    "    e_max = energy + fwhm\n",
    "    request_url = f\"http://nucleardata.nuclear.lu.se/toi/Gamma.asp?sql=&Min={e_min}&Max={e_max}&HlifeMin={t_min}&tMinStr={t_min}+s&HlifeMax={t_max}&tMaxStr={t_max}+s\"\n",
    "    output_file = f\"downloads/searchE{energy}pm{fwhm}tMin{t_min}tMax{t_max}.html\"\n",
    "    urllib.request.urlretrieve (request_url, output_file)\n",
    "    print(f\"File {output_file} downloaded.\")\n",
    "    gamma_df = process_radiation_search(output_file)\n",
    "    gamma_df[\"Energy\"] = energy\n",
    "    gamma_df[\"FWHM\"] = fwhm\n",
    "    gamma_df[\"half_life_searched\"] = f\"{t_min} - {t_max}\"\n",
    "    gamma_df = gamma_df.drop(rows=[0])\n",
    "    return gamma_df"
   ]
  },
  {
   "cell_type": "code",
   "execution_count": null,
   "metadata": {},
   "outputs": [],
   "source": [
    "all_df = \n",
    "#found_peaks = parsed_df.apply(find_peaks, args=)"
   ]
  },
  {
   "cell_type": "code",
   "execution_count": null,
   "metadata": {},
   "outputs": [],
   "source": []
  }
 ]
}