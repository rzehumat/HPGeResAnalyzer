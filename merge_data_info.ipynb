{
 "metadata": {
  "language_info": {
   "codemirror_mode": {
    "name": "ipython",
    "version": 3
   },
   "file_extension": ".py",
   "mimetype": "text/x-python",
   "name": "python",
   "nbconvert_exporter": "python",
   "pygments_lexer": "ipython3",
   "version": "3.8.5"
  },
  "orig_nbformat": 2,
  "kernelspec": {
   "name": "python3",
   "display_name": "Python 3.8.5 64-bit ('base': conda)",
   "metadata": {
    "interpreter": {
     "hash": "590f3899dd7b9bcfd4cbc68d67e174e21f00fe45394f2e3932fd522000967c3f"
    }
   }
  }
 },
 "nbformat": 4,
 "nbformat_minor": 2,
 "cells": [
  {
   "cell_type": "code",
   "execution_count": null,
   "metadata": {},
   "outputs": [],
   "source": [
    "import glob\n",
    "\n",
    "import pandas as pd"
   ]
  },
  {
   "cell_type": "code",
   "execution_count": null,
   "metadata": {},
   "outputs": [],
   "source": [
    "info_df = pd.DataFrame()\n",
    "for fname in glob.glob(\"downloads/ig_db/info*.csv\"):\n",
    "    df = pd.read_csv(fname, index_col=0)\n",
    "    df[\"Isotope\"] = fname.split(\"/\")[-1].split(\"_\")[1].split(\".\")[0]\n",
    "    info_df = info_df.append(df)\n",
    "info_df.head()\n",
    "\n",
    "info_df = info_df.set_index(\"Isotope\", drop=True)\n",
    "old_cols = info_df.columns.tolist()\n",
    "first_cols = [\"Half-life [s]\", \"Stable\", \"Prod_mode_Photon reaction\", \"Prod_mode_Fast neutron activation\"]\n",
    "new_cols = first_cols + list(set(old_cols) - set(first_cols))\n",
    "info_df = info_df[new_cols]"
   ]
  },
  {
   "cell_type": "code",
   "execution_count": null,
   "metadata": {},
   "outputs": [],
   "source": [
    "info_df[\"Prod_mode_Photon reaction\"] = info_df[\"Prod_mode_Photon reaction\"].replace(float(\"NaN\"), False)\n",
    "info_df[\"Prod_mode_Fast neutron activation\"] = info_df[\"Prod_mode_Fast neutron activation\"].replace(float(\"NaN\"), False)\n",
    "info_df[\"Prod_mode_Naturally occurring\"] = info_df[\"Prod_mode_Naturally occurring\"].replace(float(\"NaN\"), False)\n",
    "info_df[\"Prod_mode_Thermal neutron activation\"] = info_df[\"Prod_mode_Thermal neutron activation\"].replace(float(\"NaN\"), False)\n",
    "info_df[\"Prod_mode_Fission product\"] = info_df[\"Prod_mode_Fission product\"].replace(float(\"NaN\"), False)\n",
    "info_df[\"Prod_mode_Charged particle reaction\"] = info_df[\"Prod_mode_Charged particle reaction\"].replace(float(\"NaN\"), False)\n",
    "\n",
    "info_df[\"sigm_Sn(keV)\"] = info_df[\"sigm_Sn(keV)\"].replace(\"sy\", float(\"NaN\"))\n",
    "info_df[\"sigm_Sp(keV)\"] = info_df[\"sigm_Sp(keV)\"].replace(\"sy\", float(\"NaN\"))\n",
    "\n",
    "info_df[\"Abundance\"] = info_df[\"Abundance\"].replace(\"100\\xa0%\", float(100.0))"
   ]
  },
  {
   "cell_type": "code",
   "execution_count": null,
   "metadata": {},
   "outputs": [],
   "source": [
    "info_df[\"Jp\"] = info_df[\"Jp\"].astype(str)\n",
    "info_df[\"E(level)\"] = info_df[\"E(level)\"].astype(str)"
   ]
  },
  {
   "cell_type": "code",
   "execution_count": null,
   "metadata": {},
   "outputs": [],
   "source": [
    "info_df.to_parquet(\"ig_db/info_all.pq\")"
   ]
  }
 ]
}