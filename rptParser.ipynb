{
 "metadata": {
  "language_info": {
   "codemirror_mode": {
    "name": "ipython",
    "version": 3
   },
   "file_extension": ".py",
   "mimetype": "text/x-python",
   "name": "python",
   "nbconvert_exporter": "python",
   "pygments_lexer": "ipython3",
   "version": "3.6.9-final"
  },
  "orig_nbformat": 2,
  "kernelspec": {
   "name": "python3",
   "display_name": "Python 3",
   "language": "python"
  }
 },
 "nbformat": 4,
 "nbformat_minor": 2,
 "cells": [
  {
   "cell_type": "code",
   "execution_count": 238,
   "metadata": {},
   "outputs": [],
   "source": [
    "import glob\n",
    "import os\n",
    "import pandas as pd\n",
    "from pathlib import Path\n",
    "from datetime import datetime"
   ]
  },
  {
   "cell_type": "code",
   "execution_count": 239,
   "metadata": {},
   "outputs": [],
   "source": [
    "def parse_RPT(rpt_file):\n",
    "    header = {}\n",
    "    #data = {}\n",
    "    my_file = open(rpt_file, 'r')\n",
    "    lines = my_file.readlines()[9:]\n",
    "    #with open(rpt_file, 'r') as f_in:\n",
    "    #    lines = filter(None, (line.rstrip() for line in f_in))\n",
    "\n",
    "    i = 0\n",
    "    for line in lines:\n",
    "        \n",
    "        if line.isspace():\n",
    "            continue\n",
    "        print(\"THIS line is\")\n",
    "        print(line)\n",
    "\n",
    "        #while not \"Bkgnd\" in line:\n",
    "        if \"Bkgnd\" in line:\n",
    "            i += 1\n",
    "        if i == 0:\n",
    "            try:\n",
    "                new_key, new_val = (''.join(mystr.split())).split(':', maxsplit=1)\n",
    "                header.update(new_key = new_val)\n",
    "                continue\n",
    "            except:\n",
    "                continue\n",
    "\n",
    "        if \"data\" not in locals():\n",
    "            #print(\"split line is\")\n",
    "            #print(line.split())\n",
    "            data = dict.fromkeys(line.split())\n",
    "            for key in data:\n",
    "                data[key] = []\n",
    "            #print(\"data is\")\n",
    "            #print(data)\n",
    "            continue\n",
    "\n",
    "        if \"Bkgnd\" in line:\n",
    "            continue\n",
    "        j = 0\n",
    "        #for j in range(len(list(data.keys()))):\n",
    "        for key in data:\n",
    "            #print(list(data.keys())[j])\n",
    "            #print(line)\n",
    "            try:\n",
    "                new_value = line.split()[j]\n",
    "            except:\n",
    "                continue\n",
    "            if len(line.split()) == len(list(data.keys())):\n",
    "                (data[key]).append(line.split()[j])\n",
    "            j += 1\n",
    "            #data[list(data.keys())[j]].append(line.split()[j]) \n",
    "            #data.update(list(data.keys())[j] = line.split()[j])\n",
    "\n",
    "    print(data)\n",
    "    return header, data"
   ]
  },
  {
   "cell_type": "code",
   "execution_count": 240,
   "metadata": {},
   "outputs": [],
   "source": [
    "if not os.path.isdir(\"raw_reports\"):\n",
    "    raise Exception(\"Folder 'raw_reports' not found. Consider creating it and moving RPT files there.\")"
   ]
  },
  {
   "cell_type": "code",
   "execution_count": 241,
   "metadata": {},
   "outputs": [],
   "source": [
    "Path(\"./parsed_reports\").mkdir(parents=True, exist_ok=True)\n",
    "#Path(\"./parsed_reports/xlsx\").mkdir(parents=True, exist_ok=True)"
   ]
  },
  {
   "cell_type": "code",
   "execution_count": 242,
   "metadata": {
    "tags": []
   },
   "outputs": [
    {
     "output_type": "stream",
     "name": "stdout",
     "text": [
      "THIS line is\nSample Title                    :                                        \n\nTHIS line is\nSample Description              :                                 \n\nTHIS line is\nSample Identification           : 1               \n\nTHIS line is\nSample Type                     : 0               \n\nTHIS line is\nSample Geometry                 : 30              \n\nTHIS line is\nPeak Locate Threshold           :  3.00\n\nTHIS line is\nPeak Locate Range (in channels) :     1 - 16384\n\nTHIS line is\nPeak Area Range (in channels)   :     1 - 16384\n\nTHIS line is\nIdentification Energy Tolerance :    1.000 keV\n\nTHIS line is\nSample Size                     :  1.000E+000 nuclei  \n\nTHIS line is\nSample Taken On                 : 26.10.2020  9:30:00   \n\nTHIS line is\nAcquisition Started             : 1.12.2020  11:22:14   \n\nTHIS line is\nLive Time                       :      312.6 seconds\n\nTHIS line is\nReal Time                       :      321.4 seconds\n\nTHIS line is\nDead Time                       :   2.75 %\n\nTHIS line is\n              Energy Calibration Used Done On       : 29.3.2017 \n\nTHIS line is\n              Efficiency Calibration Used Done On   : 1.11.2011 \n\nTHIS line is\n              Efficiency ID                         : 4pi MBSS1 858-01       \n\nTHIS line is\n\fPeak Analysis Report                    2.12.2020  10:56:37             Page **\n\nTHIS line is\n*******************************************************************************\n\nTHIS line is\n*****  S T A N D A R D   V M S   P E A K   A N A L Y S I S   R E P O R T  *****\n\nTHIS line is\n*******************************************************************************\n\nTHIS line is\n        Configuration Title:                                         \n\nTHIS line is\n        Spectrum Title:                                       \n\nTHIS line is\n        Peak Analysis Performed on:  2.12.20  10:56:37   \n\nTHIS line is\n        Peak Analysis From Channel:      1    To Channel:    16384\n\nTHIS line is\n        Peak Search Sensitivity:      3.00    Gaussian Sensitivity: 10.00\n\nTHIS line is\n        Max Iterations: 10  Fit Singlets: No  Critical Level Test: Yes\n\nTHIS line is\n        Use Fixed FWHM: No  FWHM Reject:  No  FWHM Reject Ratio:  0.00 \n\nTHIS line is\n        Peak Fit Engine Name: PANOLIN1        Continuum Type: STEP   \n\nTHIS line is\n   Pk IT  Energy      Area   Bkgnd  FWHM Channel  Left  PW  Cts/Sec  %err   Fit\n\nTHIS line is\n    1  0    25.27      786     836  0.56  143.62   139  11 2.5E+000   7.1   0.0\n\nTHIS line is\n M  2  8    73.14      268    4390  1.02  414.30   408  29 8.6E-001  22.3   1.3\n\nTHIS line is\n m  3  8    75.05    53755    3929  1.02  425.09   408  29 1.7E+002   0.4   1.3\n\nTHIS line is\n    4  0    79.80      185    1905  0.72  451.98   447  13 5.9E-001  39.1   0.0\n\nTHIS line is\n    5  0    95.02     3650    3147  1.15  538.07   529  18 1.2E+001   3.2   0.0\n\nTHIS line is\n M  6  8    98.83     6987    3213  1.11  559.62   550  63 2.2E+001   1.4   1.3\n\nTHIS line is\n m  7  8   101.21      237    2919  1.12  573.06   550  63 7.6E-001  18.1   1.3\n\nTHIS line is\n m  8  8   104.14      607    2765  1.12  589.62   550  63 1.9E+000   7.8   1.3\n\nTHIS line is\n m  9  8   106.48      751    2635  1.13  602.89   550  63 2.4E+000   6.5   1.3\n\nTHIS line is\n M 10  9   110.75      749    2545  1.09  627.00   618  24 2.4E+000  18.6   0.9\n\nTHIS line is\n m 11  9   111.60     1879    2719  1.09  631.83   618  24 6.0E+000   8.4   0.9\n\nTHIS line is\n   12  0   114.90      842    2729  1.07  650.50   642  21 2.7E+000  12.3   0.0\n\nTHIS line is\n   13  0   150.05     1054    2435  1.05  849.24   837  25 3.4E+000  10.0   0.0\n\nTHIS line is\n M 14  5   166.23      470    1675  1.01  940.77   933  32 1.5E+000   9.2   0.6\n\nTHIS line is\n m 15  5   169.09      188    1578  1.01  956.91   933  32 6.0E-001  18.6   0.6\n\nTHIS line is\n   16  0   181.23      870    2306  1.16 1025.60  1012  27 2.8E+000  12.0   0.0\n\nTHIS line is\n M 17  7   190.64     1457    1495  1.08 1078.78  1066  30 4.7E+000   3.6   1.1\n\nTHIS line is\n m 18  7   192.29      509    1436  1.09 1088.17  1066  30 1.6E+000   7.6   1.1\n\nTHIS line is\n   19  0   196.63      166    1487  0.45 1112.71  1102  18 5.3E-001  42.7   0.0\n\nTHIS line is\n   20  0   201.52      260    1071  1.19 1140.33  1135  14 8.3E-001  21.8   0.0\n\nTHIS line is\n   21  0   210.86     1129    1875  1.29 1193.18  1181  26 3.6E+000   8.5   0.0\n\nTHIS line is\n M 22  6   218.58      254    1191  0.97 1236.83  1228  28 8.1E-001  13.4   0.5\n\nTHIS line is\n m 23  6   220.73      113    1072  0.98 1248.97  1228  28 3.6E-001  25.5   0.5\n\nTHIS line is\n M 24  6   228.44      329    1158  1.22 1292.59  1285  39 1.1E+000  11.2   0.9\n\nTHIS line is\n m 25  6   231.87      269    1285  1.22 1311.99  1285  39 8.6E-001  12.6   0.9\n\nTHIS line is\n M 26  5   255.56      343     986  1.09 1445.95  1438  37 1.1E+000   9.4   0.9\n\nTHIS line is\n m 27  5   258.65      818    1052  1.09 1463.43  1438  37 2.6E+000   5.1   0.9\n\nTHIS line is\n   28  0   277.78     1718    1253  1.88 1571.61  1558  28 5.5E+000   5.0   0.0\n\nTHIS line is\n M 29  5   304.44      682     908  1.20 1722.37  1707  46 2.2E+000   5.3   1.2\n\nTHIS line is\n m 30  5   307.13     3178     801  1.21 1737.57  1707  46 1.0E+001   2.0   1.2\n\nTHIS line is\n   31  0   312.28      883     969  0.97 1766.70  1755  21 2.8E+000   7.5   0.0\n\nTHIS line is\n   32  0   317.01      365     853  1.16 1793.44  1786  19 1.2E+000  15.7   0.0\n\nTHIS line is\n   33  0   343.88      427     808  1.05 1945.42  1931  29 1.4E+000  15.1   0.0\n\nTHIS line is\n   34  0   358.08      956     809  1.12 2025.74  2012  29 3.1E+000   7.2   0.0\n\nTHIS line is\n   35  0   396.63      109     392  1.09 2243.76  2237  15 3.5E-001  32.3   0.0\n\nTHIS line is\n   36  0   402.73      281     479  1.27 2278.21  2269  19 9.0E-001  15.5   0.0\n\nTHIS line is\n   37  0   407.89      400     655  1.07 2307.42  2300  23 1.3E+000  13.6   0.0\n\nTHIS line is\n   38  0   435.00      723     729  1.47 2460.71  2444  28 2.3E+000   8.8   0.0\n\nTHIS line is\n\fPeak Analysis Report                    2.12.2020  10:56:37             Page **\n\nTHIS line is\n   Pk IT  Energy      Area   Bkgnd  FWHM Channel  Left  PW  Cts/Sec  %err   Fit\n\nTHIS line is\n M 39  4   452.38      178     387  1.27 2559.00  2551  30 5.7E-001  13.1   1.0\n\nTHIS line is\n m 40  4   454.02      595     508  1.27 2568.29  2551  30 1.9E+000   5.7   1.0\n\nTHIS line is\n M 41  5   461.11      188     532  1.31 2608.38  2598  33 6.0E-001  13.2   0.9\n\nTHIS line is\n m 42  5   462.84      652     554  1.31 2618.16  2598  33 2.1E+000   5.5   0.9\n\nTHIS line is\n   43  0   467.57      127     443  0.80 2644.92  2635  20 4.1E-001  32.2   0.0\n\nTHIS line is\n   44  0   506.03      186     310  1.27 2862.43  2853  19 5.9E-001  19.0   0.0\n\nTHIS line is\n   45  0   530.59      159     422  0.75 3001.34  2991  23 5.1E-001  26.9   0.0\n\nTHIS line is\n   46  0   535.04       53     298  0.55 3026.51  3019  16 1.7E-001  58.2   0.0\n\nTHIS line is\n M 47  8   546.93      119     497  1.04 3093.73  3084  40 3.8E-001  18.6   1.8\n\nTHIS line is\n m 48  8   551.13       65     266  1.04 3117.45  3084  40 2.1E-001  24.8   1.8\n\nTHIS line is\n   49  0   566.02      302     456  1.39 3201.67  3189  27 9.7E-001  15.9   0.0\n\nTHIS line is\n   50  0   590.45      512     489  1.26 3339.83  3324  29 1.6E+000  10.3   0.0\n\nTHIS line is\n   51  0   621.40      160     348  0.26 3514.86  3504  23 5.1E-001  24.4   0.0\n\nTHIS line is\n   52  0   631.39       50     238  0.18 3571.39  3563  16 1.6E-001  54.9   0.0\n\nTHIS line is\n   53  0   641.21      566     497  1.53 3626.91  3613  32 1.8E+000   9.8   0.0\n\nTHIS line is\n   54  0   647.68      251     440  1.16 3663.50  3649  30 8.0E-001  19.3   0.0\n\nTHIS line is\n M 55  5   657.79      193     311  1.45 3720.69  3707  49 6.2E-001  10.9   1.2\n\nTHIS line is\n m 56  5   662.08      139     335  1.45 3744.91  3707  49 4.4E-001  14.3   1.2\n\nTHIS line is\n M 57  5   738.72       56     250  1.56 4178.34  4171  46 1.8E-001  28.5   0.8\n\nTHIS line is\n m 58  5   742.81      327     265  1.57 4201.46  4171  46 1.0E+000   7.3   0.8\n\nTHIS line is\n   59  0   748.33       82     188  0.21 4232.71  4223  19 2.6E-001  32.9   0.0\n\nTHIS line is\n   60  0   767.06      505     260  1.25 4338.60  4321  34 1.6E+000   8.6   0.0\n\nTHIS line is\n   61  0   793.31      145     239  0.32 4487.06  4475  25 4.6E-001  23.2   0.0\n\nTHIS line is\n   62  0   812.67       48     160  0.59 4596.55  4589  17 1.5E-001  48.9   0.0\n\nTHIS line is\n   63  0   818.80       48     187  0.23 4631.23  4622  20 1.5E-001  54.9   0.0\n\nTHIS line is\n M 64  8   839.54      152     252  1.60 4748.50  4738  66 4.9E-001  12.2   1.2\n\nTHIS line is\n m 65  8   844.02      142     262  1.61 4773.84  4738  66 4.6E-001  12.3   1.2\n\nTHIS line is\n m 66  8   846.92      734     230  1.61 4790.23  4738  66 2.3E+000   4.2   1.2\n\nTHIS line is\n   67  0   857.18       38     145  0.60 4848.26  4840  17 1.2E-001  58.2   0.0\n\nTHIS line is\n M 68  9   871.63       45     176  1.78 4930.00  4922  47 1.4E-001  30.2   0.8\n\nTHIS line is\n m 69  9   875.75      153     204  1.78 4953.31  4922  47 4.9E-001  11.8   0.8\n\nTHIS line is\n M 70  6   884.02      416     245  1.43 5000.04  4989  46 1.3E+000   6.1   1.0\n\nTHIS line is\n m 71  6   888.10       78     190  1.43 5023.13  4989  46 2.5E-001  18.2   1.0\n\nTHIS line is\n   72  0   894.59      144     199  0.80 5059.84  5043  29 4.6E-001  22.7   0.0\n\nTHIS line is\n   73  0   912.45      272     201  1.18 5160.85  5148  31 8.7E-001  13.1   0.0\n\nTHIS line is\n   74  0   918.60      527     181  1.07 5195.61  5183  27 1.7E+000   6.9   0.0\n\nTHIS line is\n   75  0   933.13      123     220  0.27 5277.80  5267  28 3.9E-001  27.1   0.0\n\nTHIS line is\n M 76  6   943.16      237     131  1.99 5334.49  5322  55 7.6E-001   7.9   0.8\n\nTHIS line is\n m 77  6   947.87      155     172  1.99 5361.16  5322  55 5.0E-001  10.9   0.8\n\nTHIS line is\n   78  0   953.43      117     103  0.53 5392.57  5384  21 3.7E-001  19.1   0.0\n\nTHIS line is\n   79  0   963.92       52      86  0.70 5451.94  5443  18 1.7E-001  34.7   0.0\n\nTHIS line is\n M 80  7  1009.37      377     119  1.61 5708.92  5691  45 1.2E+000   5.9   0.8\n\nTHIS line is\n m 81  7  1012.18      106     119  1.62 5724.84  5691  45 3.4E-001  13.4   0.8\n\nTHIS line is\n   82  0  1031.83      417     173  1.77 5835.96  5819  33 1.3E+000   8.7   0.0\n\nTHIS line is\n   83  0  1078.51       67      83  0.28 6099.95  6091  19 2.2E-001  28.0   0.0\n\nTHIS line is\n   84  0  1204.41       61      96  0.24 6811.94  6802  20 2.0E-001  32.5   0.0\n\nTHIS line is\n   85  0  1248.19      272      88  2.00 7059.53  7047  25 8.7E-001   9.2   0.0\n\nTHIS line is\n   86  0  1323.87       23      49  0.24 7487.54  7479  18 7.4E-002  59.1   0.0\n\nTHIS line is\n   87  0  1384.16      186     104  1.90 7828.47  7816  25 6.0E-001  13.4   0.0\n\nTHIS line is\n   88  0  1436.06      605      61  1.73 8122.00  8106  33 1.9E+000   5.0   0.0\n\nTHIS line is\n   89  0  1525.13       49      35  0.33 8625.73  8616  20 1.6E-001  26.7   0.0\n\nTHIS line is\n\fPeak Analysis Report                    2.12.2020  10:56:37             Page **\n\nTHIS line is\n   Pk IT  Energy      Area   Bkgnd  FWHM Channel  Left  PW  Cts/Sec  %err   Fit\n\nTHIS line is\n   90  0  1678.30       19      34  0.18 9491.94  9482  20 6.0E-002  63.1   0.0\n\nTHIS line is\n   91  0  1768.85       88      36  0.49 10004.0  9995  21 2.8E-001  16.6   0.0\n\nTHIS line is\n   92  0  2016.86       55      34  0.44 11406.5 11397  20 1.8E-001  24.3   0.0\n\nTHIS line is\n   93  0  2219.41       66      13  0.29 12552.0 12542  22 2.1E-001  16.4   0.0\n\nTHIS line is\n   94  0  2393.78       24       5  0.31 13538.1 13528  22 7.6E-002  27.9   0.0\n\nTHIS line is\n   95  0  2571.99       17      11  0.69 14545.9 14535  22 5.5E-002  44.6   0.0\n\nTHIS line is\n   96  0  2641.65       45       3  0.36 14939.9 14929  22 1.4E-001  16.6   0.0\n\nTHIS line is\nM = First peak in a multiplet region\n\nTHIS line is\nm = Other peak in a multiplet region\n\nTHIS line is\nF = Fitted singlet\n\nTHIS line is\nErrors quoted at  1.000 sigma\n\n{'Pk': ['1', '4', '5', '12', '13', '16', '19', '20', '21', '28', '31', '32', '33', '34', '35', '36', '37', '38', '43', '44', '45', '46', '49', '50', '51', '52', '53', '54', '59', '60', '61', '62', '63', '67', '72', '73', '74', '75', '78', '79', '82', '83', '84', '85', '86', '87', '88', '89', '90', '91', '92', '93', '94', '95', '96'], 'IT': ['0', '0', '0', '0', '0', '0', '0', '0', '0', '0', '0', '0', '0', '0', '0', '0', '0', '0', '0', '0', '0', '0', '0', '0', '0', '0', '0', '0', '0', '0', '0', '0', '0', '0', '0', '0', '0', '0', '0', '0', '0', '0', '0', '0', '0', '0', '0', '0', '0', '0', '0', '0', '0', '0', '0'], 'Energy': ['25.27', '79.80', '95.02', '114.90', '150.05', '181.23', '196.63', '201.52', '210.86', '277.78', '312.28', '317.01', '343.88', '358.08', '396.63', '402.73', '407.89', '435.00', '467.57', '506.03', '530.59', '535.04', '566.02', '590.45', '621.40', '631.39', '641.21', '647.68', '748.33', '767.06', '793.31', '812.67', '818.80', '857.18', '894.59', '912.45', '918.60', '933.13', '953.43', '963.92', '1031.83', '1078.51', '1204.41', '1248.19', '1323.87', '1384.16', '1436.06', '1525.13', '1678.30', '1768.85', '2016.86', '2219.41', '2393.78', '2571.99', '2641.65'], 'Area': ['786', '185', '3650', '842', '1054', '870', '166', '260', '1129', '1718', '883', '365', '427', '956', '109', '281', '400', '723', '127', '186', '159', '53', '302', '512', '160', '50', '566', '251', '82', '505', '145', '48', '48', '38', '144', '272', '527', '123', '117', '52', '417', '67', '61', '272', '23', '186', '605', '49', '19', '88', '55', '66', '24', '17', '45'], 'Bkgnd': ['836', '1905', '3147', '2729', '2435', '2306', '1487', '1071', '1875', '1253', '969', '853', '808', '809', '392', '479', '655', '729', '443', '310', '422', '298', '456', '489', '348', '238', '497', '440', '188', '260', '239', '160', '187', '145', '199', '201', '181', '220', '103', '86', '173', '83', '96', '88', '49', '104', '61', '35', '34', '36', '34', '13', '5', '11', '3'], 'FWHM': ['0.56', '0.72', '1.15', '1.07', '1.05', '1.16', '0.45', '1.19', '1.29', '1.88', '0.97', '1.16', '1.05', '1.12', '1.09', '1.27', '1.07', '1.47', '0.80', '1.27', '0.75', '0.55', '1.39', '1.26', '0.26', '0.18', '1.53', '1.16', '0.21', '1.25', '0.32', '0.59', '0.23', '0.60', '0.80', '1.18', '1.07', '0.27', '0.53', '0.70', '1.77', '0.28', '0.24', '2.00', '0.24', '1.90', '1.73', '0.33', '0.18', '0.49', '0.44', '0.29', '0.31', '0.69', '0.36'], 'Channel': ['143.62', '451.98', '538.07', '650.50', '849.24', '1025.60', '1112.71', '1140.33', '1193.18', '1571.61', '1766.70', '1793.44', '1945.42', '2025.74', '2243.76', '2278.21', '2307.42', '2460.71', '2644.92', '2862.43', '3001.34', '3026.51', '3201.67', '3339.83', '3514.86', '3571.39', '3626.91', '3663.50', '4232.71', '4338.60', '4487.06', '4596.55', '4631.23', '4848.26', '5059.84', '5160.85', '5195.61', '5277.80', '5392.57', '5451.94', '5835.96', '6099.95', '6811.94', '7059.53', '7487.54', '7828.47', '8122.00', '8625.73', '9491.94', '10004.0', '11406.5', '12552.0', '13538.1', '14545.9', '14939.9'], 'Left': ['139', '447', '529', '642', '837', '1012', '1102', '1135', '1181', '1558', '1755', '1786', '1931', '2012', '2237', '2269', '2300', '2444', '2635', '2853', '2991', '3019', '3189', '3324', '3504', '3563', '3613', '3649', '4223', '4321', '4475', '4589', '4622', '4840', '5043', '5148', '5183', '5267', '5384', '5443', '5819', '6091', '6802', '7047', '7479', '7816', '8106', '8616', '9482', '9995', '11397', '12542', '13528', '14535', '14929'], 'PW': ['11', '13', '18', '21', '25', '27', '18', '14', '26', '28', '21', '19', '29', '29', '15', '19', '23', '28', '20', '19', '23', '16', '27', '29', '23', '16', '32', '30', '19', '34', '25', '17', '20', '17', '29', '31', '27', '28', '21', '18', '33', '19', '20', '25', '18', '25', '33', '20', '20', '21', '20', '22', '22', '22', '22'], 'Cts/Sec': ['2.5E+000', '5.9E-001', '1.2E+001', '2.7E+000', '3.4E+000', '2.8E+000', '5.3E-001', '8.3E-001', '3.6E+000', '5.5E+000', '2.8E+000', '1.2E+000', '1.4E+000', '3.1E+000', '3.5E-001', '9.0E-001', '1.3E+000', '2.3E+000', '4.1E-001', '5.9E-001', '5.1E-001', '1.7E-001', '9.7E-001', '1.6E+000', '5.1E-001', '1.6E-001', '1.8E+000', '8.0E-001', '2.6E-001', '1.6E+000', '4.6E-001', '1.5E-001', '1.5E-001', '1.2E-001', '4.6E-001', '8.7E-001', '1.7E+000', '3.9E-001', '3.7E-001', '1.7E-001', '1.3E+000', '2.2E-001', '2.0E-001', '8.7E-001', '7.4E-002', '6.0E-001', '1.9E+000', '1.6E-001', '6.0E-002', '2.8E-001', '1.8E-001', '2.1E-001', '7.6E-002', '5.5E-002', '1.4E-001'], '%err': ['7.1', '39.1', '3.2', '12.3', '10.0', '12.0', '42.7', '21.8', '8.5', '5.0', '7.5', '15.7', '15.1', '7.2', '32.3', '15.5', '13.6', '8.8', '32.2', '19.0', '26.9', '58.2', '15.9', '10.3', '24.4', '54.9', '9.8', '19.3', '32.9', '8.6', '23.2', '48.9', '54.9', '58.2', '22.7', '13.1', '6.9', '27.1', '19.1', '34.7', '8.7', '28.0', '32.5', '9.2', '59.1', '13.4', '5.0', '26.7', '63.1', '16.6', '24.3', '16.4', '27.9', '44.6', '16.6'], 'Fit': ['0.0', '0.0', '0.0', '0.0', '0.0', '0.0', '0.0', '0.0', '0.0', '0.0', '0.0', '0.0', '0.0', '0.0', '0.0', '0.0', '0.0', '0.0', '0.0', '0.0', '0.0', '0.0', '0.0', '0.0', '0.0', '0.0', '0.0', '0.0', '0.0', '0.0', '0.0', '0.0', '0.0', '0.0', '0.0', '0.0', '0.0', '0.0', '0.0', '0.0', '0.0', '0.0', '0.0', '0.0', '0.0', '0.0', '0.0', '0.0', '0.0', '0.0', '0.0', '0.0', '0.0', '0.0', '0.0']}\n"
     ]
    }
   ],
   "source": [
    "time_now = datetime.today().strftime('%d%m%Y')\n",
    "for rpt_file in glob.iglob(\"./raw_reports/*.RPT\"):\n",
    "    header, data = parse_RPT(rpt_file)\n",
    "\n",
    "    #rpt_df = pd.DataFrame([header, data])\n",
    "    meta_df = pd.DataFrame(header)\n",
    "    rpt_df = pd.DataFrame(data)\n",
    "    name = (rpt_file.split('.')[-2]).split('/')[-1]\n",
    "    rpt_df.to_csv(f\"parsed_reports/{name}.csv\")\n",
    "    #with pd.ExcelWriter(\"parsed_reports/output.xlsx\", mode='a') as writer:\n",
    "        #rpt_df.to_excel(writer, sheet_name=name)\n",
    "    #rpt_df.to_excel(\"parsed_reports/output.xlsx\", mode='a', sheet_name = name)"
   ]
  },
  {
   "cell_type": "code",
   "execution_count": 243,
   "metadata": {},
   "outputs": [
    {
     "output_type": "execute_result",
     "data": {
      "text/plain": [
       "    Pk IT   Energy  Area Bkgnd  FWHM  Channel   Left  PW   Cts/Sec  %err  Fit\n",
       "0    1  0    25.27   786   836  0.56   143.62    139  11  2.5E+000   7.1  0.0\n",
       "1    4  0    79.80   185  1905  0.72   451.98    447  13  5.9E-001  39.1  0.0\n",
       "2    5  0    95.02  3650  3147  1.15   538.07    529  18  1.2E+001   3.2  0.0\n",
       "3   12  0   114.90   842  2729  1.07   650.50    642  21  2.7E+000  12.3  0.0\n",
       "4   13  0   150.05  1054  2435  1.05   849.24    837  25  3.4E+000  10.0  0.0\n",
       "5   16  0   181.23   870  2306  1.16  1025.60   1012  27  2.8E+000  12.0  0.0\n",
       "6   19  0   196.63   166  1487  0.45  1112.71   1102  18  5.3E-001  42.7  0.0\n",
       "7   20  0   201.52   260  1071  1.19  1140.33   1135  14  8.3E-001  21.8  0.0\n",
       "8   21  0   210.86  1129  1875  1.29  1193.18   1181  26  3.6E+000   8.5  0.0\n",
       "9   28  0   277.78  1718  1253  1.88  1571.61   1558  28  5.5E+000   5.0  0.0\n",
       "10  31  0   312.28   883   969  0.97  1766.70   1755  21  2.8E+000   7.5  0.0\n",
       "11  32  0   317.01   365   853  1.16  1793.44   1786  19  1.2E+000  15.7  0.0\n",
       "12  33  0   343.88   427   808  1.05  1945.42   1931  29  1.4E+000  15.1  0.0\n",
       "13  34  0   358.08   956   809  1.12  2025.74   2012  29  3.1E+000   7.2  0.0\n",
       "14  35  0   396.63   109   392  1.09  2243.76   2237  15  3.5E-001  32.3  0.0\n",
       "15  36  0   402.73   281   479  1.27  2278.21   2269  19  9.0E-001  15.5  0.0\n",
       "16  37  0   407.89   400   655  1.07  2307.42   2300  23  1.3E+000  13.6  0.0\n",
       "17  38  0   435.00   723   729  1.47  2460.71   2444  28  2.3E+000   8.8  0.0\n",
       "18  43  0   467.57   127   443  0.80  2644.92   2635  20  4.1E-001  32.2  0.0\n",
       "19  44  0   506.03   186   310  1.27  2862.43   2853  19  5.9E-001  19.0  0.0\n",
       "20  45  0   530.59   159   422  0.75  3001.34   2991  23  5.1E-001  26.9  0.0\n",
       "21  46  0   535.04    53   298  0.55  3026.51   3019  16  1.7E-001  58.2  0.0\n",
       "22  49  0   566.02   302   456  1.39  3201.67   3189  27  9.7E-001  15.9  0.0\n",
       "23  50  0   590.45   512   489  1.26  3339.83   3324  29  1.6E+000  10.3  0.0\n",
       "24  51  0   621.40   160   348  0.26  3514.86   3504  23  5.1E-001  24.4  0.0\n",
       "25  52  0   631.39    50   238  0.18  3571.39   3563  16  1.6E-001  54.9  0.0\n",
       "26  53  0   641.21   566   497  1.53  3626.91   3613  32  1.8E+000   9.8  0.0\n",
       "27  54  0   647.68   251   440  1.16  3663.50   3649  30  8.0E-001  19.3  0.0\n",
       "28  59  0   748.33    82   188  0.21  4232.71   4223  19  2.6E-001  32.9  0.0\n",
       "29  60  0   767.06   505   260  1.25  4338.60   4321  34  1.6E+000   8.6  0.0\n",
       "30  61  0   793.31   145   239  0.32  4487.06   4475  25  4.6E-001  23.2  0.0\n",
       "31  62  0   812.67    48   160  0.59  4596.55   4589  17  1.5E-001  48.9  0.0\n",
       "32  63  0   818.80    48   187  0.23  4631.23   4622  20  1.5E-001  54.9  0.0\n",
       "33  67  0   857.18    38   145  0.60  4848.26   4840  17  1.2E-001  58.2  0.0\n",
       "34  72  0   894.59   144   199  0.80  5059.84   5043  29  4.6E-001  22.7  0.0\n",
       "35  73  0   912.45   272   201  1.18  5160.85   5148  31  8.7E-001  13.1  0.0\n",
       "36  74  0   918.60   527   181  1.07  5195.61   5183  27  1.7E+000   6.9  0.0\n",
       "37  75  0   933.13   123   220  0.27  5277.80   5267  28  3.9E-001  27.1  0.0\n",
       "38  78  0   953.43   117   103  0.53  5392.57   5384  21  3.7E-001  19.1  0.0\n",
       "39  79  0   963.92    52    86  0.70  5451.94   5443  18  1.7E-001  34.7  0.0\n",
       "40  82  0  1031.83   417   173  1.77  5835.96   5819  33  1.3E+000   8.7  0.0\n",
       "41  83  0  1078.51    67    83  0.28  6099.95   6091  19  2.2E-001  28.0  0.0\n",
       "42  84  0  1204.41    61    96  0.24  6811.94   6802  20  2.0E-001  32.5  0.0\n",
       "43  85  0  1248.19   272    88  2.00  7059.53   7047  25  8.7E-001   9.2  0.0\n",
       "44  86  0  1323.87    23    49  0.24  7487.54   7479  18  7.4E-002  59.1  0.0\n",
       "45  87  0  1384.16   186   104  1.90  7828.47   7816  25  6.0E-001  13.4  0.0\n",
       "46  88  0  1436.06   605    61  1.73  8122.00   8106  33  1.9E+000   5.0  0.0\n",
       "47  89  0  1525.13    49    35  0.33  8625.73   8616  20  1.6E-001  26.7  0.0\n",
       "48  90  0  1678.30    19    34  0.18  9491.94   9482  20  6.0E-002  63.1  0.0\n",
       "49  91  0  1768.85    88    36  0.49  10004.0   9995  21  2.8E-001  16.6  0.0\n",
       "50  92  0  2016.86    55    34  0.44  11406.5  11397  20  1.8E-001  24.3  0.0\n",
       "51  93  0  2219.41    66    13  0.29  12552.0  12542  22  2.1E-001  16.4  0.0\n",
       "52  94  0  2393.78    24     5  0.31  13538.1  13528  22  7.6E-002  27.9  0.0\n",
       "53  95  0  2571.99    17    11  0.69  14545.9  14535  22  5.5E-002  44.6  0.0\n",
       "54  96  0  2641.65    45     3  0.36  14939.9  14929  22  1.4E-001  16.6  0.0"
      ],
      "text/html": "<div>\n<style scoped>\n    .dataframe tbody tr th:only-of-type {\n        vertical-align: middle;\n    }\n\n    .dataframe tbody tr th {\n        vertical-align: top;\n    }\n\n    .dataframe thead th {\n        text-align: right;\n    }\n</style>\n<table border=\"1\" class=\"dataframe\">\n  <thead>\n    <tr style=\"text-align: right;\">\n      <th></th>\n      <th>Pk</th>\n      <th>IT</th>\n      <th>Energy</th>\n      <th>Area</th>\n      <th>Bkgnd</th>\n      <th>FWHM</th>\n      <th>Channel</th>\n      <th>Left</th>\n      <th>PW</th>\n      <th>Cts/Sec</th>\n      <th>%err</th>\n      <th>Fit</th>\n    </tr>\n  </thead>\n  <tbody>\n    <tr>\n      <th>0</th>\n      <td>1</td>\n      <td>0</td>\n      <td>25.27</td>\n      <td>786</td>\n      <td>836</td>\n      <td>0.56</td>\n      <td>143.62</td>\n      <td>139</td>\n      <td>11</td>\n      <td>2.5E+000</td>\n      <td>7.1</td>\n      <td>0.0</td>\n    </tr>\n    <tr>\n      <th>1</th>\n      <td>4</td>\n      <td>0</td>\n      <td>79.80</td>\n      <td>185</td>\n      <td>1905</td>\n      <td>0.72</td>\n      <td>451.98</td>\n      <td>447</td>\n      <td>13</td>\n      <td>5.9E-001</td>\n      <td>39.1</td>\n      <td>0.0</td>\n    </tr>\n    <tr>\n      <th>2</th>\n      <td>5</td>\n      <td>0</td>\n      <td>95.02</td>\n      <td>3650</td>\n      <td>3147</td>\n      <td>1.15</td>\n      <td>538.07</td>\n      <td>529</td>\n      <td>18</td>\n      <td>1.2E+001</td>\n      <td>3.2</td>\n      <td>0.0</td>\n    </tr>\n    <tr>\n      <th>3</th>\n      <td>12</td>\n      <td>0</td>\n      <td>114.90</td>\n      <td>842</td>\n      <td>2729</td>\n      <td>1.07</td>\n      <td>650.50</td>\n      <td>642</td>\n      <td>21</td>\n      <td>2.7E+000</td>\n      <td>12.3</td>\n      <td>0.0</td>\n    </tr>\n    <tr>\n      <th>4</th>\n      <td>13</td>\n      <td>0</td>\n      <td>150.05</td>\n      <td>1054</td>\n      <td>2435</td>\n      <td>1.05</td>\n      <td>849.24</td>\n      <td>837</td>\n      <td>25</td>\n      <td>3.4E+000</td>\n      <td>10.0</td>\n      <td>0.0</td>\n    </tr>\n    <tr>\n      <th>5</th>\n      <td>16</td>\n      <td>0</td>\n      <td>181.23</td>\n      <td>870</td>\n      <td>2306</td>\n      <td>1.16</td>\n      <td>1025.60</td>\n      <td>1012</td>\n      <td>27</td>\n      <td>2.8E+000</td>\n      <td>12.0</td>\n      <td>0.0</td>\n    </tr>\n    <tr>\n      <th>6</th>\n      <td>19</td>\n      <td>0</td>\n      <td>196.63</td>\n      <td>166</td>\n      <td>1487</td>\n      <td>0.45</td>\n      <td>1112.71</td>\n      <td>1102</td>\n      <td>18</td>\n      <td>5.3E-001</td>\n      <td>42.7</td>\n      <td>0.0</td>\n    </tr>\n    <tr>\n      <th>7</th>\n      <td>20</td>\n      <td>0</td>\n      <td>201.52</td>\n      <td>260</td>\n      <td>1071</td>\n      <td>1.19</td>\n      <td>1140.33</td>\n      <td>1135</td>\n      <td>14</td>\n      <td>8.3E-001</td>\n      <td>21.8</td>\n      <td>0.0</td>\n    </tr>\n    <tr>\n      <th>8</th>\n      <td>21</td>\n      <td>0</td>\n      <td>210.86</td>\n      <td>1129</td>\n      <td>1875</td>\n      <td>1.29</td>\n      <td>1193.18</td>\n      <td>1181</td>\n      <td>26</td>\n      <td>3.6E+000</td>\n      <td>8.5</td>\n      <td>0.0</td>\n    </tr>\n    <tr>\n      <th>9</th>\n      <td>28</td>\n      <td>0</td>\n      <td>277.78</td>\n      <td>1718</td>\n      <td>1253</td>\n      <td>1.88</td>\n      <td>1571.61</td>\n      <td>1558</td>\n      <td>28</td>\n      <td>5.5E+000</td>\n      <td>5.0</td>\n      <td>0.0</td>\n    </tr>\n    <tr>\n      <th>10</th>\n      <td>31</td>\n      <td>0</td>\n      <td>312.28</td>\n      <td>883</td>\n      <td>969</td>\n      <td>0.97</td>\n      <td>1766.70</td>\n      <td>1755</td>\n      <td>21</td>\n      <td>2.8E+000</td>\n      <td>7.5</td>\n      <td>0.0</td>\n    </tr>\n    <tr>\n      <th>11</th>\n      <td>32</td>\n      <td>0</td>\n      <td>317.01</td>\n      <td>365</td>\n      <td>853</td>\n      <td>1.16</td>\n      <td>1793.44</td>\n      <td>1786</td>\n      <td>19</td>\n      <td>1.2E+000</td>\n      <td>15.7</td>\n      <td>0.0</td>\n    </tr>\n    <tr>\n      <th>12</th>\n      <td>33</td>\n      <td>0</td>\n      <td>343.88</td>\n      <td>427</td>\n      <td>808</td>\n      <td>1.05</td>\n      <td>1945.42</td>\n      <td>1931</td>\n      <td>29</td>\n      <td>1.4E+000</td>\n      <td>15.1</td>\n      <td>0.0</td>\n    </tr>\n    <tr>\n      <th>13</th>\n      <td>34</td>\n      <td>0</td>\n      <td>358.08</td>\n      <td>956</td>\n      <td>809</td>\n      <td>1.12</td>\n      <td>2025.74</td>\n      <td>2012</td>\n      <td>29</td>\n      <td>3.1E+000</td>\n      <td>7.2</td>\n      <td>0.0</td>\n    </tr>\n    <tr>\n      <th>14</th>\n      <td>35</td>\n      <td>0</td>\n      <td>396.63</td>\n      <td>109</td>\n      <td>392</td>\n      <td>1.09</td>\n      <td>2243.76</td>\n      <td>2237</td>\n      <td>15</td>\n      <td>3.5E-001</td>\n      <td>32.3</td>\n      <td>0.0</td>\n    </tr>\n    <tr>\n      <th>15</th>\n      <td>36</td>\n      <td>0</td>\n      <td>402.73</td>\n      <td>281</td>\n      <td>479</td>\n      <td>1.27</td>\n      <td>2278.21</td>\n      <td>2269</td>\n      <td>19</td>\n      <td>9.0E-001</td>\n      <td>15.5</td>\n      <td>0.0</td>\n    </tr>\n    <tr>\n      <th>16</th>\n      <td>37</td>\n      <td>0</td>\n      <td>407.89</td>\n      <td>400</td>\n      <td>655</td>\n      <td>1.07</td>\n      <td>2307.42</td>\n      <td>2300</td>\n      <td>23</td>\n      <td>1.3E+000</td>\n      <td>13.6</td>\n      <td>0.0</td>\n    </tr>\n    <tr>\n      <th>17</th>\n      <td>38</td>\n      <td>0</td>\n      <td>435.00</td>\n      <td>723</td>\n      <td>729</td>\n      <td>1.47</td>\n      <td>2460.71</td>\n      <td>2444</td>\n      <td>28</td>\n      <td>2.3E+000</td>\n      <td>8.8</td>\n      <td>0.0</td>\n    </tr>\n    <tr>\n      <th>18</th>\n      <td>43</td>\n      <td>0</td>\n      <td>467.57</td>\n      <td>127</td>\n      <td>443</td>\n      <td>0.80</td>\n      <td>2644.92</td>\n      <td>2635</td>\n      <td>20</td>\n      <td>4.1E-001</td>\n      <td>32.2</td>\n      <td>0.0</td>\n    </tr>\n    <tr>\n      <th>19</th>\n      <td>44</td>\n      <td>0</td>\n      <td>506.03</td>\n      <td>186</td>\n      <td>310</td>\n      <td>1.27</td>\n      <td>2862.43</td>\n      <td>2853</td>\n      <td>19</td>\n      <td>5.9E-001</td>\n      <td>19.0</td>\n      <td>0.0</td>\n    </tr>\n    <tr>\n      <th>20</th>\n      <td>45</td>\n      <td>0</td>\n      <td>530.59</td>\n      <td>159</td>\n      <td>422</td>\n      <td>0.75</td>\n      <td>3001.34</td>\n      <td>2991</td>\n      <td>23</td>\n      <td>5.1E-001</td>\n      <td>26.9</td>\n      <td>0.0</td>\n    </tr>\n    <tr>\n      <th>21</th>\n      <td>46</td>\n      <td>0</td>\n      <td>535.04</td>\n      <td>53</td>\n      <td>298</td>\n      <td>0.55</td>\n      <td>3026.51</td>\n      <td>3019</td>\n      <td>16</td>\n      <td>1.7E-001</td>\n      <td>58.2</td>\n      <td>0.0</td>\n    </tr>\n    <tr>\n      <th>22</th>\n      <td>49</td>\n      <td>0</td>\n      <td>566.02</td>\n      <td>302</td>\n      <td>456</td>\n      <td>1.39</td>\n      <td>3201.67</td>\n      <td>3189</td>\n      <td>27</td>\n      <td>9.7E-001</td>\n      <td>15.9</td>\n      <td>0.0</td>\n    </tr>\n    <tr>\n      <th>23</th>\n      <td>50</td>\n      <td>0</td>\n      <td>590.45</td>\n      <td>512</td>\n      <td>489</td>\n      <td>1.26</td>\n      <td>3339.83</td>\n      <td>3324</td>\n      <td>29</td>\n      <td>1.6E+000</td>\n      <td>10.3</td>\n      <td>0.0</td>\n    </tr>\n    <tr>\n      <th>24</th>\n      <td>51</td>\n      <td>0</td>\n      <td>621.40</td>\n      <td>160</td>\n      <td>348</td>\n      <td>0.26</td>\n      <td>3514.86</td>\n      <td>3504</td>\n      <td>23</td>\n      <td>5.1E-001</td>\n      <td>24.4</td>\n      <td>0.0</td>\n    </tr>\n    <tr>\n      <th>25</th>\n      <td>52</td>\n      <td>0</td>\n      <td>631.39</td>\n      <td>50</td>\n      <td>238</td>\n      <td>0.18</td>\n      <td>3571.39</td>\n      <td>3563</td>\n      <td>16</td>\n      <td>1.6E-001</td>\n      <td>54.9</td>\n      <td>0.0</td>\n    </tr>\n    <tr>\n      <th>26</th>\n      <td>53</td>\n      <td>0</td>\n      <td>641.21</td>\n      <td>566</td>\n      <td>497</td>\n      <td>1.53</td>\n      <td>3626.91</td>\n      <td>3613</td>\n      <td>32</td>\n      <td>1.8E+000</td>\n      <td>9.8</td>\n      <td>0.0</td>\n    </tr>\n    <tr>\n      <th>27</th>\n      <td>54</td>\n      <td>0</td>\n      <td>647.68</td>\n      <td>251</td>\n      <td>440</td>\n      <td>1.16</td>\n      <td>3663.50</td>\n      <td>3649</td>\n      <td>30</td>\n      <td>8.0E-001</td>\n      <td>19.3</td>\n      <td>0.0</td>\n    </tr>\n    <tr>\n      <th>28</th>\n      <td>59</td>\n      <td>0</td>\n      <td>748.33</td>\n      <td>82</td>\n      <td>188</td>\n      <td>0.21</td>\n      <td>4232.71</td>\n      <td>4223</td>\n      <td>19</td>\n      <td>2.6E-001</td>\n      <td>32.9</td>\n      <td>0.0</td>\n    </tr>\n    <tr>\n      <th>29</th>\n      <td>60</td>\n      <td>0</td>\n      <td>767.06</td>\n      <td>505</td>\n      <td>260</td>\n      <td>1.25</td>\n      <td>4338.60</td>\n      <td>4321</td>\n      <td>34</td>\n      <td>1.6E+000</td>\n      <td>8.6</td>\n      <td>0.0</td>\n    </tr>\n    <tr>\n      <th>30</th>\n      <td>61</td>\n      <td>0</td>\n      <td>793.31</td>\n      <td>145</td>\n      <td>239</td>\n      <td>0.32</td>\n      <td>4487.06</td>\n      <td>4475</td>\n      <td>25</td>\n      <td>4.6E-001</td>\n      <td>23.2</td>\n      <td>0.0</td>\n    </tr>\n    <tr>\n      <th>31</th>\n      <td>62</td>\n      <td>0</td>\n      <td>812.67</td>\n      <td>48</td>\n      <td>160</td>\n      <td>0.59</td>\n      <td>4596.55</td>\n      <td>4589</td>\n      <td>17</td>\n      <td>1.5E-001</td>\n      <td>48.9</td>\n      <td>0.0</td>\n    </tr>\n    <tr>\n      <th>32</th>\n      <td>63</td>\n      <td>0</td>\n      <td>818.80</td>\n      <td>48</td>\n      <td>187</td>\n      <td>0.23</td>\n      <td>4631.23</td>\n      <td>4622</td>\n      <td>20</td>\n      <td>1.5E-001</td>\n      <td>54.9</td>\n      <td>0.0</td>\n    </tr>\n    <tr>\n      <th>33</th>\n      <td>67</td>\n      <td>0</td>\n      <td>857.18</td>\n      <td>38</td>\n      <td>145</td>\n      <td>0.60</td>\n      <td>4848.26</td>\n      <td>4840</td>\n      <td>17</td>\n      <td>1.2E-001</td>\n      <td>58.2</td>\n      <td>0.0</td>\n    </tr>\n    <tr>\n      <th>34</th>\n      <td>72</td>\n      <td>0</td>\n      <td>894.59</td>\n      <td>144</td>\n      <td>199</td>\n      <td>0.80</td>\n      <td>5059.84</td>\n      <td>5043</td>\n      <td>29</td>\n      <td>4.6E-001</td>\n      <td>22.7</td>\n      <td>0.0</td>\n    </tr>\n    <tr>\n      <th>35</th>\n      <td>73</td>\n      <td>0</td>\n      <td>912.45</td>\n      <td>272</td>\n      <td>201</td>\n      <td>1.18</td>\n      <td>5160.85</td>\n      <td>5148</td>\n      <td>31</td>\n      <td>8.7E-001</td>\n      <td>13.1</td>\n      <td>0.0</td>\n    </tr>\n    <tr>\n      <th>36</th>\n      <td>74</td>\n      <td>0</td>\n      <td>918.60</td>\n      <td>527</td>\n      <td>181</td>\n      <td>1.07</td>\n      <td>5195.61</td>\n      <td>5183</td>\n      <td>27</td>\n      <td>1.7E+000</td>\n      <td>6.9</td>\n      <td>0.0</td>\n    </tr>\n    <tr>\n      <th>37</th>\n      <td>75</td>\n      <td>0</td>\n      <td>933.13</td>\n      <td>123</td>\n      <td>220</td>\n      <td>0.27</td>\n      <td>5277.80</td>\n      <td>5267</td>\n      <td>28</td>\n      <td>3.9E-001</td>\n      <td>27.1</td>\n      <td>0.0</td>\n    </tr>\n    <tr>\n      <th>38</th>\n      <td>78</td>\n      <td>0</td>\n      <td>953.43</td>\n      <td>117</td>\n      <td>103</td>\n      <td>0.53</td>\n      <td>5392.57</td>\n      <td>5384</td>\n      <td>21</td>\n      <td>3.7E-001</td>\n      <td>19.1</td>\n      <td>0.0</td>\n    </tr>\n    <tr>\n      <th>39</th>\n      <td>79</td>\n      <td>0</td>\n      <td>963.92</td>\n      <td>52</td>\n      <td>86</td>\n      <td>0.70</td>\n      <td>5451.94</td>\n      <td>5443</td>\n      <td>18</td>\n      <td>1.7E-001</td>\n      <td>34.7</td>\n      <td>0.0</td>\n    </tr>\n    <tr>\n      <th>40</th>\n      <td>82</td>\n      <td>0</td>\n      <td>1031.83</td>\n      <td>417</td>\n      <td>173</td>\n      <td>1.77</td>\n      <td>5835.96</td>\n      <td>5819</td>\n      <td>33</td>\n      <td>1.3E+000</td>\n      <td>8.7</td>\n      <td>0.0</td>\n    </tr>\n    <tr>\n      <th>41</th>\n      <td>83</td>\n      <td>0</td>\n      <td>1078.51</td>\n      <td>67</td>\n      <td>83</td>\n      <td>0.28</td>\n      <td>6099.95</td>\n      <td>6091</td>\n      <td>19</td>\n      <td>2.2E-001</td>\n      <td>28.0</td>\n      <td>0.0</td>\n    </tr>\n    <tr>\n      <th>42</th>\n      <td>84</td>\n      <td>0</td>\n      <td>1204.41</td>\n      <td>61</td>\n      <td>96</td>\n      <td>0.24</td>\n      <td>6811.94</td>\n      <td>6802</td>\n      <td>20</td>\n      <td>2.0E-001</td>\n      <td>32.5</td>\n      <td>0.0</td>\n    </tr>\n    <tr>\n      <th>43</th>\n      <td>85</td>\n      <td>0</td>\n      <td>1248.19</td>\n      <td>272</td>\n      <td>88</td>\n      <td>2.00</td>\n      <td>7059.53</td>\n      <td>7047</td>\n      <td>25</td>\n      <td>8.7E-001</td>\n      <td>9.2</td>\n      <td>0.0</td>\n    </tr>\n    <tr>\n      <th>44</th>\n      <td>86</td>\n      <td>0</td>\n      <td>1323.87</td>\n      <td>23</td>\n      <td>49</td>\n      <td>0.24</td>\n      <td>7487.54</td>\n      <td>7479</td>\n      <td>18</td>\n      <td>7.4E-002</td>\n      <td>59.1</td>\n      <td>0.0</td>\n    </tr>\n    <tr>\n      <th>45</th>\n      <td>87</td>\n      <td>0</td>\n      <td>1384.16</td>\n      <td>186</td>\n      <td>104</td>\n      <td>1.90</td>\n      <td>7828.47</td>\n      <td>7816</td>\n      <td>25</td>\n      <td>6.0E-001</td>\n      <td>13.4</td>\n      <td>0.0</td>\n    </tr>\n    <tr>\n      <th>46</th>\n      <td>88</td>\n      <td>0</td>\n      <td>1436.06</td>\n      <td>605</td>\n      <td>61</td>\n      <td>1.73</td>\n      <td>8122.00</td>\n      <td>8106</td>\n      <td>33</td>\n      <td>1.9E+000</td>\n      <td>5.0</td>\n      <td>0.0</td>\n    </tr>\n    <tr>\n      <th>47</th>\n      <td>89</td>\n      <td>0</td>\n      <td>1525.13</td>\n      <td>49</td>\n      <td>35</td>\n      <td>0.33</td>\n      <td>8625.73</td>\n      <td>8616</td>\n      <td>20</td>\n      <td>1.6E-001</td>\n      <td>26.7</td>\n      <td>0.0</td>\n    </tr>\n    <tr>\n      <th>48</th>\n      <td>90</td>\n      <td>0</td>\n      <td>1678.30</td>\n      <td>19</td>\n      <td>34</td>\n      <td>0.18</td>\n      <td>9491.94</td>\n      <td>9482</td>\n      <td>20</td>\n      <td>6.0E-002</td>\n      <td>63.1</td>\n      <td>0.0</td>\n    </tr>\n    <tr>\n      <th>49</th>\n      <td>91</td>\n      <td>0</td>\n      <td>1768.85</td>\n      <td>88</td>\n      <td>36</td>\n      <td>0.49</td>\n      <td>10004.0</td>\n      <td>9995</td>\n      <td>21</td>\n      <td>2.8E-001</td>\n      <td>16.6</td>\n      <td>0.0</td>\n    </tr>\n    <tr>\n      <th>50</th>\n      <td>92</td>\n      <td>0</td>\n      <td>2016.86</td>\n      <td>55</td>\n      <td>34</td>\n      <td>0.44</td>\n      <td>11406.5</td>\n      <td>11397</td>\n      <td>20</td>\n      <td>1.8E-001</td>\n      <td>24.3</td>\n      <td>0.0</td>\n    </tr>\n    <tr>\n      <th>51</th>\n      <td>93</td>\n      <td>0</td>\n      <td>2219.41</td>\n      <td>66</td>\n      <td>13</td>\n      <td>0.29</td>\n      <td>12552.0</td>\n      <td>12542</td>\n      <td>22</td>\n      <td>2.1E-001</td>\n      <td>16.4</td>\n      <td>0.0</td>\n    </tr>\n    <tr>\n      <th>52</th>\n      <td>94</td>\n      <td>0</td>\n      <td>2393.78</td>\n      <td>24</td>\n      <td>5</td>\n      <td>0.31</td>\n      <td>13538.1</td>\n      <td>13528</td>\n      <td>22</td>\n      <td>7.6E-002</td>\n      <td>27.9</td>\n      <td>0.0</td>\n    </tr>\n    <tr>\n      <th>53</th>\n      <td>95</td>\n      <td>0</td>\n      <td>2571.99</td>\n      <td>17</td>\n      <td>11</td>\n      <td>0.69</td>\n      <td>14545.9</td>\n      <td>14535</td>\n      <td>22</td>\n      <td>5.5E-002</td>\n      <td>44.6</td>\n      <td>0.0</td>\n    </tr>\n    <tr>\n      <th>54</th>\n      <td>96</td>\n      <td>0</td>\n      <td>2641.65</td>\n      <td>45</td>\n      <td>3</td>\n      <td>0.36</td>\n      <td>14939.9</td>\n      <td>14929</td>\n      <td>22</td>\n      <td>1.4E-001</td>\n      <td>16.6</td>\n      <td>0.0</td>\n    </tr>\n  </tbody>\n</table>\n</div>"
     },
     "metadata": {},
     "execution_count": 243
    }
   ],
   "source": [
    "rpt_df"
   ]
  },
  {
   "cell_type": "code",
   "execution_count": null,
   "metadata": {},
   "outputs": [],
   "source": []
  }
 ]
}