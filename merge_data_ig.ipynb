{
 "metadata": {
  "language_info": {
   "codemirror_mode": {
    "name": "ipython",
    "version": 3
   },
   "file_extension": ".py",
   "mimetype": "text/x-python",
   "name": "python",
   "nbconvert_exporter": "python",
   "pygments_lexer": "ipython3",
   "version": "3.8.5"
  },
  "orig_nbformat": 2,
  "kernelspec": {
   "name": "python3",
   "display_name": "Python 3.8.5 64-bit ('base': conda)",
   "metadata": {
    "interpreter": {
     "hash": "590f3899dd7b9bcfd4cbc68d67e174e21f00fe45394f2e3932fd522000967c3f"
    }
   }
  }
 },
 "nbformat": 4,
 "nbformat_minor": 2,
 "cells": [
  {
   "cell_type": "code",
   "execution_count": null,
   "metadata": {},
   "outputs": [],
   "source": [
    "import glob\n",
    "\n",
    "import pandas as pd\n",
    "import numpy as np"
   ]
  },
  {
   "cell_type": "code",
   "execution_count": null,
   "metadata": {},
   "outputs": [],
   "source": [
    "gammas_df = pd.DataFrame()\n",
    "for fname in glob.glob(\"downloads/ig_db/*.csv\"):\n",
    "    if \"info\" not in fname:\n",
    "        df = pd.read_csv(fname, index_col=0)\n",
    "        df[\"Isotope\"] = fname.split(\"/\")[-1].split(\".\")[0]\n",
    "        gammas_df = gammas_df.append(df)\n",
    "gammas_df = gammas_df.set_index(\"Isotope\", drop=True)"
   ]
  },
  {
   "cell_type": "code",
   "execution_count": null,
   "metadata": {},
   "outputs": [],
   "source": [
    "gammas_df[\"E_tab\"] = gammas_df[\"E_tab\"].replace(\"x\", float(\"NaN\"))\n",
    "gammas_df[\"E_tab\"] = gammas_df[\"E_tab\"].replace(\"56.6+x\", float(56.6))\n",
    "gammas_df[\"E_tab\"] = gammas_df[\"E_tab\"].replace(\"(1508.1)\", float(1508.1))\n",
    "gammas_df[\"E_tab\"] = gammas_df[\"E_tab\"].replace(\"(1510.6)\", float(1510.6))"
   ]
  },
  {
   "cell_type": "code",
   "execution_count": null,
   "metadata": {},
   "outputs": [],
   "source": [
    "gammas_df = gammas_df.astype(np.float32)"
   ]
  },
  {
   "cell_type": "code",
   "execution_count": null,
   "metadata": {},
   "outputs": [],
   "source": [
    "gammas_df.dtypes"
   ]
  },
  {
   "cell_type": "code",
   "execution_count": null,
   "metadata": {},
   "outputs": [],
   "source": [
    "gammas_df = gammas_df.sort_values(by=[\"E_tab\", \"Ig\"], ascending=[True, False])"
   ]
  },
  {
   "cell_type": "code",
   "execution_count": null,
   "metadata": {},
   "outputs": [],
   "source": [
    "gammas_df.to_parquet(\"ig_db/ig_all.pq\")"
   ]
  }
 ]
}