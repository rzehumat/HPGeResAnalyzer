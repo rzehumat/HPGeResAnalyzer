{
 "metadata": {
  "language_info": {
   "codemirror_mode": {
    "name": "ipython",
    "version": 3
   },
   "file_extension": ".py",
   "mimetype": "text/x-python",
   "name": "python",
   "nbconvert_exporter": "python",
   "pygments_lexer": "ipython3",
   "version": "3.8.6-final"
  },
  "orig_nbformat": 2,
  "kernelspec": {
   "name": "python3",
   "display_name": "Python 3",
   "language": "python"
  }
 },
 "nbformat": 4,
 "nbformat_minor": 2,
 "cells": [
  {
   "cell_type": "code",
   "execution_count": 10,
   "metadata": {},
   "outputs": [],
   "source": [
    "import pandas as pd\n",
    "import json"
   ]
  },
  {
   "cell_type": "code",
   "execution_count": 2,
   "metadata": {},
   "outputs": [],
   "source": [
    "def ig_unknown(file, hl_min, hl_max):\n",
    "    return \"Feature not implemented yet. Write an issue to GitHub.\""
   ]
  },
  {
   "cell_type": "code",
   "execution_count": null,
   "metadata": {},
   "outputs": [],
   "source": [
    "def ig_isotope(measured_df, mat_list, hl_min, hl_max):\n",
    "    precursores = mat_list.split(',')\n",
    "    isotopes = []\n",
    "    with open(\"database/irr_products.json\") as f:\n",
    "        irradiation_products = json.load(f)\n",
    "    \n",
    "    for precursor in precursores:\n",
    "        try:\n",
    "            isotopes += irradiation_products[precursor]\n",
    "        \n",
    "        except:\n",
    "            irradiation_products[precursor] = load_irr_prod(precursor)\n",
    "            with open(\"database/irr_products.json\", 'w') as json_out:\n",
    "                json.dump(irradiation_products, json_out)\n",
    "\n",
    "    # get unique only\n",
    "    isotopes = list(set(isotopes))\n",
    "\n",
    "    for isotope in isotopes:\n",
    "        measured_df = add_db_gammas(measured_df, isotope)\n",
    "    \n",
    "    measured_df.to_csv(\"\")\n",
    "\n",
    "    return \"Feature not implemented yet. Write an issue to GitHub.\""
   ]
  },
  {
   "cell_type": "code",
   "execution_count": 9,
   "metadata": {},
   "outputs": [
    {
     "output_type": "stream",
     "name": "stdout",
     "text": [
      "['a', 'b', 'b', 'c', 'd']\n"
     ]
    }
   ],
   "source": [
    "x = [\"a\", \"b\"]\n",
    "y = [\"b\", \"c\", \"d\"]\n",
    "x += y\n",
    "print(x)"
   ]
  },
  {
   "cell_type": "code",
   "execution_count": null,
   "metadata": {},
   "outputs": [],
   "source": [
    "def ig_nat_element(file, mat_list, hl_min, hl_max):\n",
    "    return \"Feature not implemented yet. Write an issue to GitHub.\""
   ]
  },
  {
   "cell_type": "code",
   "execution_count": null,
   "metadata": {},
   "outputs": [],
   "source": [
    "def ig_element_spec(file, mat_list, hl_min, hl_max):\n",
    "    return \"Feature not implemented yet. Write an issue to GitHub.\""
   ]
  },
  {
   "cell_type": "code",
   "execution_count": null,
   "metadata": {},
   "outputs": [],
   "source": [
    "def ig_material(file, mat_list, hl_min, hl_max):\n",
    "    return \"Feature not implemented yet. Write an issue to GitHub.\""
   ]
  },
  {
   "cell_type": "code",
   "execution_count": 1,
   "metadata": {},
   "outputs": [],
   "source": [
    "def get_Igamma(file, material, hl_min, hl_max):\n",
    "    df = pd.read_csv(file,header=0,index_col=0)\n",
    "    mat_type, mat_list = material.split(',', maxindex=1)\n",
    "    switcher = {\n",
    "        0: ig_unknown(df, hl_min, hl_max),\n",
    "        \"isotope\": ig_isotope(df, mat_list, hl_min, hl_max), \n",
    "        \"element_natural\": ig_nat_element(df, mat_list, hl_min, hl_max),\n",
    "        \"element_spec\": ig_spec_element(df, mat_list, hl_min, hl_max),\n",
    "        \"material\": ig_material(df, mat_list, hl_min, hl_max)\n",
    "    }\n",
    "    return switcher.get(mat_type, \"Invalid material given\")"
   ]
  }
 ]
}