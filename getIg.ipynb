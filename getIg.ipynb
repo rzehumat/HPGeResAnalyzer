{
 "metadata": {
  "language_info": {
   "codemirror_mode": {
    "name": "ipython",
    "version": 3
   },
   "file_extension": ".py",
   "mimetype": "text/x-python",
   "name": "python",
   "nbconvert_exporter": "python",
   "pygments_lexer": "ipython3",
   "version": "3.8.5-final"
  },
  "orig_nbformat": 2,
  "kernelspec": {
   "name": "python3",
   "display_name": "Python 3",
   "language": "python"
  }
 },
 "nbformat": 4,
 "nbformat_minor": 2,
 "cells": [
  {
   "cell_type": "code",
   "execution_count": 44,
   "metadata": {},
   "outputs": [],
   "source": [
    "import pandas as pd\n",
    "import json\n",
    "import numpy as np\n",
    "import os\n",
    "import glob\n",
    "import re\n",
    "import urllib\n",
    "from bs4 import BeautifulSoup\n",
    "from pathlib import Path\n"
   ]
  },
  {
   "cell_type": "code",
   "execution_count": 45,
   "metadata": {},
   "outputs": [],
   "source": [
    "def ig_unknown(file, hl_min, hl_max):\n",
    "    return \"Feature not implemented yet. Write an issue to GitHub.\""
   ]
  },
  {
   "cell_type": "code",
   "execution_count": 46,
   "metadata": {},
   "outputs": [],
   "source": [
    "def ig_isotope(measured_df, mat_list, hl_min, hl_max, name):\n",
    "    precursores = mat_list.split(',')\n",
    "    isotopes = []\n",
    "    with open(\"database/irr_products.json\") as f:\n",
    "        irradiation_products = json.load(f)\n",
    "    \n",
    "    for precursor in precursores:\n",
    "        try:\n",
    "            isotopes += irradiation_products[precursor]\n",
    "        \n",
    "        except:\n",
    "            irradiation_products[precursor] = load_irr_prod(precursor)\n",
    "            with open(\"database/irr_products.json\", 'w') as json_out:\n",
    "                json.dump(irradiation_products, json_out)\n",
    "\n",
    "    # get unique only\n",
    "    isotopes = list(set(isotopes))\n",
    "\n",
    "    db_parameters = [\"half-life\", \"sigm_half-life\", \"lambda\", \"sigm_lambda\", \"isotope\", \"Ig\", \"sigm_Ig\", \"E_tab\", \"sigm_E_tab\"]\n",
    "\n",
    "    measured_df[[db_parameters]] = np.nan*np.ones(shape=(measured_df.shape[0], len(db_parameters)))\n",
    "\n",
    "    for isotope in isotopes:\n",
    "        measured_df = add_db_info(measured_df, isotope)\n",
    "    \n",
    "    measured_df.to_csv(f\"out/{name}wDBinfo.csv\")"
   ]
  },
  {
   "cell_type": "code",
   "execution_count": 47,
   "metadata": {},
   "outputs": [],
   "source": [
    "def ig_nat_element(file, mat_list, hl_min, hl_max):\n",
    "    return \"Feature not implemented yet. Write an issue to GitHub.\""
   ]
  },
  {
   "cell_type": "code",
   "execution_count": 48,
   "metadata": {},
   "outputs": [],
   "source": [
    "def ig_element_spec(file, mat_list, hl_min, hl_max):\n",
    "    return \"Feature not implemented yet. Write an issue to GitHub.\""
   ]
  },
  {
   "cell_type": "code",
   "execution_count": 49,
   "metadata": {},
   "outputs": [],
   "source": [
    "def ig_material(file, mat_list, hl_min, hl_max):\n",
    "    return \"Feature not implemented yet. Write an issue to GitHub.\""
   ]
  },
  {
   "cell_type": "code",
   "execution_count": 50,
   "metadata": {},
   "outputs": [],
   "source": [
    "#def get_Igamma(file, material, hl_min, hl_max):\n",
    "#    df = pd.read_csv(file,header=0,index_col=0)\n",
    "#    name = file.split('.')[0]\n",
    "#    mat_type, mat_list = material.split(',', maxindex=1)\n",
    "#    switcher = {\n",
    "#        0: ig_unknown(df, hl_min, hl_max, name),\n",
    "#        \"isotope\": ig_isotope(df, mat_list, hl_min, hl_max, name), \n",
    "#        \"element_natural\": ig_nat_element(df, mat_list, hl_min, hl_max, name),\n",
    "#        \"element_spec\": ig_spec_element(df, mat_list, hl_min, hl_max, name),\n",
    "#        \"material\": ig_material(df, mat_list, hl_min, hl_max, name)\n",
    "#    }\n",
    "#    switcher.get(mat_type, \"Invalid material given\")"
   ]
  },
  {
   "cell_type": "code",
   "execution_count": 192,
   "metadata": {},
   "outputs": [],
   "source": [
    "def append_Igamma_dir(parsed_dir):\n",
    "    if not os.path.isdir(parsed_dir):\n",
    "        raise Exception(f\"Directory '{parsed_dir}' not found. Consider creating it and moving parsed files there.\")\n",
    "\n",
    "    Path(\"./reports_Ig\").mkdir(parents=True, exist_ok=True)\n",
    "    for parsed_file in glob.iglob(f\"{parsed_dir}/*.csv\"):\n",
    "        append_Igamma(parsed_file)"
   ]
  },
  {
   "cell_type": "code",
   "execution_count": 193,
   "metadata": {},
   "outputs": [],
   "source": [
    "def append_Igamma(file):\n",
    "    print(file)\n",
    "    A, element = re.split(r'(\\d+)(\\w+)', file)[-3:-1]\n",
    "    print(A)\n",
    "    print(element)\n",
    "\n",
    "    Path(\"./ig_db\").mkdir(parents=True, exist_ok=True)\n",
    "    if os.path.isfile(f\"ig_db/{A}{element}.csv\"):\n",
    "        ig_df = pd.read_csv(f\"ig_db/{A}{element}.csv\", header=0, index_col=0)\n",
    "        print(\"Reading the csv with gammas.\")\n",
    "    else:\n",
    "        Path(\"./downloads\").mkdir(parents=True, exist_ok=True)\n",
    "        if os.path.isfile(f\"downloads/{A}{element}.html\"):\n",
    "            extract_Igamma(A, element)\n",
    "            ig_df = pd.read_csv(f\"ig_db/{A}{element}.csv\", header=0, index_col=0)\n",
    "            print(\"Reading the csv with gammas.\")\n",
    "        else:\n",
    "            download(A, element)\n",
    "            extract_Igamma(A, element)\n",
    "            ig_df = pd.read_csv(f\"ig_db/{A}{element}.csv\", header=0, index_col=0)\n",
    "            print(\"Reading the csv with gammas.\")\n",
    "    \n",
    "    parsed_df = pd.read_csv(file, index_col=0)\n",
    "    joined_df = add_Ig(parsed_df, ig_df)\n",
    "    \n",
    "    Path(\"./with_Ig\").mkdir(parents=True, exist_ok=True)\n",
    "    joined_df.to_csv(f\"with_Ig/{A}{element}.csv\")\n"
   ]
  },
  {
   "cell_type": "code",
   "execution_count": 194,
   "metadata": {},
   "outputs": [],
   "source": [
    "def add_Ig(df, ig):\n",
    "    e_col = []\n",
    "    ig_col = []\n",
    "\n",
    "    a = np.empty((df.shape[0], 2))\n",
    "    a[:] = np.nan\n",
    "    df[[\"E\", \"Ig\"]] = a\n",
    "    # UGLY, never for-loop in pandas\n",
    "    for row_no in range(df.shape[0]):\n",
    "        for ig_row_no in range(ig.shape[0]):\n",
    "            #print((df[\"Energy\"] - df[\"FWHM\"]).iloc[row_no])\n",
    "            #print(ig[\"E\"].iloc[ig_row_no])\n",
    "            #print((df[\"Energy\"] - df[\"FWHM\"]).iloc[row_no] > ig[\"E\"].iloc[ig_row_no])\n",
    "            if (df[\"Energy\"] - df[\"FWHM\"]).iloc[row_no] > ig[\"E\"].iloc[ig_row_no]:\n",
    "                continue\n",
    "            elif (df[\"Energy\"] + df[\"FWHM\"]).iloc[row_no] < ig[\"E\"].iloc[ig_row_no]:\n",
    "                break\n",
    "            else:\n",
    "                df.loc[row_no, [\"E\", \"Ig\"]] = ig.loc[ig_row_no, [\"E\", \"Ig\"]]\n",
    "                #print()\n",
    "                #ig = ig.drop(ig.index[0:ig_row_no])\n",
    "            \n",
    "    return df"
   ]
  },
  {
   "cell_type": "code",
   "execution_count": 195,
   "metadata": {},
   "outputs": [],
   "source": [
    "df = pd.read_csv(\"parsed_reports/239Pu.csv\", index_col=0)\n"
   ]
  },
  {
   "cell_type": "code",
   "execution_count": 196,
   "metadata": {},
   "outputs": [],
   "source": [
    "a = np.empty((df.shape[0], 2))\n",
    "a[:] = np.nan\n",
    "df[[\"E\", \"Ig\"]] = a"
   ]
  },
  {
   "cell_type": "code",
   "execution_count": 197,
   "metadata": {},
   "outputs": [],
   "source": [
    "#df[\"Energy\"]+df[\"FWHM\"]\n",
    "#df[[\"Energy\"]]\n",
    "ig=pd.read_csv(\"ig_db/239Pu.csv\", index_col=0)"
   ]
  },
  {
   "cell_type": "code",
   "execution_count": 198,
   "metadata": {},
   "outputs": [
    {
     "output_type": "execute_result",
     "data": {
      "text/plain": [
       "             E  sigm_E            Ig  sigm_Ig\n",
       "0       0.0768       5           NaN      NaN\n",
       "1      12.9630       2           NaN      NaN\n",
       "2      30.0370       3  2.170000e-04      6.0\n",
       "3      38.6610       2  1.050000e-02      2.0\n",
       "4      40.4100       5  1.621000e-04      6.0\n",
       "..         ...     ...           ...      ...\n",
       "198   986.9100       4  2.100000e-08      4.0\n",
       "199   992.6400       3  2.700000e-08      4.0\n",
       "200  1005.8000       2  1.800000e-08      3.0\n",
       "201  1009.4000       3  1.400000e-08      3.0\n",
       "202  1057.4000       2  4.500000e-08      7.0\n",
       "\n",
       "[203 rows x 4 columns]"
      ],
      "text/html": "<div>\n<style scoped>\n    .dataframe tbody tr th:only-of-type {\n        vertical-align: middle;\n    }\n\n    .dataframe tbody tr th {\n        vertical-align: top;\n    }\n\n    .dataframe thead th {\n        text-align: right;\n    }\n</style>\n<table border=\"1\" class=\"dataframe\">\n  <thead>\n    <tr style=\"text-align: right;\">\n      <th></th>\n      <th>E</th>\n      <th>sigm_E</th>\n      <th>Ig</th>\n      <th>sigm_Ig</th>\n    </tr>\n  </thead>\n  <tbody>\n    <tr>\n      <th>0</th>\n      <td>0.0768</td>\n      <td>5</td>\n      <td>NaN</td>\n      <td>NaN</td>\n    </tr>\n    <tr>\n      <th>1</th>\n      <td>12.9630</td>\n      <td>2</td>\n      <td>NaN</td>\n      <td>NaN</td>\n    </tr>\n    <tr>\n      <th>2</th>\n      <td>30.0370</td>\n      <td>3</td>\n      <td>2.170000e-04</td>\n      <td>6.0</td>\n    </tr>\n    <tr>\n      <th>3</th>\n      <td>38.6610</td>\n      <td>2</td>\n      <td>1.050000e-02</td>\n      <td>2.0</td>\n    </tr>\n    <tr>\n      <th>4</th>\n      <td>40.4100</td>\n      <td>5</td>\n      <td>1.621000e-04</td>\n      <td>6.0</td>\n    </tr>\n    <tr>\n      <th>...</th>\n      <td>...</td>\n      <td>...</td>\n      <td>...</td>\n      <td>...</td>\n    </tr>\n    <tr>\n      <th>198</th>\n      <td>986.9100</td>\n      <td>4</td>\n      <td>2.100000e-08</td>\n      <td>4.0</td>\n    </tr>\n    <tr>\n      <th>199</th>\n      <td>992.6400</td>\n      <td>3</td>\n      <td>2.700000e-08</td>\n      <td>4.0</td>\n    </tr>\n    <tr>\n      <th>200</th>\n      <td>1005.8000</td>\n      <td>2</td>\n      <td>1.800000e-08</td>\n      <td>3.0</td>\n    </tr>\n    <tr>\n      <th>201</th>\n      <td>1009.4000</td>\n      <td>3</td>\n      <td>1.400000e-08</td>\n      <td>3.0</td>\n    </tr>\n    <tr>\n      <th>202</th>\n      <td>1057.4000</td>\n      <td>2</td>\n      <td>4.500000e-08</td>\n      <td>7.0</td>\n    </tr>\n  </tbody>\n</table>\n<p>203 rows × 4 columns</p>\n</div>"
     },
     "metadata": {},
     "execution_count": 198
    }
   ],
   "source": [
    "ig"
   ]
  },
  {
   "cell_type": "code",
   "execution_count": 199,
   "metadata": {},
   "outputs": [],
   "source": [
    "df.loc[2, [\"E\", \"Ig\"]] = ig.loc[3, [\"E\", \"Ig\"]]"
   ]
  },
  {
   "cell_type": "code",
   "execution_count": 223,
   "metadata": {},
   "outputs": [
    {
     "output_type": "execute_result",
     "data": {
      "text/plain": [
       "     Energy           E        Ig\n",
       "0     25.31         NaN       NaN\n",
       "1     40.29         NaN       NaN\n",
       "2     75.20         NaN       NaN\n",
       "3     84.81         NaN       NaN\n",
       "4    271.33   271.13100   0.07292\n",
       "5    275.60   275.44910   0.03352\n",
       "6    296.09   295.93921   0.44700\n",
       "7    315.52   316.30000   0.00211\n",
       "8    324.90   324.83000   0.07200\n",
       "9    329.56   329.42520   0.12800\n",
       "10   340.37   340.40100   0.03600\n",
       "11   357.42   357.26000   0.00400\n",
       "12   411.14   411.11631   2.23400\n",
       "13   416.10   416.04800   0.11001\n",
       "14   443.92   443.96500   2.82110\n",
       "15   488.62   488.67922   0.41900\n",
       "16   503.43   503.47400   0.14900\n",
       "17   533.91   534.24500   0.04271\n",
       "18   556.48   556.56000   0.01851\n",
       "19   586.08   586.26482   0.45900\n",
       "20   656.25   656.48700   0.14481\n",
       "21   688.37   688.67000   0.85700\n",
       "22   712.71   712.84300   0.09300\n",
       "23   778.52   778.90401  12.94210\n",
       "24   810.03   810.45100   0.32000\n",
       "25   841.10   841.57000   0.16602\n",
       "26   866.92   867.37800   4.24510\n",
       "27   872.56         NaN       NaN\n",
       "28   900.55   901.18110   0.08600\n",
       "29   918.82   919.33000   0.42700\n",
       "30   963.56   964.07910  14.60520\n",
       "31  1004.64  1005.27210   0.64600\n",
       "32  1122.70         NaN       NaN\n",
       "33  1212.56  1212.94810   1.42200\n",
       "34  1233.39         NaN       NaN\n",
       "35  1249.48  1249.93810   0.18800\n",
       "36  1274.19         NaN       NaN\n",
       "37  1292.51  1292.77810   0.10500\n",
       "38  1298.88  1299.14010   1.62300\n",
       "39  1434.25         NaN       NaN\n",
       "40  1457.51  1457.64310   0.50200\n",
       "41  1528.69  1528.10310   0.28100\n",
       "42  1643.53         NaN       NaN"
      ],
      "text/html": "<div>\n<style scoped>\n    .dataframe tbody tr th:only-of-type {\n        vertical-align: middle;\n    }\n\n    .dataframe tbody tr th {\n        vertical-align: top;\n    }\n\n    .dataframe thead th {\n        text-align: right;\n    }\n</style>\n<table border=\"1\" class=\"dataframe\">\n  <thead>\n    <tr style=\"text-align: right;\">\n      <th></th>\n      <th>Energy</th>\n      <th>E</th>\n      <th>Ig</th>\n    </tr>\n  </thead>\n  <tbody>\n    <tr>\n      <th>0</th>\n      <td>25.31</td>\n      <td>NaN</td>\n      <td>NaN</td>\n    </tr>\n    <tr>\n      <th>1</th>\n      <td>40.29</td>\n      <td>NaN</td>\n      <td>NaN</td>\n    </tr>\n    <tr>\n      <th>2</th>\n      <td>75.20</td>\n      <td>NaN</td>\n      <td>NaN</td>\n    </tr>\n    <tr>\n      <th>3</th>\n      <td>84.81</td>\n      <td>NaN</td>\n      <td>NaN</td>\n    </tr>\n    <tr>\n      <th>4</th>\n      <td>271.33</td>\n      <td>271.13100</td>\n      <td>0.07292</td>\n    </tr>\n    <tr>\n      <th>5</th>\n      <td>275.60</td>\n      <td>275.44910</td>\n      <td>0.03352</td>\n    </tr>\n    <tr>\n      <th>6</th>\n      <td>296.09</td>\n      <td>295.93921</td>\n      <td>0.44700</td>\n    </tr>\n    <tr>\n      <th>7</th>\n      <td>315.52</td>\n      <td>316.30000</td>\n      <td>0.00211</td>\n    </tr>\n    <tr>\n      <th>8</th>\n      <td>324.90</td>\n      <td>324.83000</td>\n      <td>0.07200</td>\n    </tr>\n    <tr>\n      <th>9</th>\n      <td>329.56</td>\n      <td>329.42520</td>\n      <td>0.12800</td>\n    </tr>\n    <tr>\n      <th>10</th>\n      <td>340.37</td>\n      <td>340.40100</td>\n      <td>0.03600</td>\n    </tr>\n    <tr>\n      <th>11</th>\n      <td>357.42</td>\n      <td>357.26000</td>\n      <td>0.00400</td>\n    </tr>\n    <tr>\n      <th>12</th>\n      <td>411.14</td>\n      <td>411.11631</td>\n      <td>2.23400</td>\n    </tr>\n    <tr>\n      <th>13</th>\n      <td>416.10</td>\n      <td>416.04800</td>\n      <td>0.11001</td>\n    </tr>\n    <tr>\n      <th>14</th>\n      <td>443.92</td>\n      <td>443.96500</td>\n      <td>2.82110</td>\n    </tr>\n    <tr>\n      <th>15</th>\n      <td>488.62</td>\n      <td>488.67922</td>\n      <td>0.41900</td>\n    </tr>\n    <tr>\n      <th>16</th>\n      <td>503.43</td>\n      <td>503.47400</td>\n      <td>0.14900</td>\n    </tr>\n    <tr>\n      <th>17</th>\n      <td>533.91</td>\n      <td>534.24500</td>\n      <td>0.04271</td>\n    </tr>\n    <tr>\n      <th>18</th>\n      <td>556.48</td>\n      <td>556.56000</td>\n      <td>0.01851</td>\n    </tr>\n    <tr>\n      <th>19</th>\n      <td>586.08</td>\n      <td>586.26482</td>\n      <td>0.45900</td>\n    </tr>\n    <tr>\n      <th>20</th>\n      <td>656.25</td>\n      <td>656.48700</td>\n      <td>0.14481</td>\n    </tr>\n    <tr>\n      <th>21</th>\n      <td>688.37</td>\n      <td>688.67000</td>\n      <td>0.85700</td>\n    </tr>\n    <tr>\n      <th>22</th>\n      <td>712.71</td>\n      <td>712.84300</td>\n      <td>0.09300</td>\n    </tr>\n    <tr>\n      <th>23</th>\n      <td>778.52</td>\n      <td>778.90401</td>\n      <td>12.94210</td>\n    </tr>\n    <tr>\n      <th>24</th>\n      <td>810.03</td>\n      <td>810.45100</td>\n      <td>0.32000</td>\n    </tr>\n    <tr>\n      <th>25</th>\n      <td>841.10</td>\n      <td>841.57000</td>\n      <td>0.16602</td>\n    </tr>\n    <tr>\n      <th>26</th>\n      <td>866.92</td>\n      <td>867.37800</td>\n      <td>4.24510</td>\n    </tr>\n    <tr>\n      <th>27</th>\n      <td>872.56</td>\n      <td>NaN</td>\n      <td>NaN</td>\n    </tr>\n    <tr>\n      <th>28</th>\n      <td>900.55</td>\n      <td>901.18110</td>\n      <td>0.08600</td>\n    </tr>\n    <tr>\n      <th>29</th>\n      <td>918.82</td>\n      <td>919.33000</td>\n      <td>0.42700</td>\n    </tr>\n    <tr>\n      <th>30</th>\n      <td>963.56</td>\n      <td>964.07910</td>\n      <td>14.60520</td>\n    </tr>\n    <tr>\n      <th>31</th>\n      <td>1004.64</td>\n      <td>1005.27210</td>\n      <td>0.64600</td>\n    </tr>\n    <tr>\n      <th>32</th>\n      <td>1122.70</td>\n      <td>NaN</td>\n      <td>NaN</td>\n    </tr>\n    <tr>\n      <th>33</th>\n      <td>1212.56</td>\n      <td>1212.94810</td>\n      <td>1.42200</td>\n    </tr>\n    <tr>\n      <th>34</th>\n      <td>1233.39</td>\n      <td>NaN</td>\n      <td>NaN</td>\n    </tr>\n    <tr>\n      <th>35</th>\n      <td>1249.48</td>\n      <td>1249.93810</td>\n      <td>0.18800</td>\n    </tr>\n    <tr>\n      <th>36</th>\n      <td>1274.19</td>\n      <td>NaN</td>\n      <td>NaN</td>\n    </tr>\n    <tr>\n      <th>37</th>\n      <td>1292.51</td>\n      <td>1292.77810</td>\n      <td>0.10500</td>\n    </tr>\n    <tr>\n      <th>38</th>\n      <td>1298.88</td>\n      <td>1299.14010</td>\n      <td>1.62300</td>\n    </tr>\n    <tr>\n      <th>39</th>\n      <td>1434.25</td>\n      <td>NaN</td>\n      <td>NaN</td>\n    </tr>\n    <tr>\n      <th>40</th>\n      <td>1457.51</td>\n      <td>1457.64310</td>\n      <td>0.50200</td>\n    </tr>\n    <tr>\n      <th>41</th>\n      <td>1528.69</td>\n      <td>1528.10310</td>\n      <td>0.28100</td>\n    </tr>\n    <tr>\n      <th>42</th>\n      <td>1643.53</td>\n      <td>NaN</td>\n      <td>NaN</td>\n    </tr>\n  </tbody>\n</table>\n</div>"
     },
     "metadata": {},
     "execution_count": 223
    }
   ],
   "source": [
    "wig = pd.read_csv(\"with_Ig/152Eu.csv\", index_col=0)\n",
    "wig[[\"Energy\", \"E\", \"Ig\"]]"
   ]
  },
  {
   "cell_type": "code",
   "execution_count": 218,
   "metadata": {},
   "outputs": [],
   "source": [
    "def getZ(element):\n",
    "    element_Z ={\n",
    "        \"Eu\": 63,\n",
    "        \"U\": 92,\n",
    "        \"Pu\": 94\n",
    "    }\n",
    "    return element_Z[element]"
   ]
  },
  {
   "cell_type": "code",
   "execution_count": 219,
   "metadata": {},
   "outputs": [],
   "source": [
    "def download(A, element):\n",
    "    url = f\"http://nucleardata.nuclear.lu.se/toi/nuclide.asp?iZA={getZ(element)}0{A}\"\n",
    "    urllib.request.urlretrieve (url, f\"downloads/{A}{element}.html\")\n",
    "    print(f\"File {A}{element}.html downloaded.\")"
   ]
  },
  {
   "cell_type": "code",
   "execution_count": 220,
   "metadata": {},
   "outputs": [],
   "source": [
    "def extract_Igamma(A, element):\n",
    "    html_file = open(f\"downloads/{A}{element}.html\", \"r\")\n",
    "    soup = BeautifulSoup(html_file.read(), 'lxml')\n",
    "    \n",
    "    gammas_table = soup.find_all(\"table\")[4]\n",
    "    gammas_rows = gammas_table.find_all('tr')[3:-1]\n",
    "    energy = []\n",
    "    sigm_energy = []\n",
    "    i = []\n",
    "    sigm_i = []\n",
    "\n",
    "    for row in gammas_rows:\n",
    "        cells = row.find_all('td')\n",
    "        \n",
    "        e_val = cells[0].get_text(strip=True)\n",
    "        i_val = cells[1].get_text(strip=True)\n",
    "        try:\n",
    "            ig_val = float(i_val[:-1])\n",
    "            sigm_ig_val = float(i_val[-1])\n",
    "        except:\n",
    "            ig_val = float('NaN')\n",
    "            sigm_ig_val = float('NaN')\n",
    "       \n",
    "        energy.append(float(e_val[:-1]))\n",
    "        sigm_energy.append(int(e_val[-1]))\n",
    "        i.append(ig_val)\n",
    "        \n",
    "        sigm_i.append(sigm_ig_val)\n",
    "\n",
    "\n",
    "    df_dict = {\n",
    "        \"E\": energy,\n",
    "        \"sigm_E\": sigm_energy, \n",
    "        \"Ig\": i,\n",
    "        \"sigm_Ig\": sigm_i\n",
    "        }\n",
    "    df = pd.DataFrame(df_dict)\n",
    "    df_name = f'ig_db/{A}{element}.csv'\n",
    "    df.to_csv(df_name)\n",
    "   \n",
    "    print(f\"Ig extracted from file 'downloads/{A}{element}.html' into '{df_name}'.\")"
   ]
  },
  {
   "cell_type": "code",
   "execution_count": 221,
   "metadata": {
    "tags": []
   },
   "outputs": [
    {
     "output_type": "error",
     "ename": "FileNotFoundError",
     "evalue": "[Errno 2] No such file or directory: 'downloads/238U.html'",
     "traceback": [
      "\u001b[0;31m---------------------------------------------------------------------------\u001b[0m",
      "\u001b[0;31mFileNotFoundError\u001b[0m                         Traceback (most recent call last)",
      "\u001b[0;32m<ipython-input-221-61d337bfd979>\u001b[0m in \u001b[0;36m<module>\u001b[0;34m\u001b[0m\n\u001b[0;32m----> 1\u001b[0;31m \u001b[0mhtml_doc\u001b[0m \u001b[0;34m=\u001b[0m \u001b[0mopen\u001b[0m\u001b[0;34m(\u001b[0m\u001b[0;34m\"downloads/238U.html\"\u001b[0m\u001b[0;34m,\u001b[0m \u001b[0;34m\"r\"\u001b[0m\u001b[0;34m)\u001b[0m\u001b[0;34m\u001b[0m\u001b[0;34m\u001b[0m\u001b[0m\n\u001b[0m\u001b[1;32m      2\u001b[0m \u001b[0;34m\u001b[0m\u001b[0m\n\u001b[1;32m      3\u001b[0m \u001b[0msoup\u001b[0m \u001b[0;34m=\u001b[0m \u001b[0mBeautifulSoup\u001b[0m\u001b[0;34m(\u001b[0m\u001b[0mhtml_doc\u001b[0m\u001b[0;34m.\u001b[0m\u001b[0mread\u001b[0m\u001b[0;34m(\u001b[0m\u001b[0;34m)\u001b[0m\u001b[0;34m,\u001b[0m \u001b[0;34m'lxml'\u001b[0m\u001b[0;34m)\u001b[0m\u001b[0;34m\u001b[0m\u001b[0;34m\u001b[0m\u001b[0m\n\u001b[1;32m      4\u001b[0m \u001b[0mgammas_table\u001b[0m \u001b[0;34m=\u001b[0m \u001b[0msoup\u001b[0m\u001b[0;34m.\u001b[0m\u001b[0mfind_all\u001b[0m\u001b[0;34m(\u001b[0m\u001b[0;34m\"table\"\u001b[0m\u001b[0;34m)\u001b[0m\u001b[0;34m[\u001b[0m\u001b[0;36m4\u001b[0m\u001b[0;34m]\u001b[0m\u001b[0;34m\u001b[0m\u001b[0;34m\u001b[0m\u001b[0m\n\u001b[1;32m      5\u001b[0m \u001b[0mgammas_rows\u001b[0m \u001b[0;34m=\u001b[0m \u001b[0mgammas_table\u001b[0m\u001b[0;34m.\u001b[0m\u001b[0mfind_all\u001b[0m\u001b[0;34m(\u001b[0m\u001b[0;34m'tr'\u001b[0m\u001b[0;34m)\u001b[0m\u001b[0;34m[\u001b[0m\u001b[0;36m3\u001b[0m\u001b[0;34m:\u001b[0m\u001b[0;34m-\u001b[0m\u001b[0;36m1\u001b[0m\u001b[0;34m]\u001b[0m\u001b[0;34m\u001b[0m\u001b[0;34m\u001b[0m\u001b[0m\n",
      "\u001b[0;31mFileNotFoundError\u001b[0m: [Errno 2] No such file or directory: 'downloads/238U.html'"
     ]
    }
   ],
   "source": [
    "html_doc = open(\"downloads/238U.html\", \"r\")\n",
    "\n",
    "soup = BeautifulSoup(html_doc.read(), 'lxml')\n",
    "gammas_table = soup.find_all(\"table\")[4]\n",
    "gammas_rows = gammas_table.find_all('tr')[3:-1]\n",
    "gamma_energy_list = []\n",
    "gamma_i_list = []\n",
    "\n",
    "for row in gammas_rows:\n",
    "    cells = row.find_all('td')\n",
    "    e_val = cells[0].get_text()\n",
    "    print(re.split(r'\\\\', e_val))\n",
    "\n",
    "    gamma_energy_list.append(e_val)\n",
    "    gamma_i_list.append(cells[1].get_text(strip=False))\n",
    "\n",
    "\n",
    "print(gamma_energy_list)\n",
    "print(gamma_i_list)"
   ]
  },
  {
   "cell_type": "code",
   "execution_count": 224,
   "metadata": {
    "tags": []
   },
   "outputs": [
    {
     "output_type": "stream",
     "name": "stdout",
     "text": [
      "parsed_reports/152Eu.csv\n152\nEu\nReading the csv with gammas.\n"
     ]
    }
   ],
   "source": [
    "append_Igamma_dir(\"parsed_reports\")"
   ]
  }
 ]
}