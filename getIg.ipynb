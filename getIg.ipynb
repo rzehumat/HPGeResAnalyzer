{
 "metadata": {
  "language_info": {
   "codemirror_mode": {
    "name": "ipython",
    "version": 3
   },
   "file_extension": ".py",
   "mimetype": "text/x-python",
   "name": "python",
   "nbconvert_exporter": "python",
   "pygments_lexer": "ipython3",
   "version": "3.8.5"
  },
  "orig_nbformat": 2,
  "kernelspec": {
   "name": "python3",
   "display_name": "Python 3",
   "language": "python"
  }
 },
 "nbformat": 4,
 "nbformat_minor": 2,
 "cells": [
  {
   "cell_type": "code",
   "execution_count": null,
   "metadata": {},
   "outputs": [],
   "source": [
    "import pandas as pd\n",
    "import json\n",
    "import numpy as np\n",
    "import os\n",
    "import glob\n",
    "import re\n",
    "import urllib\n",
    "from bs4 import BeautifulSoup\n",
    "from pathlib import Path"
   ]
  },
  {
   "cell_type": "code",
   "execution_count": null,
   "metadata": {},
   "outputs": [],
   "source": [
    "def append_Igamma_dir(parsed_dir):\n",
    "    if not os.path.isdir(parsed_dir):\n",
    "        raise Exception(f\"Directory '{parsed_dir}' not found. Consider creating it and moving parsed files there.\")\n",
    "\n",
    "    for parsed_file in glob.iglob(f\"{parsed_dir}/*.csv\"):\n",
    "        append_Igamma(parsed_file)"
   ]
  },
  {
   "cell_type": "code",
   "execution_count": null,
   "metadata": {},
   "outputs": [],
   "source": [
    "def permute_columns(df, first_cols):\n",
    "    old_column_order = df.columns.tolist()\n",
    "    new_cols = first_cols + list(set(old_column_order) - set(first_cols))\n",
    "    df = df[new_cols]\n",
    "    return df"
   ]
  },
  {
   "cell_type": "code",
   "execution_count": null,
   "metadata": {},
   "outputs": [],
   "source": [
    "def append_Igamma(file):\n",
    "    print(file)\n",
    "    A, element = re.split(r'(\\d+)(\\w+)', file)[-3:-1]\n",
    "    element = element.split(\"_\")[0]\n",
    "    print(A)\n",
    "    print(element)\n",
    "\n",
    "    ig_all_df = pd.read_parquet(\"aux_data/ig_all.pq\")\n",
    "    ig_df = ig_all_df.loc[f\"{A}{element}\"]\n",
    "    \n",
    "    parsed_df = pd.read_csv(file, index_col=0)\n",
    "    joined_df = add_Ig(parsed_df, ig_df)\n",
    "    \n",
    "    Path(\"./with_Ig\").mkdir(parents=True, exist_ok=True)\n",
    "    joined_df = permute_columns(joined_df, [\"Energy\", \"E_tab\", \"Ig\", \"Area\", \"sigm_E\", \"sigm_Ig\", \"FWHM\", \"%err\", \"Live Time\", \"Real Time\", \"Dead Time (rel)\"])\n",
    "    joined_df = joined_df.sort_values(by = [\"Energy\", \"Area\", \"Ig\"], ascending = [True, False, False])\n",
    "    joined_df[\"Ig\"] = 100 * joined_df[\"Ig\"]\n",
    "    joined_df[\"Ig\"] = 100 * joined_df[\"Ig\"].rename(\"Ig [%]\")\n",
    "\n",
    "    joined_df.to_csv(f\"with_Ig/{A}{element}.csv\", index = False)"
   ]
  },
  {
   "cell_type": "code",
   "execution_count": null,
   "metadata": {},
   "outputs": [],
   "source": [
    "def add_Ig(df, ig, ig_thr = 1.0):\n",
    "    # UGLY, never for-loop in pandas\n",
    "    added_df = df\n",
    "    for row in df.iterrows():\n",
    "        # WTF some pandas iterrows bizzare\n",
    "        row = row[1]\n",
    "\n",
    "        suitable_lines = ig[(row[\"Energy\"] - row[\"FWHM\"] < ig[\"E_tab\"] + ig[\"sigm_E\"]) & (row[\"Energy\"] + row[\"FWHM\"] > ig[\"E_tab\"] - ig[\"sigm_E\"]) & ig[\"Ig\"] > 0.01*ig_thr]\n",
    "        suitable_lines[\"Energy\"] = float(row[\"Energy\"])\n",
    "        added_df = added_df.append(suitable_lines)\n",
    "\n",
    "    print(\"Ig added\")\n",
    "    return added_df"
   ]
  },
  {
   "cell_type": "code",
   "execution_count": null,
   "metadata": {},
   "outputs": [],
   "source": [
    "dd = pd.read_csv(\"parsed_reports/152Eu_g80.csv\", index_col=0)"
   ]
  },
  {
   "cell_type": "code",
   "execution_count": null,
   "metadata": {
    "tags": []
   },
   "outputs": [],
   "source": [
    "append_Igamma_dir(\"parsed_reports\")"
   ]
  }
 ]
}