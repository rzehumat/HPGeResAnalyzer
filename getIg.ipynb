{
 "metadata": {
  "language_info": {
   "codemirror_mode": {
    "name": "ipython",
    "version": 3
   },
   "file_extension": ".py",
   "mimetype": "text/x-python",
   "name": "python",
   "nbconvert_exporter": "python",
   "pygments_lexer": "ipython3",
   "version": "3.8.5"
  },
  "orig_nbformat": 2,
  "kernelspec": {
   "name": "python3",
   "display_name": "Python 3",
   "language": "python"
  }
 },
 "nbformat": 4,
 "nbformat_minor": 2,
 "cells": [
  {
   "cell_type": "code",
   "execution_count": 74,
   "metadata": {},
   "outputs": [],
   "source": [
    "import pandas as pd\n",
    "import json\n",
    "import numpy as np\n",
    "import os\n",
    "import glob\n",
    "import re\n",
    "import urllib\n",
    "from bs4 import BeautifulSoup\n",
    "from pathlib import Path\n"
   ]
  },
  {
   "cell_type": "code",
   "execution_count": 75,
   "metadata": {},
   "outputs": [],
   "source": [
    "#def ig_unknown(file, hl_min, hl_max):\n",
    "#    return \"Feature not implemented yet. Write an issue to GitHub.\""
   ]
  },
  {
   "cell_type": "code",
   "execution_count": 76,
   "metadata": {},
   "outputs": [],
   "source": [
    "#def ig_isotope(measured_df, mat_list, hl_min, hl_max, name):\n",
    "#    precursores = mat_list.split(',')\n",
    "#    isotopes = []\n",
    "#    with open(\"database/irr_products.json\") as f:\n",
    "#        irradiation_products = json.load(f)\n",
    "#    \n",
    "#    for precursor in precursores:\n",
    "#        try:\n",
    "#            isotopes += irradiation_products[precursor]\n",
    "#        \n",
    "#        except:\n",
    "#            irradiation_products[precursor] = load_irr_prod(precursor)\n",
    "#            with open(\"database/irr_products.json\", 'w') as json_out:\n",
    "#                json.dump(irradiation_products, json_out)\n",
    "#\n",
    "#    # get unique only\n",
    "#    isotopes = list(set(isotopes))\n",
    "#\n",
    "#    db_parameters = [\"half-life\", \"sigm_half-life\", \"lambda\", \"sigm_lambda\", \"isotope\", \"Ig\", \"sigm_Ig\", \"E_tab\", \"sigm_E_tab\"]#\n",
    "#\n",
    "#    measured_df[[db_parameters]] = np.nan*np.ones(shape=(measured_df.shape[0], len(db_parameters)))\n",
    "#\n",
    "#    for isotope in isotopes:\n",
    "#        measured_df = add_db_info(measured_df, isotope)\n",
    "#    \n",
    "#    measured_df.to_csv(f\"out/{name}wDBinfo.csv\")"
   ]
  },
  {
   "cell_type": "code",
   "execution_count": 77,
   "metadata": {},
   "outputs": [],
   "source": [
    "#def ig_nat_element(file, mat_list, hl_min, hl_max):\n",
    "#    return \"Feature not implemented yet. Write an issue to GitHub.\""
   ]
  },
  {
   "cell_type": "code",
   "execution_count": 78,
   "metadata": {},
   "outputs": [],
   "source": [
    "#def ig_element_spec(file, mat_list, hl_min, hl_max):\n",
    "#    return \"Feature not implemented yet. Write an issue to GitHub.\""
   ]
  },
  {
   "cell_type": "code",
   "execution_count": 79,
   "metadata": {},
   "outputs": [],
   "source": [
    "#def ig_material(file, mat_list, hl_min, hl_max):\n",
    "#    return \"Feature not implemented yet. Write an issue to GitHub.\""
   ]
  },
  {
   "cell_type": "code",
   "execution_count": 80,
   "metadata": {},
   "outputs": [],
   "source": [
    "def append_Igamma_dir(parsed_dir):\n",
    "    if not os.path.isdir(parsed_dir):\n",
    "        raise Exception(f\"Directory '{parsed_dir}' not found. Consider creating it and moving parsed files there.\")\n",
    "\n",
    "    for parsed_file in glob.iglob(f\"{parsed_dir}/*.csv\"):\n",
    "        append_Igamma(parsed_file)"
   ]
  },
  {
   "cell_type": "code",
   "execution_count": 81,
   "metadata": {},
   "outputs": [],
   "source": [
    "def append_Igamma(file):\n",
    "    print(file)\n",
    "    A, element = re.split(r'(\\d+)(\\w+)', file)[-3:-1]\n",
    "    element = element.split(\"_\")[0]\n",
    "    print(A)\n",
    "    print(element)\n",
    "\n",
    "    #Path(\"./ig_db\").mkdir(parents=True, exist_ok=True)\n",
    "    ig_all_df = pd.read_parquet(\"ig_db/ig_all.pq\")\n",
    "    print(f\"A is {A} and element is {element}\")\n",
    "    ig_df = ig_all_df.loc[f\"{A}{element}\"]\n",
    "\n",
    "    #if os.path.isfile(f\"ig_db/{A}{element}.csv\"):\n",
    "    #    ig_df = pd.read_csv(f\"ig_db/{A}{element}.csv\", header=0, index_col=0)\n",
    "    #    print(\"Reading the csv with gammas.\")\n",
    "    #else:\n",
    "    #    Path(\"./downloads\").mkdir(parents=True, exist_ok=True)\n",
    "    #    if os.path.isfile(f\"downloads/{A}{element}.html\"):\n",
    "    #        extract_Igamma(A, element)\n",
    "    #        ig_df = pd.read_csv(f\"ig_db/{A}{element}.csv\", header=0, index_col=0)\n",
    "    #        print(\"Reading the csv with gammas.\")\n",
    "    #    else:\n",
    "    #        download(A, element)\n",
    "    #        extract_Igamma(A, element)\n",
    "    #        ig_df = pd.read_csv(f\"ig_db/{A}{element}.csv\", header=0, index_col=0)\n",
    "    #        print(\"Reading the csv with gammas.\")\n",
    "    \n",
    "    parsed_df = pd.read_csv(file, index_col=0)\n",
    "    joined_df = add_Ig(parsed_df, ig_df)\n",
    "    \n",
    "    Path(\"./with_Ig\").mkdir(parents=True, exist_ok=True)\n",
    "    joined_df.to_csv(f\"with_Ig/{A}{element}.csv\")\n"
   ]
  },
  {
   "cell_type": "code",
   "execution_count": 82,
   "metadata": {},
   "outputs": [],
   "source": [
    "#df = pd.read_parquet(\"ig_db/ig_all.pq\")"
   ]
  },
  {
   "cell_type": "code",
   "execution_count": 83,
   "metadata": {},
   "outputs": [],
   "source": [
    "#df.loc[\"152Eu\"]"
   ]
  },
  {
   "cell_type": "code",
   "execution_count": 84,
   "metadata": {},
   "outputs": [],
   "source": [
    "def add_Ig(df, ig, ig_thr):\n",
    "    e_col = []\n",
    "    ig_col = []\n",
    "\n",
    "    a = np.empty((df.shape[0], 2))\n",
    "    a[:] = np.nan\n",
    "    df[[\"E_tab\", \"Ig\"]] = a\n",
    "    # UGLY, never for-loop in pandas\n",
    "    for row_no in range(df.shape[0]):\n",
    "        #suitable_lines = ig[(df[\"Energy\"] - df[\"FWHM\"]).iloc[row_no] > ig[\"E_tab\"] + ig[\"sigm_E\"]]\n",
    "        suitable_lines = ig[((df[\"Energy\"] - df[\"FWHM\"]).iloc[row_no] < ig[\"E_tab\"] + ig[\"sigm_E\"]) & ((df[\"Energy\"] + df[\"FWHM\"]).iloc[row_no] > ig[\"E_tab\"] - ig[\"sigm_E\"]) & ig[\"Ig\"] > 0.01*ig_thr]\n",
    "        #for ig_row_no in range(ig.shape[0]):\n",
    "        #    if (df[\"Energy\"] - df[\"FWHM\"]).iloc[row_no] > ig[\"E_tab\"].iloc[ig_row_no] + ig[\"sigm_E\"].iloc[ig_row_no]:\n",
    "        #        continue\n",
    "        #    elif (df[\"Energy\"] + df[\"FWHM\"]).iloc[row_no] < ig[\"E_tab\"].iloc[ig_row_no] - ig[\"sigm_E\"].iloc[ig_row_no]:\n",
    "        #        break\n",
    "        #    else:\n",
    "        #        df.loc[row_no, [\"E_tab\", \"sigm_E_tab\", \"Ig\", \"sigm_Ig\"]] = ig.loc[ig_row_no]\n",
    "    print(\"Ig added\")\n",
    "    return df"
   ]
  },
  {
   "cell_type": "code",
   "execution_count": 89,
   "metadata": {},
   "outputs": [],
   "source": [
    "ig = pd.read_parquet(\"ig_db/ig_all.pq\")\n",
    "df = pd.read_csv(\"parsed_reports/152Eu_g80.csv\", index_col=0)"
   ]
  },
  {
   "cell_type": "code",
   "execution_count": 101,
   "metadata": {},
   "outputs": [
    {
     "output_type": "execute_result",
     "data": {
      "text/plain": [
       "             E_tab   sigm_E        Ig       sigm_Ig\n",
       "Isotope                                            \n",
       "77Kr     24.200001  0.50000  0.000360  6.000000e-05\n",
       "147Cs    24.500000  0.30000  0.000290  1.400000e-04\n",
       "155Eu    24.559999  0.30000  0.000080  8.000000e-05\n",
       "103mRu   24.600000  0.70000  0.001300           NaN\n",
       "227Ra    24.700001  0.20000  0.000340           NaN\n",
       "231Pa    24.700001  0.20000  0.000050           NaN\n",
       "255Fm    24.823999  0.01500  0.000900  2.000000e-04\n",
       "58mCo    24.889000  0.02100  0.000389  1.200000e-05\n",
       "228Pa    24.900000  0.20000  0.000020  1.000000e-05\n",
       "205Po    24.969999  0.11000  0.002600  6.000000e-04\n",
       "127mLa   25.000000  0.50000  0.030000  6.000000e-03\n",
       "120Xe    25.100000  0.20000  0.300000  3.000000e-02\n",
       "152Nd    25.100000  0.10000  0.001100  9.000000e-05\n",
       "200Pt    25.209999  0.06000  0.001370  1.300000e-04\n",
       "119mSn   25.271000  0.00100  0.143000  3.000000e-03\n",
       "233U     25.318001  0.00400  0.000011  1.700000e-06\n",
       "229Th    25.389999  0.02000  0.000080  4.000000e-05\n",
       "105mAg   25.480000  0.02000  0.000042           NaN\n",
       "105Cd    25.480000  0.02000  0.000036           NaN\n",
       "158Er    25.500000  0.20000  0.001500  3.000000e-04\n",
       "231Pa    25.510000  0.06000  0.001170  1.700000e-04\n",
       "187Ir    25.520000  0.07000  0.001800           NaN\n",
       "155Sm    25.639999  0.06000  0.005200  8.000000e-04\n",
       "231Th    25.646000  0.00400  0.145000  3.000000e-03\n",
       "231U     25.646000  0.00400  0.120000           NaN\n",
       "235Np    25.646000  0.00400  0.000004  5.000000e-07\n",
       "161Ho    25.651501  0.00007  0.270000  3.000000e-02\n",
       "161Tb    25.651501  0.00007  0.232000  1.000000e-02\n",
       "173Ta    25.700001  0.05000  0.001400  4.000000e-04\n",
       "151Pm    25.709999  0.01000  0.009700  7.000000e-04\n",
       "73mSe    25.709999  0.04000  0.000131  4.000000e-06\n",
       "189Ir    25.716999  0.02000  0.000240  3.000000e-05\n",
       "189Re    25.716999  0.02000  0.000019  7.000000e-06\n",
       "167Yb    25.830000  0.02000  0.000450  1.400000e-04\n",
       "225Ac    26.000000  0.10000  0.000016  2.200000e-06\n",
       "157Yb    26.049999  0.17000  0.054000  5.000000e-03\n",
       "185mHg   26.100000  0.50000  0.000250  6.000000e-05"
      ],
      "text/html": "<div>\n<style scoped>\n    .dataframe tbody tr th:only-of-type {\n        vertical-align: middle;\n    }\n\n    .dataframe tbody tr th {\n        vertical-align: top;\n    }\n\n    .dataframe thead th {\n        text-align: right;\n    }\n</style>\n<table border=\"1\" class=\"dataframe\">\n  <thead>\n    <tr style=\"text-align: right;\">\n      <th></th>\n      <th>E_tab</th>\n      <th>sigm_E</th>\n      <th>Ig</th>\n      <th>sigm_Ig</th>\n    </tr>\n    <tr>\n      <th>Isotope</th>\n      <th></th>\n      <th></th>\n      <th></th>\n      <th></th>\n    </tr>\n  </thead>\n  <tbody>\n    <tr>\n      <th>77Kr</th>\n      <td>24.200001</td>\n      <td>0.50000</td>\n      <td>0.000360</td>\n      <td>6.000000e-05</td>\n    </tr>\n    <tr>\n      <th>147Cs</th>\n      <td>24.500000</td>\n      <td>0.30000</td>\n      <td>0.000290</td>\n      <td>1.400000e-04</td>\n    </tr>\n    <tr>\n      <th>155Eu</th>\n      <td>24.559999</td>\n      <td>0.30000</td>\n      <td>0.000080</td>\n      <td>8.000000e-05</td>\n    </tr>\n    <tr>\n      <th>103mRu</th>\n      <td>24.600000</td>\n      <td>0.70000</td>\n      <td>0.001300</td>\n      <td>NaN</td>\n    </tr>\n    <tr>\n      <th>227Ra</th>\n      <td>24.700001</td>\n      <td>0.20000</td>\n      <td>0.000340</td>\n      <td>NaN</td>\n    </tr>\n    <tr>\n      <th>231Pa</th>\n      <td>24.700001</td>\n      <td>0.20000</td>\n      <td>0.000050</td>\n      <td>NaN</td>\n    </tr>\n    <tr>\n      <th>255Fm</th>\n      <td>24.823999</td>\n      <td>0.01500</td>\n      <td>0.000900</td>\n      <td>2.000000e-04</td>\n    </tr>\n    <tr>\n      <th>58mCo</th>\n      <td>24.889000</td>\n      <td>0.02100</td>\n      <td>0.000389</td>\n      <td>1.200000e-05</td>\n    </tr>\n    <tr>\n      <th>228Pa</th>\n      <td>24.900000</td>\n      <td>0.20000</td>\n      <td>0.000020</td>\n      <td>1.000000e-05</td>\n    </tr>\n    <tr>\n      <th>205Po</th>\n      <td>24.969999</td>\n      <td>0.11000</td>\n      <td>0.002600</td>\n      <td>6.000000e-04</td>\n    </tr>\n    <tr>\n      <th>127mLa</th>\n      <td>25.000000</td>\n      <td>0.50000</td>\n      <td>0.030000</td>\n      <td>6.000000e-03</td>\n    </tr>\n    <tr>\n      <th>120Xe</th>\n      <td>25.100000</td>\n      <td>0.20000</td>\n      <td>0.300000</td>\n      <td>3.000000e-02</td>\n    </tr>\n    <tr>\n      <th>152Nd</th>\n      <td>25.100000</td>\n      <td>0.10000</td>\n      <td>0.001100</td>\n      <td>9.000000e-05</td>\n    </tr>\n    <tr>\n      <th>200Pt</th>\n      <td>25.209999</td>\n      <td>0.06000</td>\n      <td>0.001370</td>\n      <td>1.300000e-04</td>\n    </tr>\n    <tr>\n      <th>119mSn</th>\n      <td>25.271000</td>\n      <td>0.00100</td>\n      <td>0.143000</td>\n      <td>3.000000e-03</td>\n    </tr>\n    <tr>\n      <th>233U</th>\n      <td>25.318001</td>\n      <td>0.00400</td>\n      <td>0.000011</td>\n      <td>1.700000e-06</td>\n    </tr>\n    <tr>\n      <th>229Th</th>\n      <td>25.389999</td>\n      <td>0.02000</td>\n      <td>0.000080</td>\n      <td>4.000000e-05</td>\n    </tr>\n    <tr>\n      <th>105mAg</th>\n      <td>25.480000</td>\n      <td>0.02000</td>\n      <td>0.000042</td>\n      <td>NaN</td>\n    </tr>\n    <tr>\n      <th>105Cd</th>\n      <td>25.480000</td>\n      <td>0.02000</td>\n      <td>0.000036</td>\n      <td>NaN</td>\n    </tr>\n    <tr>\n      <th>158Er</th>\n      <td>25.500000</td>\n      <td>0.20000</td>\n      <td>0.001500</td>\n      <td>3.000000e-04</td>\n    </tr>\n    <tr>\n      <th>231Pa</th>\n      <td>25.510000</td>\n      <td>0.06000</td>\n      <td>0.001170</td>\n      <td>1.700000e-04</td>\n    </tr>\n    <tr>\n      <th>187Ir</th>\n      <td>25.520000</td>\n      <td>0.07000</td>\n      <td>0.001800</td>\n      <td>NaN</td>\n    </tr>\n    <tr>\n      <th>155Sm</th>\n      <td>25.639999</td>\n      <td>0.06000</td>\n      <td>0.005200</td>\n      <td>8.000000e-04</td>\n    </tr>\n    <tr>\n      <th>231Th</th>\n      <td>25.646000</td>\n      <td>0.00400</td>\n      <td>0.145000</td>\n      <td>3.000000e-03</td>\n    </tr>\n    <tr>\n      <th>231U</th>\n      <td>25.646000</td>\n      <td>0.00400</td>\n      <td>0.120000</td>\n      <td>NaN</td>\n    </tr>\n    <tr>\n      <th>235Np</th>\n      <td>25.646000</td>\n      <td>0.00400</td>\n      <td>0.000004</td>\n      <td>5.000000e-07</td>\n    </tr>\n    <tr>\n      <th>161Ho</th>\n      <td>25.651501</td>\n      <td>0.00007</td>\n      <td>0.270000</td>\n      <td>3.000000e-02</td>\n    </tr>\n    <tr>\n      <th>161Tb</th>\n      <td>25.651501</td>\n      <td>0.00007</td>\n      <td>0.232000</td>\n      <td>1.000000e-02</td>\n    </tr>\n    <tr>\n      <th>173Ta</th>\n      <td>25.700001</td>\n      <td>0.05000</td>\n      <td>0.001400</td>\n      <td>4.000000e-04</td>\n    </tr>\n    <tr>\n      <th>151Pm</th>\n      <td>25.709999</td>\n      <td>0.01000</td>\n      <td>0.009700</td>\n      <td>7.000000e-04</td>\n    </tr>\n    <tr>\n      <th>73mSe</th>\n      <td>25.709999</td>\n      <td>0.04000</td>\n      <td>0.000131</td>\n      <td>4.000000e-06</td>\n    </tr>\n    <tr>\n      <th>189Ir</th>\n      <td>25.716999</td>\n      <td>0.02000</td>\n      <td>0.000240</td>\n      <td>3.000000e-05</td>\n    </tr>\n    <tr>\n      <th>189Re</th>\n      <td>25.716999</td>\n      <td>0.02000</td>\n      <td>0.000019</td>\n      <td>7.000000e-06</td>\n    </tr>\n    <tr>\n      <th>167Yb</th>\n      <td>25.830000</td>\n      <td>0.02000</td>\n      <td>0.000450</td>\n      <td>1.400000e-04</td>\n    </tr>\n    <tr>\n      <th>225Ac</th>\n      <td>26.000000</td>\n      <td>0.10000</td>\n      <td>0.000016</td>\n      <td>2.200000e-06</td>\n    </tr>\n    <tr>\n      <th>157Yb</th>\n      <td>26.049999</td>\n      <td>0.17000</td>\n      <td>0.054000</td>\n      <td>5.000000e-03</td>\n    </tr>\n    <tr>\n      <th>185mHg</th>\n      <td>26.100000</td>\n      <td>0.50000</td>\n      <td>0.000250</td>\n      <td>6.000000e-05</td>\n    </tr>\n  </tbody>\n</table>\n</div>"
     },
     "metadata": {},
     "execution_count": 101
    }
   ],
   "source": [
    "ig[((df[\"Energy\"] - df[\"FWHM\"]).iloc[0] < ig[\"E_tab\"] + ig[\"sigm_E\"]) & ((df[\"Energy\"] + df[\"FWHM\"]).iloc[0] > ig[\"E_tab\"] - ig[\"sigm_E\"]) & ig[\"Ig\"] > 0.0001]"
   ]
  },
  {
   "cell_type": "code",
   "execution_count": 98,
   "metadata": {},
   "outputs": [
    {
     "output_type": "execute_result",
     "data": {
      "text/plain": [
       "                E_tab  sigm_E       Ig  sigm_Ig\n",
       "Isotope                                        \n",
       "240mNp      20.000000    15.0  0.00000      NaN\n",
       "77Kr        24.200001     0.5  0.00036  0.00006\n",
       "147Cs       24.500000     0.3  0.00029  0.00014\n",
       "227Ac       24.500000     0.2      NaN      NaN\n",
       "155Eu       24.559999     0.3  0.00008  0.00008\n",
       "...               ...     ...      ...      ...\n",
       "27310    11350.000000    60.0  0.50000      NaN\n",
       "27712    11450.000000    20.0  0.50000      NaN\n",
       "26710    11600.000000  1000.0  1.00000      NaN\n",
       "27712    11650.000000    20.0  0.50000      NaN\n",
       "266mMt   11740.000000    20.0  0.33000      NaN\n",
       "\n",
       "[85325 rows x 4 columns]"
      ],
      "text/html": "<div>\n<style scoped>\n    .dataframe tbody tr th:only-of-type {\n        vertical-align: middle;\n    }\n\n    .dataframe tbody tr th {\n        vertical-align: top;\n    }\n\n    .dataframe thead th {\n        text-align: right;\n    }\n</style>\n<table border=\"1\" class=\"dataframe\">\n  <thead>\n    <tr style=\"text-align: right;\">\n      <th></th>\n      <th>E_tab</th>\n      <th>sigm_E</th>\n      <th>Ig</th>\n      <th>sigm_Ig</th>\n    </tr>\n    <tr>\n      <th>Isotope</th>\n      <th></th>\n      <th></th>\n      <th></th>\n      <th></th>\n    </tr>\n  </thead>\n  <tbody>\n    <tr>\n      <th>240mNp</th>\n      <td>20.000000</td>\n      <td>15.0</td>\n      <td>0.00000</td>\n      <td>NaN</td>\n    </tr>\n    <tr>\n      <th>77Kr</th>\n      <td>24.200001</td>\n      <td>0.5</td>\n      <td>0.00036</td>\n      <td>0.00006</td>\n    </tr>\n    <tr>\n      <th>147Cs</th>\n      <td>24.500000</td>\n      <td>0.3</td>\n      <td>0.00029</td>\n      <td>0.00014</td>\n    </tr>\n    <tr>\n      <th>227Ac</th>\n      <td>24.500000</td>\n      <td>0.2</td>\n      <td>NaN</td>\n      <td>NaN</td>\n    </tr>\n    <tr>\n      <th>155Eu</th>\n      <td>24.559999</td>\n      <td>0.3</td>\n      <td>0.00008</td>\n      <td>0.00008</td>\n    </tr>\n    <tr>\n      <th>...</th>\n      <td>...</td>\n      <td>...</td>\n      <td>...</td>\n      <td>...</td>\n    </tr>\n    <tr>\n      <th>27310</th>\n      <td>11350.000000</td>\n      <td>60.0</td>\n      <td>0.50000</td>\n      <td>NaN</td>\n    </tr>\n    <tr>\n      <th>27712</th>\n      <td>11450.000000</td>\n      <td>20.0</td>\n      <td>0.50000</td>\n      <td>NaN</td>\n    </tr>\n    <tr>\n      <th>26710</th>\n      <td>11600.000000</td>\n      <td>1000.0</td>\n      <td>1.00000</td>\n      <td>NaN</td>\n    </tr>\n    <tr>\n      <th>27712</th>\n      <td>11650.000000</td>\n      <td>20.0</td>\n      <td>0.50000</td>\n      <td>NaN</td>\n    </tr>\n    <tr>\n      <th>266mMt</th>\n      <td>11740.000000</td>\n      <td>20.0</td>\n      <td>0.33000</td>\n      <td>NaN</td>\n    </tr>\n  </tbody>\n</table>\n<p>85325 rows × 4 columns</p>\n</div>"
     },
     "metadata": {},
     "execution_count": 98
    }
   ],
   "source": [
    "ig[((df[\"Energy\"] - df[\"FWHM\"]).iloc[0] < ig[\"E_tab\"] + ig[\"sigm_E\"])]"
   ]
  },
  {
   "cell_type": "code",
   "execution_count": 99,
   "metadata": {},
   "outputs": [
    {
     "output_type": "execute_result",
     "data": {
      "text/plain": [
       "             E_tab   sigm_E       Ig  sigm_Ig\n",
       "Isotope                                      \n",
       "235Pa     0.076800   0.0005      NaN      NaN\n",
       "235mU     0.076800   0.0005      NaN      NaN\n",
       "239Pu     0.076800   0.0005      NaN      NaN\n",
       "229U      0.220000   0.0500      NaN      NaN\n",
       "255Fm     0.570000   0.0300      NaN      NaN\n",
       "...            ...      ...      ...      ...\n",
       "221Rn    26.000000   0.1000      NaN      NaN\n",
       "157Yb    26.049999   0.1700  0.05400  0.00500\n",
       "185mHg   26.100000   0.5000  0.00025  0.00006\n",
       "160mTm   28.000000  20.0000      NaN      NaN\n",
       "212mPo   36.000000  15.0000      NaN      NaN\n",
       "\n",
       "[467 rows x 4 columns]"
      ],
      "text/html": "<div>\n<style scoped>\n    .dataframe tbody tr th:only-of-type {\n        vertical-align: middle;\n    }\n\n    .dataframe tbody tr th {\n        vertical-align: top;\n    }\n\n    .dataframe thead th {\n        text-align: right;\n    }\n</style>\n<table border=\"1\" class=\"dataframe\">\n  <thead>\n    <tr style=\"text-align: right;\">\n      <th></th>\n      <th>E_tab</th>\n      <th>sigm_E</th>\n      <th>Ig</th>\n      <th>sigm_Ig</th>\n    </tr>\n    <tr>\n      <th>Isotope</th>\n      <th></th>\n      <th></th>\n      <th></th>\n      <th></th>\n    </tr>\n  </thead>\n  <tbody>\n    <tr>\n      <th>235Pa</th>\n      <td>0.076800</td>\n      <td>0.0005</td>\n      <td>NaN</td>\n      <td>NaN</td>\n    </tr>\n    <tr>\n      <th>235mU</th>\n      <td>0.076800</td>\n      <td>0.0005</td>\n      <td>NaN</td>\n      <td>NaN</td>\n    </tr>\n    <tr>\n      <th>239Pu</th>\n      <td>0.076800</td>\n      <td>0.0005</td>\n      <td>NaN</td>\n      <td>NaN</td>\n    </tr>\n    <tr>\n      <th>229U</th>\n      <td>0.220000</td>\n      <td>0.0500</td>\n      <td>NaN</td>\n      <td>NaN</td>\n    </tr>\n    <tr>\n      <th>255Fm</th>\n      <td>0.570000</td>\n      <td>0.0300</td>\n      <td>NaN</td>\n      <td>NaN</td>\n    </tr>\n    <tr>\n      <th>...</th>\n      <td>...</td>\n      <td>...</td>\n      <td>...</td>\n      <td>...</td>\n    </tr>\n    <tr>\n      <th>221Rn</th>\n      <td>26.000000</td>\n      <td>0.1000</td>\n      <td>NaN</td>\n      <td>NaN</td>\n    </tr>\n    <tr>\n      <th>157Yb</th>\n      <td>26.049999</td>\n      <td>0.1700</td>\n      <td>0.05400</td>\n      <td>0.00500</td>\n    </tr>\n    <tr>\n      <th>185mHg</th>\n      <td>26.100000</td>\n      <td>0.5000</td>\n      <td>0.00025</td>\n      <td>0.00006</td>\n    </tr>\n    <tr>\n      <th>160mTm</th>\n      <td>28.000000</td>\n      <td>20.0000</td>\n      <td>NaN</td>\n      <td>NaN</td>\n    </tr>\n    <tr>\n      <th>212mPo</th>\n      <td>36.000000</td>\n      <td>15.0000</td>\n      <td>NaN</td>\n      <td>NaN</td>\n    </tr>\n  </tbody>\n</table>\n<p>467 rows × 4 columns</p>\n</div>"
     },
     "metadata": {},
     "execution_count": 99
    }
   ],
   "source": [
    "ig[((df[\"Energy\"] + df[\"FWHM\"]).iloc[0] > ig[\"E_tab\"] - ig[\"sigm_E\"])]"
   ]
  },
  {
   "cell_type": "code",
   "execution_count": 85,
   "metadata": {},
   "outputs": [],
   "source": [
    "# NO need for this now, deprecated\n",
    "\n",
    "#def getZ(element):\n",
    "#    element_Z ={\n",
    "#        \"Eu\": 63,\n",
    "#        \"U\": 92,\n",
    "#        \"Pu\": 94\n",
    "#    }\n",
    "#    return element_Z[element]"
   ]
  },
  {
   "cell_type": "code",
   "execution_count": 86,
   "metadata": {},
   "outputs": [],
   "source": [
    "# No need for this now, deprecated\n",
    "\n",
    "#def download(A, element):\n",
    "#    url = f\"http://nucleardata.nuclear.lu.se/toi/nuclide.asp?iZA={getZ(element)}0{A}\"\n",
    "#    urllib.request.urlretrieve (url, f\"downloads/{A}{element}.html\")\n",
    "#    print(f\"File {A}{element}.html downloaded.\")"
   ]
  },
  {
   "cell_type": "code",
   "execution_count": 87,
   "metadata": {},
   "outputs": [],
   "source": [
    "#def extract_Igamma(A, element):\n",
    "#    html_file = open(f\"downloads/{A}{element}.html\", \"r\")\n",
    "#    soup = BeautifulSoup(html_file.read(), 'lxml')\n",
    "    \n",
    "#    gammas_table = soup.find_all(\"table\")[4]\n",
    "#    gammas_rows = gammas_table.find_all('tr')[3:-1]\n",
    "#    energy = []\n",
    "#    sigm_energy = []\n",
    "#    i = []\n",
    "#    sigm_i = []\n",
    "\n",
    "#    for row in gammas_rows:\n",
    "#        cells = row.find_all('td')\n",
    "        \n",
    "#        e_val = cells[0].get_text(strip=True)\n",
    "#        i_val = cells[1].get_text(strip=True)\n",
    "#        try:\n",
    "#            ig_val = float(i_val[:-1])\n",
    "#            sigm_ig_val = float(i_val[-1])\n",
    "#        except:\n",
    "#            ig_val = float('NaN')\n",
    "#            sigm_ig_val = float('NaN')\n",
    "       \n",
    "#        energy.append(float(e_val[:-1]))\n",
    "#        sigm_energy.append(int(e_val[-1]))\n",
    "#        i.append(ig_val)\n",
    "        \n",
    "#        sigm_i.append(sigm_ig_val)\n",
    "\n",
    "\n",
    "#    df_dict = {\n",
    "#        \"E_tab\": energy,\n",
    "#        \"sigm_E_tab\": sigm_energy, \n",
    "#        \"Ig\": i,\n",
    "#        \"sigm_Ig\": sigm_i\n",
    "#        }\n",
    "#    df = pd.DataFrame(df_dict)\n",
    "#    df_name = f'ig_db/{A}{element}.csv'\n",
    "#    df.to_csv(df_name)\n",
    "   \n",
    "#    print(f\"Ig extracted from file 'downloads/{A}{element}.html' into '{df_name}'.\")"
   ]
  },
  {
   "cell_type": "code",
   "execution_count": 88,
   "metadata": {
    "tags": []
   },
   "outputs": [
    {
     "output_type": "stream",
     "name": "stdout",
     "text": [
      "parsed_reports/152Eu_g80.csv\n152\nEu\nA is 152 and element is Eu\n"
     ]
    },
    {
     "output_type": "error",
     "ename": "KeyError",
     "evalue": "4",
     "traceback": [
      "\u001b[0;31m---------------------------------------------------------------------------\u001b[0m",
      "\u001b[0;31mTypeError\u001b[0m                                 Traceback (most recent call last)",
      "\u001b[0;32mpandas/_libs/index.pyx\u001b[0m in \u001b[0;36mpandas._libs.index.IndexEngine._get_loc_duplicates\u001b[0;34m()\u001b[0m\n",
      "\u001b[0;31mTypeError\u001b[0m: '<' not supported between instances of 'str' and 'int'",
      "\nDuring handling of the above exception, another exception occurred:\n",
      "\u001b[0;31mKeyError\u001b[0m                                  Traceback (most recent call last)",
      "\u001b[0;32m~/anaconda3/lib/python3.8/site-packages/pandas/core/indexes/base.py\u001b[0m in \u001b[0;36mget_loc\u001b[0;34m(self, key, method, tolerance)\u001b[0m\n\u001b[1;32m   2894\u001b[0m             \u001b[0;32mtry\u001b[0m\u001b[0;34m:\u001b[0m\u001b[0;34m\u001b[0m\u001b[0;34m\u001b[0m\u001b[0m\n\u001b[0;32m-> 2895\u001b[0;31m                 \u001b[0;32mreturn\u001b[0m \u001b[0mself\u001b[0m\u001b[0;34m.\u001b[0m\u001b[0m_engine\u001b[0m\u001b[0;34m.\u001b[0m\u001b[0mget_loc\u001b[0m\u001b[0;34m(\u001b[0m\u001b[0mcasted_key\u001b[0m\u001b[0;34m)\u001b[0m\u001b[0;34m\u001b[0m\u001b[0;34m\u001b[0m\u001b[0m\n\u001b[0m\u001b[1;32m   2896\u001b[0m             \u001b[0;32mexcept\u001b[0m \u001b[0mKeyError\u001b[0m \u001b[0;32mas\u001b[0m \u001b[0merr\u001b[0m\u001b[0;34m:\u001b[0m\u001b[0;34m\u001b[0m\u001b[0;34m\u001b[0m\u001b[0m\n",
      "\u001b[0;32mpandas/_libs/index.pyx\u001b[0m in \u001b[0;36mpandas._libs.index.IndexEngine.get_loc\u001b[0;34m()\u001b[0m\n",
      "\u001b[0;32mpandas/_libs/index.pyx\u001b[0m in \u001b[0;36mpandas._libs.index.IndexEngine.get_loc\u001b[0;34m()\u001b[0m\n",
      "\u001b[0;32mpandas/_libs/index.pyx\u001b[0m in \u001b[0;36mpandas._libs.index.IndexEngine._get_loc_duplicates\u001b[0;34m()\u001b[0m\n",
      "\u001b[0;31mKeyError\u001b[0m: 4",
      "\nThe above exception was the direct cause of the following exception:\n",
      "\u001b[0;31mKeyError\u001b[0m                                  Traceback (most recent call last)",
      "\u001b[0;32m<ipython-input-88-233ad86a88f7>\u001b[0m in \u001b[0;36m<module>\u001b[0;34m\u001b[0m\n\u001b[0;32m----> 1\u001b[0;31m \u001b[0mappend_Igamma_dir\u001b[0m\u001b[0;34m(\u001b[0m\u001b[0;34m\"parsed_reports\"\u001b[0m\u001b[0;34m)\u001b[0m\u001b[0;34m\u001b[0m\u001b[0;34m\u001b[0m\u001b[0m\n\u001b[0m",
      "\u001b[0;32m<ipython-input-80-cf0e4730ff09>\u001b[0m in \u001b[0;36mappend_Igamma_dir\u001b[0;34m(parsed_dir)\u001b[0m\n\u001b[1;32m      4\u001b[0m \u001b[0;34m\u001b[0m\u001b[0m\n\u001b[1;32m      5\u001b[0m     \u001b[0;32mfor\u001b[0m \u001b[0mparsed_file\u001b[0m \u001b[0;32min\u001b[0m \u001b[0mglob\u001b[0m\u001b[0;34m.\u001b[0m\u001b[0miglob\u001b[0m\u001b[0;34m(\u001b[0m\u001b[0;34mf\"{parsed_dir}/*.csv\"\u001b[0m\u001b[0;34m)\u001b[0m\u001b[0;34m:\u001b[0m\u001b[0;34m\u001b[0m\u001b[0;34m\u001b[0m\u001b[0m\n\u001b[0;32m----> 6\u001b[0;31m         \u001b[0mappend_Igamma\u001b[0m\u001b[0;34m(\u001b[0m\u001b[0mparsed_file\u001b[0m\u001b[0;34m)\u001b[0m\u001b[0;34m\u001b[0m\u001b[0;34m\u001b[0m\u001b[0m\n\u001b[0m",
      "\u001b[0;32m<ipython-input-81-e106c03935a5>\u001b[0m in \u001b[0;36mappend_Igamma\u001b[0;34m(file)\u001b[0m\n\u001b[1;32m     27\u001b[0m \u001b[0;34m\u001b[0m\u001b[0m\n\u001b[1;32m     28\u001b[0m     \u001b[0mparsed_df\u001b[0m \u001b[0;34m=\u001b[0m \u001b[0mpd\u001b[0m\u001b[0;34m.\u001b[0m\u001b[0mread_csv\u001b[0m\u001b[0;34m(\u001b[0m\u001b[0mfile\u001b[0m\u001b[0;34m,\u001b[0m \u001b[0mindex_col\u001b[0m\u001b[0;34m=\u001b[0m\u001b[0;36m0\u001b[0m\u001b[0;34m)\u001b[0m\u001b[0;34m\u001b[0m\u001b[0;34m\u001b[0m\u001b[0m\n\u001b[0;32m---> 29\u001b[0;31m     \u001b[0mjoined_df\u001b[0m \u001b[0;34m=\u001b[0m \u001b[0madd_Ig\u001b[0m\u001b[0;34m(\u001b[0m\u001b[0mparsed_df\u001b[0m\u001b[0;34m,\u001b[0m \u001b[0mig_df\u001b[0m\u001b[0;34m)\u001b[0m\u001b[0;34m\u001b[0m\u001b[0;34m\u001b[0m\u001b[0m\n\u001b[0m\u001b[1;32m     30\u001b[0m \u001b[0;34m\u001b[0m\u001b[0m\n\u001b[1;32m     31\u001b[0m     \u001b[0mPath\u001b[0m\u001b[0;34m(\u001b[0m\u001b[0;34m\"./with_Ig\"\u001b[0m\u001b[0;34m)\u001b[0m\u001b[0;34m.\u001b[0m\u001b[0mmkdir\u001b[0m\u001b[0;34m(\u001b[0m\u001b[0mparents\u001b[0m\u001b[0;34m=\u001b[0m\u001b[0;32mTrue\u001b[0m\u001b[0;34m,\u001b[0m \u001b[0mexist_ok\u001b[0m\u001b[0;34m=\u001b[0m\u001b[0;32mTrue\u001b[0m\u001b[0;34m)\u001b[0m\u001b[0;34m\u001b[0m\u001b[0;34m\u001b[0m\u001b[0m\n",
      "\u001b[0;32m<ipython-input-84-76aadf4468f3>\u001b[0m in \u001b[0;36madd_Ig\u001b[0;34m(df, ig)\u001b[0m\n\u001b[1;32m     14\u001b[0m                 \u001b[0;32mbreak\u001b[0m\u001b[0;34m\u001b[0m\u001b[0;34m\u001b[0m\u001b[0m\n\u001b[1;32m     15\u001b[0m             \u001b[0;32melse\u001b[0m\u001b[0;34m:\u001b[0m\u001b[0;34m\u001b[0m\u001b[0;34m\u001b[0m\u001b[0m\n\u001b[0;32m---> 16\u001b[0;31m                 \u001b[0mdf\u001b[0m\u001b[0;34m.\u001b[0m\u001b[0mloc\u001b[0m\u001b[0;34m[\u001b[0m\u001b[0mrow_no\u001b[0m\u001b[0;34m,\u001b[0m \u001b[0;34m[\u001b[0m\u001b[0;34m\"E_tab\"\u001b[0m\u001b[0;34m,\u001b[0m \u001b[0;34m\"sigm_E_tab\"\u001b[0m\u001b[0;34m,\u001b[0m \u001b[0;34m\"Ig\"\u001b[0m\u001b[0;34m,\u001b[0m \u001b[0;34m\"sigm_Ig\"\u001b[0m\u001b[0;34m]\u001b[0m\u001b[0;34m]\u001b[0m \u001b[0;34m=\u001b[0m \u001b[0mig\u001b[0m\u001b[0;34m.\u001b[0m\u001b[0mloc\u001b[0m\u001b[0;34m[\u001b[0m\u001b[0mig_row_no\u001b[0m\u001b[0;34m]\u001b[0m\u001b[0;34m\u001b[0m\u001b[0;34m\u001b[0m\u001b[0m\n\u001b[0m\u001b[1;32m     17\u001b[0m     \u001b[0mprint\u001b[0m\u001b[0;34m(\u001b[0m\u001b[0;34m\"Ig added\"\u001b[0m\u001b[0;34m)\u001b[0m\u001b[0;34m\u001b[0m\u001b[0;34m\u001b[0m\u001b[0m\n\u001b[1;32m     18\u001b[0m     \u001b[0;32mreturn\u001b[0m \u001b[0mdf\u001b[0m\u001b[0;34m\u001b[0m\u001b[0;34m\u001b[0m\u001b[0m\n",
      "\u001b[0;32m~/anaconda3/lib/python3.8/site-packages/pandas/core/indexing.py\u001b[0m in \u001b[0;36m__getitem__\u001b[0;34m(self, key)\u001b[0m\n\u001b[1;32m    877\u001b[0m \u001b[0;34m\u001b[0m\u001b[0m\n\u001b[1;32m    878\u001b[0m             \u001b[0mmaybe_callable\u001b[0m \u001b[0;34m=\u001b[0m \u001b[0mcom\u001b[0m\u001b[0;34m.\u001b[0m\u001b[0mapply_if_callable\u001b[0m\u001b[0;34m(\u001b[0m\u001b[0mkey\u001b[0m\u001b[0;34m,\u001b[0m \u001b[0mself\u001b[0m\u001b[0;34m.\u001b[0m\u001b[0mobj\u001b[0m\u001b[0;34m)\u001b[0m\u001b[0;34m\u001b[0m\u001b[0;34m\u001b[0m\u001b[0m\n\u001b[0;32m--> 879\u001b[0;31m             \u001b[0;32mreturn\u001b[0m \u001b[0mself\u001b[0m\u001b[0;34m.\u001b[0m\u001b[0m_getitem_axis\u001b[0m\u001b[0;34m(\u001b[0m\u001b[0mmaybe_callable\u001b[0m\u001b[0;34m,\u001b[0m \u001b[0maxis\u001b[0m\u001b[0;34m=\u001b[0m\u001b[0maxis\u001b[0m\u001b[0;34m)\u001b[0m\u001b[0;34m\u001b[0m\u001b[0;34m\u001b[0m\u001b[0m\n\u001b[0m\u001b[1;32m    880\u001b[0m \u001b[0;34m\u001b[0m\u001b[0m\n\u001b[1;32m    881\u001b[0m     \u001b[0;32mdef\u001b[0m \u001b[0m_is_scalar_access\u001b[0m\u001b[0;34m(\u001b[0m\u001b[0mself\u001b[0m\u001b[0;34m,\u001b[0m \u001b[0mkey\u001b[0m\u001b[0;34m:\u001b[0m \u001b[0mTuple\u001b[0m\u001b[0;34m)\u001b[0m\u001b[0;34m:\u001b[0m\u001b[0;34m\u001b[0m\u001b[0;34m\u001b[0m\u001b[0m\n",
      "\u001b[0;32m~/anaconda3/lib/python3.8/site-packages/pandas/core/indexing.py\u001b[0m in \u001b[0;36m_getitem_axis\u001b[0;34m(self, key, axis)\u001b[0m\n\u001b[1;32m   1108\u001b[0m         \u001b[0;31m# fall thru to straight lookup\u001b[0m\u001b[0;34m\u001b[0m\u001b[0;34m\u001b[0m\u001b[0;34m\u001b[0m\u001b[0m\n\u001b[1;32m   1109\u001b[0m         \u001b[0mself\u001b[0m\u001b[0;34m.\u001b[0m\u001b[0m_validate_key\u001b[0m\u001b[0;34m(\u001b[0m\u001b[0mkey\u001b[0m\u001b[0;34m,\u001b[0m \u001b[0maxis\u001b[0m\u001b[0;34m)\u001b[0m\u001b[0;34m\u001b[0m\u001b[0;34m\u001b[0m\u001b[0m\n\u001b[0;32m-> 1110\u001b[0;31m         \u001b[0;32mreturn\u001b[0m \u001b[0mself\u001b[0m\u001b[0;34m.\u001b[0m\u001b[0m_get_label\u001b[0m\u001b[0;34m(\u001b[0m\u001b[0mkey\u001b[0m\u001b[0;34m,\u001b[0m \u001b[0maxis\u001b[0m\u001b[0;34m=\u001b[0m\u001b[0maxis\u001b[0m\u001b[0;34m)\u001b[0m\u001b[0;34m\u001b[0m\u001b[0;34m\u001b[0m\u001b[0m\n\u001b[0m\u001b[1;32m   1111\u001b[0m \u001b[0;34m\u001b[0m\u001b[0m\n\u001b[1;32m   1112\u001b[0m     \u001b[0;32mdef\u001b[0m \u001b[0m_get_slice_axis\u001b[0m\u001b[0;34m(\u001b[0m\u001b[0mself\u001b[0m\u001b[0;34m,\u001b[0m \u001b[0mslice_obj\u001b[0m\u001b[0;34m:\u001b[0m \u001b[0mslice\u001b[0m\u001b[0;34m,\u001b[0m \u001b[0maxis\u001b[0m\u001b[0;34m:\u001b[0m \u001b[0mint\u001b[0m\u001b[0;34m)\u001b[0m\u001b[0;34m:\u001b[0m\u001b[0;34m\u001b[0m\u001b[0;34m\u001b[0m\u001b[0m\n",
      "\u001b[0;32m~/anaconda3/lib/python3.8/site-packages/pandas/core/indexing.py\u001b[0m in \u001b[0;36m_get_label\u001b[0;34m(self, label, axis)\u001b[0m\n\u001b[1;32m   1057\u001b[0m     \u001b[0;32mdef\u001b[0m \u001b[0m_get_label\u001b[0m\u001b[0;34m(\u001b[0m\u001b[0mself\u001b[0m\u001b[0;34m,\u001b[0m \u001b[0mlabel\u001b[0m\u001b[0;34m,\u001b[0m \u001b[0maxis\u001b[0m\u001b[0;34m:\u001b[0m \u001b[0mint\u001b[0m\u001b[0;34m)\u001b[0m\u001b[0;34m:\u001b[0m\u001b[0;34m\u001b[0m\u001b[0;34m\u001b[0m\u001b[0m\n\u001b[1;32m   1058\u001b[0m         \u001b[0;31m# GH#5667 this will fail if the label is not present in the axis.\u001b[0m\u001b[0;34m\u001b[0m\u001b[0;34m\u001b[0m\u001b[0;34m\u001b[0m\u001b[0m\n\u001b[0;32m-> 1059\u001b[0;31m         \u001b[0;32mreturn\u001b[0m \u001b[0mself\u001b[0m\u001b[0;34m.\u001b[0m\u001b[0mobj\u001b[0m\u001b[0;34m.\u001b[0m\u001b[0mxs\u001b[0m\u001b[0;34m(\u001b[0m\u001b[0mlabel\u001b[0m\u001b[0;34m,\u001b[0m \u001b[0maxis\u001b[0m\u001b[0;34m=\u001b[0m\u001b[0maxis\u001b[0m\u001b[0;34m)\u001b[0m\u001b[0;34m\u001b[0m\u001b[0;34m\u001b[0m\u001b[0m\n\u001b[0m\u001b[1;32m   1060\u001b[0m \u001b[0;34m\u001b[0m\u001b[0m\n\u001b[1;32m   1061\u001b[0m     \u001b[0;32mdef\u001b[0m \u001b[0m_handle_lowerdim_multi_index_axis0\u001b[0m\u001b[0;34m(\u001b[0m\u001b[0mself\u001b[0m\u001b[0;34m,\u001b[0m \u001b[0mtup\u001b[0m\u001b[0;34m:\u001b[0m \u001b[0mTuple\u001b[0m\u001b[0;34m)\u001b[0m\u001b[0;34m:\u001b[0m\u001b[0;34m\u001b[0m\u001b[0;34m\u001b[0m\u001b[0m\n",
      "\u001b[0;32m~/anaconda3/lib/python3.8/site-packages/pandas/core/generic.py\u001b[0m in \u001b[0;36mxs\u001b[0;34m(self, key, axis, level, drop_level)\u001b[0m\n\u001b[1;32m   3489\u001b[0m             \u001b[0mloc\u001b[0m\u001b[0;34m,\u001b[0m \u001b[0mnew_index\u001b[0m \u001b[0;34m=\u001b[0m \u001b[0mself\u001b[0m\u001b[0;34m.\u001b[0m\u001b[0mindex\u001b[0m\u001b[0;34m.\u001b[0m\u001b[0mget_loc_level\u001b[0m\u001b[0;34m(\u001b[0m\u001b[0mkey\u001b[0m\u001b[0;34m,\u001b[0m \u001b[0mdrop_level\u001b[0m\u001b[0;34m=\u001b[0m\u001b[0mdrop_level\u001b[0m\u001b[0;34m)\u001b[0m\u001b[0;34m\u001b[0m\u001b[0;34m\u001b[0m\u001b[0m\n\u001b[1;32m   3490\u001b[0m         \u001b[0;32melse\u001b[0m\u001b[0;34m:\u001b[0m\u001b[0;34m\u001b[0m\u001b[0;34m\u001b[0m\u001b[0m\n\u001b[0;32m-> 3491\u001b[0;31m             \u001b[0mloc\u001b[0m \u001b[0;34m=\u001b[0m \u001b[0mself\u001b[0m\u001b[0;34m.\u001b[0m\u001b[0mindex\u001b[0m\u001b[0;34m.\u001b[0m\u001b[0mget_loc\u001b[0m\u001b[0;34m(\u001b[0m\u001b[0mkey\u001b[0m\u001b[0;34m)\u001b[0m\u001b[0;34m\u001b[0m\u001b[0;34m\u001b[0m\u001b[0m\n\u001b[0m\u001b[1;32m   3492\u001b[0m \u001b[0;34m\u001b[0m\u001b[0m\n\u001b[1;32m   3493\u001b[0m             \u001b[0;32mif\u001b[0m \u001b[0misinstance\u001b[0m\u001b[0;34m(\u001b[0m\u001b[0mloc\u001b[0m\u001b[0;34m,\u001b[0m \u001b[0mnp\u001b[0m\u001b[0;34m.\u001b[0m\u001b[0mndarray\u001b[0m\u001b[0;34m)\u001b[0m\u001b[0;34m:\u001b[0m\u001b[0;34m\u001b[0m\u001b[0;34m\u001b[0m\u001b[0m\n",
      "\u001b[0;32m~/anaconda3/lib/python3.8/site-packages/pandas/core/indexes/base.py\u001b[0m in \u001b[0;36mget_loc\u001b[0;34m(self, key, method, tolerance)\u001b[0m\n\u001b[1;32m   2895\u001b[0m                 \u001b[0;32mreturn\u001b[0m \u001b[0mself\u001b[0m\u001b[0;34m.\u001b[0m\u001b[0m_engine\u001b[0m\u001b[0;34m.\u001b[0m\u001b[0mget_loc\u001b[0m\u001b[0;34m(\u001b[0m\u001b[0mcasted_key\u001b[0m\u001b[0;34m)\u001b[0m\u001b[0;34m\u001b[0m\u001b[0;34m\u001b[0m\u001b[0m\n\u001b[1;32m   2896\u001b[0m             \u001b[0;32mexcept\u001b[0m \u001b[0mKeyError\u001b[0m \u001b[0;32mas\u001b[0m \u001b[0merr\u001b[0m\u001b[0;34m:\u001b[0m\u001b[0;34m\u001b[0m\u001b[0;34m\u001b[0m\u001b[0m\n\u001b[0;32m-> 2897\u001b[0;31m                 \u001b[0;32mraise\u001b[0m \u001b[0mKeyError\u001b[0m\u001b[0;34m(\u001b[0m\u001b[0mkey\u001b[0m\u001b[0;34m)\u001b[0m \u001b[0;32mfrom\u001b[0m \u001b[0merr\u001b[0m\u001b[0;34m\u001b[0m\u001b[0;34m\u001b[0m\u001b[0m\n\u001b[0m\u001b[1;32m   2898\u001b[0m \u001b[0;34m\u001b[0m\u001b[0m\n\u001b[1;32m   2899\u001b[0m         \u001b[0;32mif\u001b[0m \u001b[0mtolerance\u001b[0m \u001b[0;32mis\u001b[0m \u001b[0;32mnot\u001b[0m \u001b[0;32mNone\u001b[0m\u001b[0;34m:\u001b[0m\u001b[0;34m\u001b[0m\u001b[0;34m\u001b[0m\u001b[0m\n",
      "\u001b[0;31mKeyError\u001b[0m: 4"
     ]
    }
   ],
   "source": [
    "append_Igamma_dir(\"parsed_reports\")"
   ]
  }
 ]
}