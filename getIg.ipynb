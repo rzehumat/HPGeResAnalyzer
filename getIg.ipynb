{
 "metadata": {
  "language_info": {
   "codemirror_mode": {
    "name": "ipython",
    "version": 3
   },
   "file_extension": ".py",
   "mimetype": "text/x-python",
   "name": "python",
   "nbconvert_exporter": "python",
   "pygments_lexer": "ipython3",
   "version": "3.8.5-final"
  },
  "orig_nbformat": 2,
  "kernelspec": {
   "name": "python3",
   "display_name": "Python 3",
   "language": "python"
  }
 },
 "nbformat": 4,
 "nbformat_minor": 2,
 "cells": [
  {
   "cell_type": "code",
   "execution_count": 225,
   "metadata": {},
   "outputs": [],
   "source": [
    "import pandas as pd\n",
    "import json\n",
    "import numpy as np\n",
    "import os\n",
    "import glob\n",
    "import re\n",
    "import urllib\n",
    "from bs4 import BeautifulSoup\n",
    "from pathlib import Path\n"
   ]
  },
  {
   "cell_type": "code",
   "execution_count": 226,
   "metadata": {},
   "outputs": [],
   "source": [
    "def ig_unknown(file, hl_min, hl_max):\n",
    "    return \"Feature not implemented yet. Write an issue to GitHub.\""
   ]
  },
  {
   "cell_type": "code",
   "execution_count": 227,
   "metadata": {},
   "outputs": [],
   "source": [
    "def ig_isotope(measured_df, mat_list, hl_min, hl_max, name):\n",
    "    precursores = mat_list.split(',')\n",
    "    isotopes = []\n",
    "    with open(\"database/irr_products.json\") as f:\n",
    "        irradiation_products = json.load(f)\n",
    "    \n",
    "    for precursor in precursores:\n",
    "        try:\n",
    "            isotopes += irradiation_products[precursor]\n",
    "        \n",
    "        except:\n",
    "            irradiation_products[precursor] = load_irr_prod(precursor)\n",
    "            with open(\"database/irr_products.json\", 'w') as json_out:\n",
    "                json.dump(irradiation_products, json_out)\n",
    "\n",
    "    # get unique only\n",
    "    isotopes = list(set(isotopes))\n",
    "\n",
    "    db_parameters = [\"half-life\", \"sigm_half-life\", \"lambda\", \"sigm_lambda\", \"isotope\", \"Ig\", \"sigm_Ig\", \"E_tab\", \"sigm_E_tab\"]\n",
    "\n",
    "    measured_df[[db_parameters]] = np.nan*np.ones(shape=(measured_df.shape[0], len(db_parameters)))\n",
    "\n",
    "    for isotope in isotopes:\n",
    "        measured_df = add_db_info(measured_df, isotope)\n",
    "    \n",
    "    measured_df.to_csv(f\"out/{name}wDBinfo.csv\")"
   ]
  },
  {
   "cell_type": "code",
   "execution_count": 228,
   "metadata": {},
   "outputs": [],
   "source": [
    "def ig_nat_element(file, mat_list, hl_min, hl_max):\n",
    "    return \"Feature not implemented yet. Write an issue to GitHub.\""
   ]
  },
  {
   "cell_type": "code",
   "execution_count": 229,
   "metadata": {},
   "outputs": [],
   "source": [
    "def ig_element_spec(file, mat_list, hl_min, hl_max):\n",
    "    return \"Feature not implemented yet. Write an issue to GitHub.\""
   ]
  },
  {
   "cell_type": "code",
   "execution_count": 230,
   "metadata": {},
   "outputs": [],
   "source": [
    "def ig_material(file, mat_list, hl_min, hl_max):\n",
    "    return \"Feature not implemented yet. Write an issue to GitHub.\""
   ]
  },
  {
   "cell_type": "code",
   "execution_count": 231,
   "metadata": {},
   "outputs": [],
   "source": [
    "#def get_Igamma(file, material, hl_min, hl_max):\n",
    "#    df = pd.read_csv(file,header=0,index_col=0)\n",
    "#    name = file.split('.')[0]\n",
    "#    mat_type, mat_list = material.split(',', maxindex=1)\n",
    "#    switcher = {\n",
    "#        0: ig_unknown(df, hl_min, hl_max, name),\n",
    "#        \"isotope\": ig_isotope(df, mat_list, hl_min, hl_max, name), \n",
    "#        \"element_natural\": ig_nat_element(df, mat_list, hl_min, hl_max, name),\n",
    "#        \"element_spec\": ig_spec_element(df, mat_list, hl_min, hl_max, name),\n",
    "#        \"material\": ig_material(df, mat_list, hl_min, hl_max, name)\n",
    "#    }\n",
    "#    switcher.get(mat_type, \"Invalid material given\")"
   ]
  },
  {
   "cell_type": "code",
   "execution_count": 232,
   "metadata": {},
   "outputs": [],
   "source": [
    "def append_Igamma_dir(parsed_dir):\n",
    "    if not os.path.isdir(parsed_dir):\n",
    "        raise Exception(f\"Directory '{parsed_dir}' not found. Consider creating it and moving parsed files there.\")\n",
    "\n",
    "    #Path(\"./reports_Ig\").mkdir(parents=True, exist_ok=True)\n",
    "    for parsed_file in glob.iglob(f\"{parsed_dir}/*.csv\"):\n",
    "        append_Igamma(parsed_file)"
   ]
  },
  {
   "cell_type": "code",
   "execution_count": 233,
   "metadata": {},
   "outputs": [],
   "source": [
    "def append_Igamma(file):\n",
    "    print(file)\n",
    "    A, element = re.split(r'(\\d+)(\\w+)', file)[-3:-1]\n",
    "    print(A)\n",
    "    print(element)\n",
    "\n",
    "    Path(\"./ig_db\").mkdir(parents=True, exist_ok=True)\n",
    "    if os.path.isfile(f\"ig_db/{A}{element}.csv\"):\n",
    "        ig_df = pd.read_csv(f\"ig_db/{A}{element}.csv\", header=0, index_col=0)\n",
    "        print(\"Reading the csv with gammas.\")\n",
    "    else:\n",
    "        Path(\"./downloads\").mkdir(parents=True, exist_ok=True)\n",
    "        if os.path.isfile(f\"downloads/{A}{element}.html\"):\n",
    "            extract_Igamma(A, element)\n",
    "            ig_df = pd.read_csv(f\"ig_db/{A}{element}.csv\", header=0, index_col=0)\n",
    "            print(\"Reading the csv with gammas.\")\n",
    "        else:\n",
    "            download(A, element)\n",
    "            extract_Igamma(A, element)\n",
    "            ig_df = pd.read_csv(f\"ig_db/{A}{element}.csv\", header=0, index_col=0)\n",
    "            print(\"Reading the csv with gammas.\")\n",
    "    \n",
    "    parsed_df = pd.read_csv(file, index_col=0)\n",
    "    joined_df = add_Ig(parsed_df, ig_df)\n",
    "    \n",
    "    Path(\"./with_Ig\").mkdir(parents=True, exist_ok=True)\n",
    "    joined_df.to_csv(f\"with_Ig/{A}{element}.csv\")\n"
   ]
  },
  {
   "cell_type": "code",
   "execution_count": 234,
   "metadata": {},
   "outputs": [],
   "source": [
    "def add_Ig(df, ig):\n",
    "    e_col = []\n",
    "    ig_col = []\n",
    "\n",
    "    a = np.empty((df.shape[0], 2))\n",
    "    a[:] = np.nan\n",
    "    df[[\"E_tab\", \"Ig\"]] = a\n",
    "    # UGLY, never for-loop in pandas\n",
    "    for row_no in range(df.shape[0]):\n",
    "        for ig_row_no in range(ig.shape[0]):\n",
    "            if (df[\"Energy\"] - df[\"FWHM\"]).iloc[row_no] > ig[\"E_tab\"].iloc[ig_row_no]:\n",
    "                continue\n",
    "            elif (df[\"Energy\"] + df[\"FWHM\"]).iloc[row_no] < ig[\"E_tab\"].iloc[ig_row_no]:\n",
    "                break\n",
    "            else:\n",
    "                df.loc[row_no, [\"E_tab\", \"Ig\"]] = ig.loc[ig_row_no, [\"E_tab\", \"Ig\"]]\n",
    "    print(\"Ig added\")\n",
    "    return df"
   ]
  },
  {
   "cell_type": "code",
   "execution_count": 235,
   "metadata": {},
   "outputs": [],
   "source": [
    "def getZ(element):\n",
    "    element_Z ={\n",
    "        \"Eu\": 63,\n",
    "        \"U\": 92,\n",
    "        \"Pu\": 94\n",
    "    }\n",
    "    return element_Z[element]"
   ]
  },
  {
   "cell_type": "code",
   "execution_count": 236,
   "metadata": {},
   "outputs": [],
   "source": [
    "def download(A, element):\n",
    "    url = f\"http://nucleardata.nuclear.lu.se/toi/nuclide.asp?iZA={getZ(element)}0{A}\"\n",
    "    urllib.request.urlretrieve (url, f\"downloads/{A}{element}.html\")\n",
    "    print(f\"File {A}{element}.html downloaded.\")"
   ]
  },
  {
   "cell_type": "code",
   "execution_count": 237,
   "metadata": {},
   "outputs": [],
   "source": [
    "def extract_Igamma(A, element):\n",
    "    html_file = open(f\"downloads/{A}{element}.html\", \"r\")\n",
    "    soup = BeautifulSoup(html_file.read(), 'lxml')\n",
    "    \n",
    "    gammas_table = soup.find_all(\"table\")[4]\n",
    "    gammas_rows = gammas_table.find_all('tr')[3:-1]\n",
    "    energy = []\n",
    "    sigm_energy = []\n",
    "    i = []\n",
    "    sigm_i = []\n",
    "\n",
    "    for row in gammas_rows:\n",
    "        cells = row.find_all('td')\n",
    "        \n",
    "        e_val = cells[0].get_text(strip=True)\n",
    "        i_val = cells[1].get_text(strip=True)\n",
    "        try:\n",
    "            ig_val = float(i_val[:-1])\n",
    "            sigm_ig_val = float(i_val[-1])\n",
    "        except:\n",
    "            ig_val = float('NaN')\n",
    "            sigm_ig_val = float('NaN')\n",
    "       \n",
    "        energy.append(float(e_val[:-1]))\n",
    "        sigm_energy.append(int(e_val[-1]))\n",
    "        i.append(ig_val)\n",
    "        \n",
    "        sigm_i.append(sigm_ig_val)\n",
    "\n",
    "\n",
    "    df_dict = {\n",
    "        \"E_tab\": energy,\n",
    "        \"sigm_E_tab\": sigm_energy, \n",
    "        \"Ig\": i,\n",
    "        \"sigm_Ig\": sigm_i\n",
    "        }\n",
    "    df = pd.DataFrame(df_dict)\n",
    "    df_name = f'ig_db/{A}{element}.csv'\n",
    "    df.to_csv(df_name)\n",
    "   \n",
    "    print(f\"Ig extracted from file 'downloads/{A}{element}.html' into '{df_name}'.\")"
   ]
  },
  {
   "cell_type": "code",
   "execution_count": 238,
   "metadata": {
    "tags": []
   },
   "outputs": [
    {
     "output_type": "stream",
     "name": "stdout",
     "text": [
      "parsed_reports/152Eu.csv\n",
      "152\n",
      "Eu\n",
      "Reading the csv with gammas.\n",
      "Ig added\n"
     ]
    }
   ],
   "source": [
    "append_Igamma_dir(\"parsed_reports\")"
   ]
  }
 ]
}