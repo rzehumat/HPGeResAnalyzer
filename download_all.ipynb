{
 "metadata": {
  "language_info": {
   "codemirror_mode": {
    "name": "ipython",
    "version": 3
   },
   "file_extension": ".py",
   "mimetype": "text/x-python",
   "name": "python",
   "nbconvert_exporter": "python",
   "pygments_lexer": "ipython3",
   "version": "3.8.5"
  },
  "orig_nbformat": 2,
  "kernelspec": {
   "name": "python3",
   "display_name": "Python 3.8.5 64-bit ('base': conda)",
   "metadata": {
    "interpreter": {
     "hash": "590f3899dd7b9bcfd4cbc68d67e174e21f00fe45394f2e3932fd522000967c3f"
    }
   }
  }
 },
 "nbformat": 4,
 "nbformat_minor": 2,
 "cells": [
  {
   "cell_type": "code",
   "execution_count": 162,
   "metadata": {},
   "outputs": [],
   "source": [
    "import urllib\n",
    "import os\n",
    "import pandas as pd\n",
    "import re\n",
    "import decimal\n",
    "\n",
    "from math import pow\n",
    "from pprint import pprint\n",
    "from bs4 import BeautifulSoup\n",
    "from termcolor import colored"
   ]
  },
  {
   "cell_type": "code",
   "execution_count": 163,
   "metadata": {},
   "outputs": [],
   "source": [
    "Z_MIN = 1\n",
    "Z_MAX = 5\n",
    "TIME_CONVERSION = {\n",
    "    \"s\": 1, \n",
    "    \"m\": 60, \n",
    "    \"h\": 3600, \n",
    "    \"d\": 86400, \n",
    "    \"y\": 31556952\n",
    "}"
   ]
  },
  {
   "cell_type": "code",
   "execution_count": 164,
   "metadata": {},
   "outputs": [],
   "source": [
    "def download_isotopes_list(Z):\n",
    "    request_url = f\"http://nucleardata.nuclear.lu.se/toi/listnuc.asp?sql=&Z={Z}\"\n",
    "    urllib.request.urlretrieve(request_url, f\"downloads/find_isotopes/z_{Z}.html\")"
   ]
  },
  {
   "cell_type": "code",
   "execution_count": 165,
   "metadata": {},
   "outputs": [],
   "source": [
    "def download_range(z_min, z_max):\n",
    "    for Z in range(z_min, z_max + 1):\n",
    "        download_isotopes_list(Z)"
   ]
  },
  {
   "cell_type": "code",
   "execution_count": 166,
   "metadata": {},
   "outputs": [],
   "source": [
    "def parse_isotopes_one(Z):\n",
    "    html_path = f\"downloads/find_isotopes/z_{Z}.html\"\n",
    "    isotopes_lst_html = open(html_path, \"r\")\n",
    "    bs = BeautifulSoup(isotopes_lst_html.read(), 'lxml')\n",
    "    table = bs.find_all(\"table\")[0]\n",
    "    nuclide_lst = table.find_all('th')[9:]\n",
    "    abbr = str(nuclide_lst[0].find('a')).split('</sup>')[1][:-4]\n",
    "    out_file_path = f\"downloads/find_isotopes_parsed/{Z}_{abbr}.txt\"\n",
    "    out_file = open(out_file_path, \"w\")\n",
    "    out_file.write(f\"{Z}\\n\")\n",
    "    out_file.write(f\"{abbr}\\n\")\n",
    "    for nuclide in nuclide_lst:\n",
    "        out_file.write(f\"{nuclide.find('sup').get_text()}\\n\")\n",
    "\n",
    "    out_file.close()"
   ]
  },
  {
   "cell_type": "code",
   "execution_count": 167,
   "metadata": {},
   "outputs": [],
   "source": [
    "def parse_isotopes_range(z_min, z_max):\n",
    "    for Z in range(z_min, z_max + 1):\n",
    "        parse_isotopes_one(Z)"
   ]
  },
  {
   "cell_type": "code",
   "execution_count": 168,
   "metadata": {},
   "outputs": [],
   "source": [
    "def download_all_isotopes(Z):\n",
    "    down_dir = \"downloads/find_isotopes_parsed\"\n",
    "    files_lst = os.listdir(down_dir)\n",
    "    file_name = [s for s in files_lst if str(Z) == s.split('_')[0]]\n",
    "    isotopes_lst_file = open(f\"{down_dir}/{file_name[0]}\", \"r\")\n",
    "    lines = isotopes_lst_file.readlines()\n",
    "    abbr = lines[1].strip()\n",
    "    A_lst = lines[2:]\n",
    "    for A in A_lst:\n",
    "        A = int(A)\n",
    "        if A < 10:\n",
    "            str_A = '00' + str(A)\n",
    "        elif A < 100:\n",
    "            str_A = '0' + str(A)\n",
    "        url = f\"http://nucleardata.nuclear.lu.se/toi/nuclide.asp?iZA={Z}0{str_A}\"\n",
    "        urllib.request.urlretrieve(url, f\"downloads/isotopes_html/{A}_{abbr}_{Z}.html\")"
   ]
  },
  {
   "cell_type": "code",
   "execution_count": 169,
   "metadata": {},
   "outputs": [],
   "source": [
    "def download_all_elements(z_min, z_max):\n",
    "    for Z in range(z_min, z_max + 1):\n",
    "        download_all_isotopes(Z)"
   ]
  },
  {
   "cell_type": "code",
   "execution_count": 170,
   "metadata": {},
   "outputs": [],
   "source": [
    "def extract_Igamma(A, element, Z):\n",
    "    html_file = open(f\"downloads/isotopes_html/{A}_{element}_{Z}.html\", \"r\")\n",
    "    soup = BeautifulSoup(html_file.read(), 'lxml')\n",
    "\n",
    "    try:\n",
    "        gammas_table = soup.find_all(\"table\")[4]\n",
    "        gammas_rows = gammas_table.find_all('tr')[3:-1]\n",
    "    except:\n",
    "        A = int(A)\n",
    "        if A < 10:\n",
    "            str_A = '00' + str(A)\n",
    "        elif A < 100:\n",
    "            str_A = '0' + str(A)\n",
    "        print(colored(f\"Seems like there are no gamma-lines known for isotope {A}{element}.\", 'red'))\n",
    "        print(colored(\"Check yellow pages for reference.\", 'yellow'))\n",
    "        print(colored(f\"http://nucleardata.nuclear.lu.se/toi/nuclide.asp?iZA={Z}0{str_A}\", 'yellow'))\n",
    "        return 1\n",
    "    energy = []\n",
    "    sigm_energy = []\n",
    "    i = []\n",
    "    sigm_i = []\n",
    "\n",
    "    for row in gammas_rows:\n",
    "        cells = row.find_all('td')\n",
    "        \n",
    "        e_val = cells[0].get_text(strip=True)\n",
    "        i_val = cells[1].get_text(strip=True)\n",
    "        try:\n",
    "            ig_val = float(i_val[:-1])\n",
    "            sigm_ig_val = float(i_val[-1])\n",
    "        except:\n",
    "            ig_val = float('NaN')\n",
    "            sigm_ig_val = float('NaN')\n",
    "       \n",
    "        energy.append(float(e_val[:-1]))\n",
    "        sigm_energy.append(int(e_val[-1]))\n",
    "        i.append(ig_val)\n",
    "        \n",
    "        sigm_i.append(sigm_ig_val)\n",
    "\n",
    "\n",
    "    df_dict = {\n",
    "        \"E_tab\": energy,\n",
    "        \"sigm_E\": sigm_energy, \n",
    "        \"Ig\": i,\n",
    "        \"sigm_Ig\": sigm_i\n",
    "        }\n",
    "    df = pd.DataFrame(df_dict)\n",
    "    df_name = f'downloads/ig_db/{A}{element}.csv'\n",
    "    df.to_csv(df_name)\n",
    "   \n",
    "    print(f\"Ig extracted from file 'downloads/{A}{element}.html' into '{df_name}'.\")\n",
    "    return 0"
   ]
  },
  {
   "cell_type": "code",
   "execution_count": 171,
   "metadata": {},
   "outputs": [],
   "source": [
    "def extract_all_elements(z_min, z_max):\n",
    "    for Z in range(z_min, z_max + 1):\n",
    "        extract_element(Z)"
   ]
  },
  {
   "cell_type": "code",
   "execution_count": 172,
   "metadata": {},
   "outputs": [],
   "source": [
    "def extract_element(Z):\n",
    "    html_lst = os.listdir(\"downloads/isotopes_html\")\n",
    "    element_files = [f for f in html_lst if str(Z) == f.split('_')[-1].split('.')[0]]\n",
    "    for isotope_file in element_files:\n",
    "        A, element, Z = (isotope_file.split('.')[0]).split('_')\n",
    "        extract_Igamma(A, element, Z)\n",
    "        extract_info(A, element, Z)"
   ]
  },
  {
   "cell_type": "code",
   "execution_count": 173,
   "metadata": {},
   "outputs": [],
   "source": [
    "def extract_info(A, element, Z):\n",
    "    print(\"Extract info\")\n",
    "    print(A)\n",
    "    print(element)\n",
    "    print(Z)\n",
    "    html_file = open(f\"downloads/isotopes_html/{A}_{element}_{Z}.html\", \"r\")\n",
    "    soup = BeautifulSoup(html_file.read(), 'lxml')\n",
    "    table = soup.find_all(\"table\")[0]\n",
    "\n",
    "    info_rows = table.find_all(\"tr\")[6:16]\n",
    "    info_df = {}\n",
    "    #info_df = dict.fromkeys([\"Prod. mode:\", \"Half life:\"])\n",
    "    for row in info_rows:\n",
    "        print(row)\n",
    "        key = (row.find_all(\"th\")[0]).get_text(strip=True)\n",
    "        try:\n",
    "            val = row.find_all(\"td\")[0]\n",
    "        except:\n",
    "            continue\n",
    "        if val.find(\"i\"):\n",
    "            sigm = val.find(\"i\").get_text(strip=True)\n",
    "            val = str(val.get_text(strip=True))[:-len(sigm)]\n",
    "            info_df[f\"sigm_{key}\"] = sigm\n",
    "        else:\n",
    "            val = val.get_text(strip=True)\n",
    "\n",
    "        info_df[key] = val\n",
    "    \n",
    "    info_df.pop('', None)\n",
    "    info_df = pd.DataFrame(info_df, index=[0])\n",
    "\n",
    "    columns = info_df.columns.tolist()\n",
    "    for i in range(len(columns)):\n",
    "        columns[i] = columns[i][:-1]\n",
    "        columns[i] = (columns[i]).replace(u'\\xa0', u' ')\n",
    "\n",
    "    info_df.columns = columns\n",
    "    info_df[\"Literature cut-off date\"] = pd.to_datetime(info_df[\"Literature cut-off date\"])\n",
    "\n",
    "    print(columns)\n",
    "\n",
    "    if \"Prod. mode\" in columns:\n",
    "        for mode in re.findall('[A-Z][^A-Z]*', str(info_df[\"Prod. mode\"][0])):\n",
    "            mode = mode.replace(u'\\xa0', u' ')\n",
    "            info_df[f\"Prod_mode_{mode}\"] = True\n",
    "    \n",
    "    for var in [\"Sn(keV)\", \"Sp(keV)\"]:\n",
    "        if var in columns:\n",
    "            orig_num = info_df[var][0]\n",
    "            info_df[var] = info_df[var].astype(float)\n",
    "\n",
    "            sigma = f\"sigm_{var}\"\n",
    "            if sigma in columns:\n",
    "                g = decimal.Decimal(orig_num)\n",
    "                info_df[sigma] = int(info_df[sigma]) * pow(10, g.as_tuple().exponent)\n",
    "\n",
    "    print(info_df[\"Half life\"][0])\n",
    "    if info_df[\"Half life\"][0] == \"stable\":\n",
    "        info_df[\"Stable\"] = True\n",
    "        info_df = info_df.drop(columns=[\"Prod. mode\", \"Half life\"], errors=\"ignore\")\n",
    "        #if \"sigm_Sp(keV)\" in columns:\n",
    "        #    info_df = info_df.drop(columns=[\"sigm_Sp(keV)\"])\n",
    "        info_df.to_csv(f\"downloads/ig_db/info_{A}{element}.csv\")\n",
    "    elif info_df[\"Half life\"][0] == \"\":\n",
    "        info_df[\"Stable\"] = False\n",
    "        info_df = info_df.drop(columns=[\"Prod. mode\", \"Half life\"], errors=\"ignore\")\n",
    "        #if \"sigm_Sp(keV)\" in columns:\n",
    "        #    info_df = info_df.drop(columns=[\"sigm_Sp(keV)\"])\n",
    "        info_df.to_csv(f\"downloads/ig_db/info_{A}{element}.csv\")\n",
    "\n",
    "    else:\n",
    "        info_df[\"Stable\"] = False\n",
    "        hl_val, hl_unit = info_df[\"Half life\"][0].split()\n",
    "        d = decimal.Decimal(hl_val)\n",
    "        hl_val = float(hl_val)\n",
    "        \n",
    "        info_df[\"Half-life [s]\"] = hl_val * TIME_CONVERSION[hl_unit]\n",
    "        if \"sigm_Half life\" in columns:\n",
    "            info_df[\"sigm_Half-life [s]\"] = int(info_df[\"sigm_Half life\"][0]) * pow(10, d.as_tuple().exponent) * TIME_CONVERSION[hl_unit]\n",
    "        \n",
    "        info_df = info_df.drop(columns=[\"Prod. mode\", \"Half life\"], errors=\"ignore\")\n",
    "        if \"sigm_Half life\" in columns:\n",
    "            info_df = info_df.drop(columns=[\"sigm_Half life\"])\n",
    "        if \"sigm_Sp(keV)\" in columns:\n",
    "            info_df = info_df.drop(columns=[\"sigm_Sp(keV)\"])\n",
    "        info_df.to_csv(f\"downloads/ig_db/info_{A}{element}.csv\")"
   ]
  },
  {
   "cell_type": "code",
   "execution_count": 174,
   "metadata": {},
   "outputs": [
    {
     "output_type": "stream",
     "name": "stdout",
     "text": [
      "\u001b[31mSeems like there are no gamma-lines known for isotope 4H.\u001b[0m\n\u001b[33mCheck yellow pages for reference.\u001b[0m\n\u001b[33mhttp://nucleardata.nuclear.lu.se/toi/nuclide.asp?iZA=10004\u001b[0m\nExtract info\n4\nH\n1\n<tr><th align=\"left\">Half life: </th><td>  </td><td></td></tr>\n<tr><th align=\"left\">J<font face=\"SYMBOL\">p</font>:</th><td>2-</td></tr>\n<tr><th align=\"left\"> </th><td colspan=\"2\"></td></tr>\n<tr><th align=\"left\">ENSDF citation:</th><td>NP A541 1 (1992)</td></tr>\n<tr><th align=\"left\" valign=\"top\">Literature cut-off date: </th><td valign=\"top\">8-Oct-1991</td></tr>\n<tr><th align=\"left\" valign=\"top\">Author(s): </th><td colspan=\"3\" valign=\"top\">J.H. Kelley, D.R. Tilley, H.R. Weller and G.M. Hale</td></tr>\n<tr><th align=\"left\" valign=\"top\">References since cut-off:</th><td valign=\"top\">\n<a href=\"javascript:getRecentRefs(4,'H',1991)\"><sup>4</sup>H decay from 1991-98 (NSR)</a>\n</td></tr>\n<tr><th align=\"left\" colspan=\"4\"><hr noshade=\"\" size=\"4\"/></th></tr>\n['Half life', 'Jp', 'ENSDF citation', 'Literature cut-off date', 'Author(s)', 'References since cut-off']\n\n\u001b[31mSeems like there are no gamma-lines known for isotope 3H.\u001b[0m\n\u001b[33mCheck yellow pages for reference.\u001b[0m\n\u001b[33mhttp://nucleardata.nuclear.lu.se/toi/nuclide.asp?iZA=10003\u001b[0m\nExtract info\n3\nH\n1\n<tr><th align=\"left\">Half life: </th><td>12.33 y <i>6</i>  </td><td></td></tr>\n<tr><th align=\"left\">J<font face=\"SYMBOL\">p</font>:</th><td>1/2+</td></tr>\n<tr><th align=\"left\">S<sub>n</sub> (keV): </th><td>   6257.25</td></tr>\n<tr><th align=\"left\" valign=\"top\">Prod. mode: </th><td>\n\t\t\tNaturally occurring<br/>Charged particle reaction<br/>Thermal neutron activation<br/>\n</td></tr>\n<tr><th align=\"left\"> </th><td colspan=\"2\"></td></tr>\n<tr><th align=\"left\">ENSDF citation:</th><td>NP A474 1 (1987)</td></tr>\n<tr><th align=\"left\" valign=\"top\">Literature cut-off date: </th><td valign=\"top\">22-Jun-1987</td></tr>\n<tr><th align=\"left\" valign=\"top\">Author(s): </th><td colspan=\"3\" valign=\"top\">J.H. Kelley, D.R. Tilley, H.R. Weller and H.H. Hasan</td></tr>\n<tr><th align=\"left\" valign=\"top\">References since cut-off:</th><td valign=\"top\">\n<a href=\"javascript:getRecentRefs(3,'H',1987)\"><sup>3</sup>H decay from 1987-98 (NSR)</a>\n</td></tr>\n<tr><th colspan=\"4\"> </th></tr>\n['sigm_Half life', 'Half life', 'Jp', 'Sn(keV)', 'Prod. mode', 'ENSDF citation', 'Literature cut-off date', 'Author(s)', 'References since cut-off']\n12.33 y\n\u001b[31mSeems like there are no gamma-lines known for isotope 6H.\u001b[0m\n\u001b[33mCheck yellow pages for reference.\u001b[0m\n\u001b[33mhttp://nucleardata.nuclear.lu.se/toi/nuclide.asp?iZA=10006\u001b[0m\nExtract info\n6\nH\n1\n<tr><th align=\"left\">Half life: </th><td>  </td><td></td></tr>\n<tr><th align=\"left\">S<sub>n</sub> (keV): </th><td>3.04E3 <i>10</i></td></tr>\n<tr><th align=\"left\"> </th><td colspan=\"2\"></td></tr>\n<tr><th align=\"left\">ENSDF citation:</th><td>NP A490,1 (1988)</td></tr>\n<tr><th align=\"left\" valign=\"top\">Literature cut-off date: </th><td valign=\"top\">1-Jun-1988</td></tr>\n<tr><th align=\"left\" valign=\"top\">Author(s): </th><td colspan=\"3\" valign=\"top\">F. Ajzenberg-Selove</td></tr>\n<tr><th align=\"left\" valign=\"top\">References since cut-off:</th><td valign=\"top\">\n<a href=\"javascript:getRecentRefs(6,'H',1988)\"><sup>6</sup>H decay from 1988-98 (NSR)</a>\n</td></tr>\n<tr><th align=\"left\" colspan=\"4\"><hr noshade=\"\" size=\"4\"/></th></tr>\n['Half life', 'sigm_Sn(keV)', 'Sn(keV)', 'ENSDF citation', 'Literature cut-off date', 'Author(s)', 'References since cut-off']\n\n\u001b[31mSeems like there are no gamma-lines known for isotope 1H.\u001b[0m\n\u001b[33mCheck yellow pages for reference.\u001b[0m\n\u001b[33mhttp://nucleardata.nuclear.lu.se/toi/nuclide.asp?iZA=10001\u001b[0m\nExtract info\n1\nH\n1\n<tr><th align=\"left\">Half life: </th><td>stable  </td><td></td></tr>\n<tr><th align=\"left\">Abundance: </th><td>99.985 <i>1</i> %</td></tr>\n<tr><th align=\"left\">J<font face=\"SYMBOL\">p</font>:</th><td>1/2+</td></tr>\n<tr><th align=\"left\" valign=\"top\">Prod. mode: </th><td>\n\t\t\tNaturally occurring<br/>\n</td></tr>\n<tr><th align=\"left\"> </th><td colspan=\"2\"></td></tr>\n<tr><th align=\"left\" valign=\"top\">Literature cut-off date: </th><td valign=\"top\"></td></tr>\n<tr><th align=\"left\" valign=\"top\">Author(s): </th><td colspan=\"3\" valign=\"top\"></td></tr>\n<tr><th align=\"left\" valign=\"top\">Update: </th><td valign=\"top\">1-Jul-1987, E.N. Shurshikov and N.V. Timofeeva</td></tr>\n<tr><th align=\"left\" valign=\"top\">References since cut-off:</th><td valign=\"top\">\n<a href=\"javascript:getRecentRefs(1,'H',1987)\"><sup>1</sup>H decay from 1987-98 (NSR)</a>\n</td></tr>\n<tr><th align=\"left\" colspan=\"4\"><hr noshade=\"\" size=\"4\"/></th></tr>\n['Half life', 'sigm_Abundance', 'Abundance', 'Jp', 'Prod. mode', 'Literature cut-off date', 'Author(s)', 'Update', 'References since cut-off']\nstable\n\u001b[31mSeems like there are no gamma-lines known for isotope 2H.\u001b[0m\n\u001b[33mCheck yellow pages for reference.\u001b[0m\n\u001b[33mhttp://nucleardata.nuclear.lu.se/toi/nuclide.asp?iZA=10002\u001b[0m\nExtract info\n2\nH\n1\n<tr><th align=\"left\">Half life: </th><td>stable  </td><td></td></tr>\n<tr><th align=\"left\">Abundance: </th><td>0.015 <i>1</i> %</td></tr>\n<tr><th align=\"left\">J<font face=\"SYMBOL\">p</font>:</th><td>1+</td></tr>\n<tr><th align=\"left\">S<sub>n</sub> (keV): </th><td>   2224.57</td></tr>\n<tr><th align=\"left\">S<sub>p</sub> (keV): </th><td>   2224.57</td></tr>\n<tr><th align=\"left\" valign=\"top\">Prod. mode: </th><td>\n\t\t\tNaturally occurring<br/>\n</td></tr>\n<tr><th align=\"left\"> </th><td colspan=\"2\"></td></tr>\n<tr><th align=\"left\" valign=\"top\">Literature cut-off date: </th><td valign=\"top\"></td></tr>\n<tr><th align=\"left\" valign=\"top\">Author(s): </th><td colspan=\"3\" valign=\"top\"></td></tr>\n<tr><th align=\"left\" valign=\"top\">Update: </th><td valign=\"top\">1-Jan-1986, E.N. Shurshikov</td></tr>\n['Half life', 'sigm_Abundance', 'Abundance', 'Jp', 'Sn(keV)', 'Sp(keV)', 'Prod. mode', 'Literature cut-off date', 'Author(s)', 'Update']\nstable\n\u001b[31mSeems like there are no gamma-lines known for isotope 5H.\u001b[0m\n\u001b[33mCheck yellow pages for reference.\u001b[0m\n\u001b[33mhttp://nucleardata.nuclear.lu.se/toi/nuclide.asp?iZA=10005\u001b[0m\nExtract info\n5\nH\n1\n<tr><th align=\"left\">Half life: </th><td>  </td><td></td></tr>\n<tr><th align=\"left\"> </th><td colspan=\"2\"></td></tr>\n<tr><th align=\"left\">ENSDF citation:</th><td>NP A490,1 (1988)</td></tr>\n<tr><th align=\"left\" valign=\"top\">Literature cut-off date: </th><td valign=\"top\">1-Jun-1988</td></tr>\n<tr><th align=\"left\" valign=\"top\">Author(s): </th><td colspan=\"3\" valign=\"top\">F. Ajzenberg-Selove</td></tr>\n<tr><th align=\"left\" valign=\"top\">References since cut-off:</th><td valign=\"top\">\n<a href=\"javascript:getRecentRefs(5,'H',1988)\"><sup>5</sup>H decay from 1988-98 (NSR)</a>\n</td></tr>\n<tr><th align=\"left\" colspan=\"4\"><hr noshade=\"\" size=\"4\"/></th></tr>\n['Half life', 'ENSDF citation', 'Literature cut-off date', 'Author(s)', 'References since cut-off']\n\n\u001b[31mSeems like there are no gamma-lines known for isotope 10He.\u001b[0m\n\u001b[33mCheck yellow pages for reference.\u001b[0m\n\u001b[33mhttp://nucleardata.nuclear.lu.se/toi/nuclide.asp?iZA=20010\u001b[0m\nExtract info\n10\nHe\n2\n<tr><th align=\"left\">Half life: </th><td>0.3 MeV <i>2</i>  </td><td></td></tr>\n<tr><th align=\"left\">J<font face=\"SYMBOL\">p</font>:</th><td>0+</td></tr>\n<tr><th align=\"left\">S<sub>n</sub> (keV): </th><td>8 <i>9</i></td></tr>\n<tr><th align=\"left\"> </th><td colspan=\"2\"></td></tr>\n<tr><th align=\"left\" valign=\"top\">Literature cut-off date: </th><td valign=\"top\"></td></tr>\n<tr><th align=\"left\" valign=\"top\">Author(s): </th><td colspan=\"3\" valign=\"top\"></td></tr>\n<tr><th align=\"left\" valign=\"top\">Update: </th><td valign=\"top\">1-Jan-1997, J. Blachot</td></tr>\n<tr><th align=\"left\" valign=\"top\">References since cut-off:</th><td valign=\"top\">\n<a href=\"javascript:getRecentRefs(10,'He',1997)\"><sup>10</sup>He decay from 1997-98 (NSR)</a>\n</td></tr>\n<tr><th colspan=\"4\"> </th></tr>\n<tr><th align=\"center\" colspan=\"4\"><font color=\"#aa0000\" size=\"5\"><i>Decay properties:</i></font><br/> </th></tr>\n['sigm_Half life', 'Half life', 'Jp', 'sigm_Sn(keV)', 'Sn(keV)', 'Literature cut-off date', 'Author(s)', 'Update', 'References since cut-off']\n0.3 MeV\n"
     ]
    },
    {
     "output_type": "error",
     "ename": "KeyError",
     "evalue": "'MeV'",
     "traceback": [
      "\u001b[0;31m---------------------------------------------------------------------------\u001b[0m",
      "\u001b[0;31mKeyError\u001b[0m                                  Traceback (most recent call last)",
      "\u001b[0;32m<ipython-input-174-3b1e694129a3>\u001b[0m in \u001b[0;36m<module>\u001b[0;34m\u001b[0m\n\u001b[1;32m      2\u001b[0m \u001b[0mparse_isotopes_range\u001b[0m\u001b[0;34m(\u001b[0m\u001b[0mZ_MIN\u001b[0m\u001b[0;34m,\u001b[0m\u001b[0mZ_MAX\u001b[0m\u001b[0;34m)\u001b[0m\u001b[0;34m\u001b[0m\u001b[0;34m\u001b[0m\u001b[0m\n\u001b[1;32m      3\u001b[0m \u001b[0mdownload_all_elements\u001b[0m\u001b[0;34m(\u001b[0m\u001b[0mZ_MIN\u001b[0m\u001b[0;34m,\u001b[0m \u001b[0mZ_MAX\u001b[0m\u001b[0;34m)\u001b[0m\u001b[0;34m\u001b[0m\u001b[0;34m\u001b[0m\u001b[0m\n\u001b[0;32m----> 4\u001b[0;31m \u001b[0mextract_all_elements\u001b[0m\u001b[0;34m(\u001b[0m\u001b[0mZ_MIN\u001b[0m\u001b[0;34m,\u001b[0m \u001b[0mZ_MAX\u001b[0m\u001b[0;34m)\u001b[0m\u001b[0;34m\u001b[0m\u001b[0;34m\u001b[0m\u001b[0m\n\u001b[0m",
      "\u001b[0;32m<ipython-input-171-1fec518517af>\u001b[0m in \u001b[0;36mextract_all_elements\u001b[0;34m(z_min, z_max)\u001b[0m\n\u001b[1;32m      1\u001b[0m \u001b[0;32mdef\u001b[0m \u001b[0mextract_all_elements\u001b[0m\u001b[0;34m(\u001b[0m\u001b[0mz_min\u001b[0m\u001b[0;34m,\u001b[0m \u001b[0mz_max\u001b[0m\u001b[0;34m)\u001b[0m\u001b[0;34m:\u001b[0m\u001b[0;34m\u001b[0m\u001b[0;34m\u001b[0m\u001b[0m\n\u001b[1;32m      2\u001b[0m     \u001b[0;32mfor\u001b[0m \u001b[0mZ\u001b[0m \u001b[0;32min\u001b[0m \u001b[0mrange\u001b[0m\u001b[0;34m(\u001b[0m\u001b[0mz_min\u001b[0m\u001b[0;34m,\u001b[0m \u001b[0mz_max\u001b[0m \u001b[0;34m+\u001b[0m \u001b[0;36m1\u001b[0m\u001b[0;34m)\u001b[0m\u001b[0;34m:\u001b[0m\u001b[0;34m\u001b[0m\u001b[0;34m\u001b[0m\u001b[0m\n\u001b[0;32m----> 3\u001b[0;31m         \u001b[0mextract_element\u001b[0m\u001b[0;34m(\u001b[0m\u001b[0mZ\u001b[0m\u001b[0;34m)\u001b[0m\u001b[0;34m\u001b[0m\u001b[0;34m\u001b[0m\u001b[0m\n\u001b[0m",
      "\u001b[0;32m<ipython-input-172-9ba47c1184ea>\u001b[0m in \u001b[0;36mextract_element\u001b[0;34m(Z)\u001b[0m\n\u001b[1;32m      5\u001b[0m         \u001b[0mA\u001b[0m\u001b[0;34m,\u001b[0m \u001b[0melement\u001b[0m\u001b[0;34m,\u001b[0m \u001b[0mZ\u001b[0m \u001b[0;34m=\u001b[0m \u001b[0;34m(\u001b[0m\u001b[0misotope_file\u001b[0m\u001b[0;34m.\u001b[0m\u001b[0msplit\u001b[0m\u001b[0;34m(\u001b[0m\u001b[0;34m'.'\u001b[0m\u001b[0;34m)\u001b[0m\u001b[0;34m[\u001b[0m\u001b[0;36m0\u001b[0m\u001b[0;34m]\u001b[0m\u001b[0;34m)\u001b[0m\u001b[0;34m.\u001b[0m\u001b[0msplit\u001b[0m\u001b[0;34m(\u001b[0m\u001b[0;34m'_'\u001b[0m\u001b[0;34m)\u001b[0m\u001b[0;34m\u001b[0m\u001b[0;34m\u001b[0m\u001b[0m\n\u001b[1;32m      6\u001b[0m         \u001b[0mextract_Igamma\u001b[0m\u001b[0;34m(\u001b[0m\u001b[0mA\u001b[0m\u001b[0;34m,\u001b[0m \u001b[0melement\u001b[0m\u001b[0;34m,\u001b[0m \u001b[0mZ\u001b[0m\u001b[0;34m)\u001b[0m\u001b[0;34m\u001b[0m\u001b[0;34m\u001b[0m\u001b[0m\n\u001b[0;32m----> 7\u001b[0;31m         \u001b[0mextract_info\u001b[0m\u001b[0;34m(\u001b[0m\u001b[0mA\u001b[0m\u001b[0;34m,\u001b[0m \u001b[0melement\u001b[0m\u001b[0;34m,\u001b[0m \u001b[0mZ\u001b[0m\u001b[0;34m)\u001b[0m\u001b[0;34m\u001b[0m\u001b[0;34m\u001b[0m\u001b[0m\n\u001b[0m",
      "\u001b[0;32m<ipython-input-173-2bdf47193e9f>\u001b[0m in \u001b[0;36mextract_info\u001b[0;34m(A, element, Z)\u001b[0m\n\u001b[1;32m     75\u001b[0m         \u001b[0mhl_val\u001b[0m \u001b[0;34m=\u001b[0m \u001b[0mfloat\u001b[0m\u001b[0;34m(\u001b[0m\u001b[0mhl_val\u001b[0m\u001b[0;34m)\u001b[0m\u001b[0;34m\u001b[0m\u001b[0;34m\u001b[0m\u001b[0m\n\u001b[1;32m     76\u001b[0m \u001b[0;34m\u001b[0m\u001b[0m\n\u001b[0;32m---> 77\u001b[0;31m         \u001b[0minfo_df\u001b[0m\u001b[0;34m[\u001b[0m\u001b[0;34m\"Half-life [s]\"\u001b[0m\u001b[0;34m]\u001b[0m \u001b[0;34m=\u001b[0m \u001b[0mhl_val\u001b[0m \u001b[0;34m*\u001b[0m \u001b[0mTIME_CONVERSION\u001b[0m\u001b[0;34m[\u001b[0m\u001b[0mhl_unit\u001b[0m\u001b[0;34m]\u001b[0m\u001b[0;34m\u001b[0m\u001b[0;34m\u001b[0m\u001b[0m\n\u001b[0m\u001b[1;32m     78\u001b[0m         \u001b[0;32mif\u001b[0m \u001b[0;34m\"sigm_Half life\"\u001b[0m \u001b[0;32min\u001b[0m \u001b[0mcolumns\u001b[0m\u001b[0;34m:\u001b[0m\u001b[0;34m\u001b[0m\u001b[0;34m\u001b[0m\u001b[0m\n\u001b[1;32m     79\u001b[0m             \u001b[0minfo_df\u001b[0m\u001b[0;34m[\u001b[0m\u001b[0;34m\"sigm_Half-life [s]\"\u001b[0m\u001b[0;34m]\u001b[0m \u001b[0;34m=\u001b[0m \u001b[0mint\u001b[0m\u001b[0;34m(\u001b[0m\u001b[0minfo_df\u001b[0m\u001b[0;34m[\u001b[0m\u001b[0;34m\"sigm_Half life\"\u001b[0m\u001b[0;34m]\u001b[0m\u001b[0;34m[\u001b[0m\u001b[0;36m0\u001b[0m\u001b[0;34m]\u001b[0m\u001b[0;34m)\u001b[0m \u001b[0;34m*\u001b[0m \u001b[0mpow\u001b[0m\u001b[0;34m(\u001b[0m\u001b[0;36m10\u001b[0m\u001b[0;34m,\u001b[0m \u001b[0md\u001b[0m\u001b[0;34m.\u001b[0m\u001b[0mas_tuple\u001b[0m\u001b[0;34m(\u001b[0m\u001b[0;34m)\u001b[0m\u001b[0;34m.\u001b[0m\u001b[0mexponent\u001b[0m\u001b[0;34m)\u001b[0m \u001b[0;34m*\u001b[0m \u001b[0mTIME_CONVERSION\u001b[0m\u001b[0;34m[\u001b[0m\u001b[0mhl_unit\u001b[0m\u001b[0;34m]\u001b[0m\u001b[0;34m\u001b[0m\u001b[0;34m\u001b[0m\u001b[0m\n",
      "\u001b[0;31mKeyError\u001b[0m: 'MeV'"
     ]
    }
   ],
   "source": [
    "download_range(Z_MIN, Z_MAX)\n",
    "parse_isotopes_range(Z_MIN,Z_MAX)\n",
    "download_all_elements(Z_MIN, Z_MAX)\n",
    "extract_all_elements(Z_MIN, Z_MAX)"
   ]
  }
 ]
}