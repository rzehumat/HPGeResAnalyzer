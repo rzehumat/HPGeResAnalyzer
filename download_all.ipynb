{
 "metadata": {
  "language_info": {
   "codemirror_mode": {
    "name": "ipython",
    "version": 3
   },
   "file_extension": ".py",
   "mimetype": "text/x-python",
   "name": "python",
   "nbconvert_exporter": "python",
   "pygments_lexer": "ipython3",
   "version": "3.8.5-final"
  },
  "orig_nbformat": 2,
  "kernelspec": {
   "name": "python3",
   "display_name": "Python 3.8.5 64-bit ('base': conda)",
   "metadata": {
    "interpreter": {
     "hash": "590f3899dd7b9bcfd4cbc68d67e174e21f00fe45394f2e3932fd522000967c3f"
    }
   }
  }
 },
 "nbformat": 4,
 "nbformat_minor": 2,
 "cells": [
  {
   "cell_type": "code",
   "execution_count": 131,
   "metadata": {},
   "outputs": [],
   "source": [
    "import urllib\n",
    "import os\n",
    "import pandas as pd\n",
    "\n",
    "from bs4 import BeautifulSoup\n",
    "from termcolor import colored"
   ]
  },
  {
   "cell_type": "code",
   "execution_count": 54,
   "metadata": {},
   "outputs": [],
   "source": [
    "Z_MIN = 1\n",
    "Z_MAX = 112"
   ]
  },
  {
   "cell_type": "code",
   "execution_count": 4,
   "metadata": {},
   "outputs": [],
   "source": [
    "def download_isotopes_list(Z):\n",
    "    request_url = f\"http://nucleardata.nuclear.lu.se/toi/listnuc.asp?sql=&Z={Z}\"\n",
    "    urllib.request.urlretrieve(request_url, f\"downloads/find_isotopes/z_{Z}.html\")"
   ]
  },
  {
   "cell_type": "code",
   "execution_count": 5,
   "metadata": {},
   "outputs": [],
   "source": [
    "def download_range(z_min, z_max):\n",
    "    for Z in range(z_min, z_max + 1):\n",
    "        download_isotopes_list(Z)"
   ]
  },
  {
   "cell_type": "code",
   "execution_count": 6,
   "metadata": {},
   "outputs": [],
   "source": [
    "download_range(Z_MIN, Z_MAX)"
   ]
  },
  {
   "cell_type": "code",
   "execution_count": 62,
   "metadata": {},
   "outputs": [],
   "source": [
    "def parse_isotopes_one(Z):\n",
    "    html_path = f\"downloads/find_isotopes/z_{Z}.html\"\n",
    "    isotopes_lst_html = open(html_path, \"r\")\n",
    "    bs = BeautifulSoup(isotopes_lst_html.read(), 'lxml')\n",
    "    table = bs.find_all(\"table\")[0]\n",
    "    nuclide_lst = table.find_all('th')[9:]\n",
    "    abbr = str(nuclide_lst[0].find('a')).split('</sup>')[1][:-4]\n",
    "    out_file_path = f\"downloads/find_isotopes_parsed/{Z}_{abbr}.txt\"\n",
    "    out_file = open(out_file_path, \"w\")\n",
    "    out_file.write(f\"{Z}\\n\")\n",
    "    out_file.write(f\"{abbr}\\n\")\n",
    "    for nuclide in nuclide_lst:\n",
    "        out_file.write(f\"{nuclide.find('sup').get_text()}\\n\")\n",
    "\n",
    "    out_file.close()"
   ]
  },
  {
   "cell_type": "code",
   "execution_count": 63,
   "metadata": {},
   "outputs": [],
   "source": [
    "def parse_isotopes_range(z_min, z_max):\n",
    "    for Z in range(z_min, z_max + 1):\n",
    "        parse_isotopes_one(Z)"
   ]
  },
  {
   "cell_type": "code",
   "execution_count": 65,
   "metadata": {},
   "outputs": [],
   "source": [
    "parse_isotopes_range(Z_MIN,Z_MAX)"
   ]
  },
  {
   "cell_type": "code",
   "execution_count": 116,
   "metadata": {},
   "outputs": [],
   "source": [
    "def download_all_isotopes(Z):\n",
    "    down_dir = \"downloads/find_isotopes_parsed\"\n",
    "    files_lst = os.listdir(down_dir)\n",
    "    file_name = [s for s in files_lst if str(Z) == s.split('_')[0]]\n",
    "    isotopes_lst_file = open(f\"{down_dir}/{file_name[0]}\", \"r\")\n",
    "    lines = isotopes_lst_file.readlines()\n",
    "    abbr = lines[1].strip()\n",
    "    A_lst = lines[2:]\n",
    "    for A in A_lst:\n",
    "        A = int(A)\n",
    "        if A < 10:\n",
    "            str_A = '00' + str(A)\n",
    "        elif A < 100:\n",
    "            str_A = '0' + str(A)\n",
    "        url = f\"http://nucleardata.nuclear.lu.se/toi/nuclide.asp?iZA={Z}0{str_A}\"\n",
    "        urllib.request.urlretrieve(url, f\"downloads/isotopes_html/{A}_{abbr}_{Z}.html\")"
   ]
  },
  {
   "cell_type": "code",
   "execution_count": 127,
   "metadata": {},
   "outputs": [],
   "source": [
    "def extract_Igamma(A, element, Z):\n",
    "    html_file = open(f\"downloads/isotopes_html/{A}_{element}_{Z}.html\", \"r\")\n",
    "    soup = BeautifulSoup(html_file.read(), 'lxml')\n",
    "    \n",
    "    try:\n",
    "        gammas_table = soup.find_all(\"table\")[4]\n",
    "        gammas_rows = gammas_table.find_all('tr')[3:-1]\n",
    "    except:\n",
    "        A = int(A)\n",
    "        if A < 10:\n",
    "            str_A = '00' + str(A)\n",
    "        elif A < 100:\n",
    "            str_A = '0' + str(A)\n",
    "        print(colored(f\"Seems like there are no gamma-lines known for isotope {A}{element}.\", 'red'))\n",
    "        print(colored(\"Check yellow pages for reference.\", 'yellow'))\n",
    "        print(colored(f\"http://nucleardata.nuclear.lu.se/toi/nuclide.asp?iZA={Z}0{str_A}\", 'yellow'))\n",
    "        return 1\n",
    "    energy = []\n",
    "    sigm_energy = []\n",
    "    i = []\n",
    "    sigm_i = []\n",
    "\n",
    "    for row in gammas_rows:\n",
    "        cells = row.find_all('td')\n",
    "        \n",
    "        e_val = cells[0].get_text(strip=True)\n",
    "        i_val = cells[1].get_text(strip=True)\n",
    "        try:\n",
    "            ig_val = float(i_val[:-1])\n",
    "            sigm_ig_val = float(i_val[-1])\n",
    "        except:\n",
    "            ig_val = float('NaN')\n",
    "            sigm_ig_val = float('NaN')\n",
    "       \n",
    "        energy.append(float(e_val[:-1]))\n",
    "        sigm_energy.append(int(e_val[-1]))\n",
    "        i.append(ig_val)\n",
    "        \n",
    "        sigm_i.append(sigm_ig_val)\n",
    "\n",
    "\n",
    "    df_dict = {\n",
    "        \"E_tab\": energy,\n",
    "        \"sigm_E\": sigm_energy, \n",
    "        \"Ig\": i,\n",
    "        \"sigm_Ig\": sigm_i\n",
    "        }\n",
    "    df = pd.DataFrame(df_dict)\n",
    "    df_name = f'downloads/ig_db/{A}{element}.csv'\n",
    "    df.to_csv(df_name)\n",
    "   \n",
    "    print(f\"Ig extracted from file 'downloads/{A}{element}.html' into '{df_name}'.\")\n",
    "    return 0"
   ]
  },
  {
   "cell_type": "code",
   "execution_count": 132,
   "metadata": {},
   "outputs": [
    {
     "output_type": "stream",
     "name": "stdout",
     "text": [
      "Ig extracted from file 'downloads/20F.html' into 'downloads/ig_db/20F.csv'.\n"
     ]
    },
    {
     "output_type": "execute_result",
     "data": {
      "text/plain": [
       "0"
      ]
     },
     "metadata": {},
     "execution_count": 132
    }
   ],
   "source": [
    "extract_Igamma(20, \"F\", 9)"
   ]
  },
  {
   "cell_type": "code",
   "execution_count": 120,
   "metadata": {},
   "outputs": [
    {
     "output_type": "stream",
     "name": "stdout",
     "text": [
      "downloads/isotopes_html/1_H.html\n",
      "downloads/isotopes_html/2_H.html\n",
      "downloads/isotopes_html/3_H.html\n",
      "downloads/isotopes_html/4_H.html\n",
      "downloads/isotopes_html/5_H.html\n",
      "downloads/isotopes_html/6_H.html\n",
      "downloads/isotopes_html/3_He.html\n",
      "downloads/isotopes_html/4_He.html\n",
      "downloads/isotopes_html/5_He.html\n",
      "downloads/isotopes_html/6_He.html\n",
      "downloads/isotopes_html/7_He.html\n",
      "downloads/isotopes_html/8_He.html\n",
      "downloads/isotopes_html/9_He.html\n",
      "downloads/isotopes_html/10_He.html\n",
      "downloads/isotopes_html/4_Li.html\n",
      "downloads/isotopes_html/5_Li.html\n",
      "downloads/isotopes_html/6_Li.html\n",
      "downloads/isotopes_html/7_Li.html\n",
      "downloads/isotopes_html/8_Li.html\n",
      "downloads/isotopes_html/9_Li.html\n",
      "downloads/isotopes_html/10_Li.html\n",
      "downloads/isotopes_html/11_Li.html\n",
      "downloads/isotopes_html/12_Li.html\n",
      "downloads/isotopes_html/5_Be.html\n",
      "downloads/isotopes_html/6_Be.html\n",
      "downloads/isotopes_html/7_Be.html\n",
      "downloads/isotopes_html/8_Be.html\n",
      "downloads/isotopes_html/9_Be.html\n",
      "downloads/isotopes_html/10_Be.html\n",
      "downloads/isotopes_html/11_Be.html\n",
      "downloads/isotopes_html/12_Be.html\n",
      "downloads/isotopes_html/13_Be.html\n",
      "downloads/isotopes_html/14_Be.html\n",
      "downloads/isotopes_html/7_B.html\n",
      "downloads/isotopes_html/8_B.html\n",
      "downloads/isotopes_html/9_B.html\n",
      "downloads/isotopes_html/10_B.html\n",
      "downloads/isotopes_html/11_B.html\n",
      "downloads/isotopes_html/12_B.html\n",
      "downloads/isotopes_html/13_B.html\n",
      "downloads/isotopes_html/14_B.html\n",
      "downloads/isotopes_html/15_B.html\n",
      "downloads/isotopes_html/16_B.html\n",
      "downloads/isotopes_html/17_B.html\n",
      "downloads/isotopes_html/18_B.html\n",
      "downloads/isotopes_html/19_B.html\n",
      "downloads/isotopes_html/8_C.html\n",
      "downloads/isotopes_html/9_C.html\n",
      "downloads/isotopes_html/10_C.html\n",
      "downloads/isotopes_html/11_C.html\n",
      "downloads/isotopes_html/12_C.html\n",
      "downloads/isotopes_html/13_C.html\n",
      "downloads/isotopes_html/14_C.html\n",
      "downloads/isotopes_html/15_C.html\n",
      "downloads/isotopes_html/16_C.html\n",
      "downloads/isotopes_html/17_C.html\n",
      "downloads/isotopes_html/18_C.html\n",
      "downloads/isotopes_html/19_C.html\n",
      "downloads/isotopes_html/20_C.html\n",
      "downloads/isotopes_html/21_C.html\n",
      "downloads/isotopes_html/22_C.html\n",
      "downloads/isotopes_html/10_N.html\n",
      "downloads/isotopes_html/11_N.html\n",
      "downloads/isotopes_html/12_N.html\n",
      "downloads/isotopes_html/13_N.html\n",
      "downloads/isotopes_html/14_N.html\n",
      "downloads/isotopes_html/15_N.html\n",
      "downloads/isotopes_html/16_N.html\n",
      "downloads/isotopes_html/17_N.html\n",
      "downloads/isotopes_html/18_N.html\n",
      "downloads/isotopes_html/19_N.html\n",
      "downloads/isotopes_html/20_N.html\n",
      "downloads/isotopes_html/21_N.html\n",
      "downloads/isotopes_html/22_N.html\n",
      "downloads/isotopes_html/23_N.html\n",
      "downloads/isotopes_html/24_N.html\n",
      "downloads/isotopes_html/12_O.html\n",
      "downloads/isotopes_html/13_O.html\n",
      "downloads/isotopes_html/14_O.html\n",
      "downloads/isotopes_html/15_O.html\n",
      "downloads/isotopes_html/16_O.html\n",
      "downloads/isotopes_html/17_O.html\n",
      "downloads/isotopes_html/18_O.html\n",
      "downloads/isotopes_html/19_O.html\n",
      "downloads/isotopes_html/20_O.html\n",
      "downloads/isotopes_html/21_O.html\n",
      "downloads/isotopes_html/22_O.html\n",
      "downloads/isotopes_html/23_O.html\n",
      "downloads/isotopes_html/24_O.html\n",
      "downloads/isotopes_html/25_O.html\n",
      "downloads/isotopes_html/26_O.html\n",
      "downloads/isotopes_html/14_F.html\n",
      "downloads/isotopes_html/15_F.html\n",
      "downloads/isotopes_html/16_F.html\n",
      "downloads/isotopes_html/17_F.html\n",
      "downloads/isotopes_html/18_F.html\n",
      "downloads/isotopes_html/19_F.html\n",
      "downloads/isotopes_html/20_F.html\n",
      "downloads/isotopes_html/21_F.html\n",
      "downloads/isotopes_html/22_F.html\n",
      "downloads/isotopes_html/23_F.html\n",
      "downloads/isotopes_html/24_F.html\n",
      "downloads/isotopes_html/25_F.html\n",
      "downloads/isotopes_html/26_F.html\n",
      "downloads/isotopes_html/27_F.html\n",
      "downloads/isotopes_html/28_F.html\n",
      "downloads/isotopes_html/29_F.html\n"
     ]
    }
   ],
   "source": [
    "for i in range(1,10):\n",
    "    download_all_isotopes(i)"
   ]
  },
  {
   "cell_type": "code",
   "execution_count": 121,
   "metadata": {},
   "outputs": [],
   "source": [
    "lst = os.listdir(\"downloads/isotopes_html\")"
   ]
  },
  {
   "cell_type": "code",
   "execution_count": 122,
   "metadata": {},
   "outputs": [
    {
     "output_type": "execute_result",
     "data": {
      "text/plain": [
       "107"
      ]
     },
     "metadata": {},
     "execution_count": 122
    }
   ],
   "source": [
    "len(lst)"
   ]
  },
  {
   "cell_type": "code",
   "execution_count": 96,
   "metadata": {},
   "outputs": [],
   "source": [
    "matching = [s for s in lst if \"12\" == s.split('_')[0]]"
   ]
  },
  {
   "cell_type": "code",
   "execution_count": 97,
   "metadata": {},
   "outputs": [
    {
     "output_type": "execute_result",
     "data": {
      "text/plain": [
       "'12_Mg.txt'"
      ]
     },
     "metadata": {},
     "execution_count": 97
    }
   ],
   "source": [
    "matching[0]"
   ]
  },
  {
   "cell_type": "code",
   "execution_count": null,
   "metadata": {},
   "outputs": [],
   "source": []
  }
 ]
}