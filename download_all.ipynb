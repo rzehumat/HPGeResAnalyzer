{
 "metadata": {
  "language_info": {
   "codemirror_mode": {
    "name": "ipython",
    "version": 3
   },
   "file_extension": ".py",
   "mimetype": "text/x-python",
   "name": "python",
   "nbconvert_exporter": "python",
   "pygments_lexer": "ipython3",
   "version": "3.8.5"
  },
  "orig_nbformat": 2,
  "kernelspec": {
   "name": "python3",
   "display_name": "Python 3.8.5 64-bit ('base': conda)",
   "metadata": {
    "interpreter": {
     "hash": "590f3899dd7b9bcfd4cbc68d67e174e21f00fe45394f2e3932fd522000967c3f"
    }
   }
  }
 },
 "nbformat": 4,
 "nbformat_minor": 2,
 "cells": [
  {
   "cell_type": "code",
   "execution_count": 21,
   "metadata": {},
   "outputs": [],
   "source": [
    "import urllib\n",
    "import os\n",
    "import pandas as pd\n",
    "\n",
    "from bs4 import BeautifulSoup\n",
    "from termcolor import colored"
   ]
  },
  {
   "cell_type": "code",
   "execution_count": 22,
   "metadata": {},
   "outputs": [],
   "source": [
    "Z_MIN = 1\n",
    "Z_MAX = 112"
   ]
  },
  {
   "cell_type": "code",
   "execution_count": 23,
   "metadata": {},
   "outputs": [],
   "source": [
    "def download_isotopes_list(Z):\n",
    "    request_url = f\"http://nucleardata.nuclear.lu.se/toi/listnuc.asp?sql=&Z={Z}\"\n",
    "    urllib.request.urlretrieve(request_url, f\"downloads/find_isotopes/z_{Z}.html\")"
   ]
  },
  {
   "cell_type": "code",
   "execution_count": 24,
   "metadata": {},
   "outputs": [],
   "source": [
    "def download_range(z_min, z_max):\n",
    "    for Z in range(z_min, z_max + 1):\n",
    "        download_isotopes_list(Z)"
   ]
  },
  {
   "cell_type": "code",
   "execution_count": 5,
   "metadata": {},
   "outputs": [],
   "source": [
    "download_range(Z_MIN, Z_MAX)"
   ]
  },
  {
   "cell_type": "code",
   "execution_count": 25,
   "metadata": {},
   "outputs": [],
   "source": [
    "def parse_isotopes_one(Z):\n",
    "    html_path = f\"downloads/find_isotopes/z_{Z}.html\"\n",
    "    isotopes_lst_html = open(html_path, \"r\")\n",
    "    bs = BeautifulSoup(isotopes_lst_html.read(), 'lxml')\n",
    "    table = bs.find_all(\"table\")[0]\n",
    "    nuclide_lst = table.find_all('th')[9:]\n",
    "    abbr = str(nuclide_lst[0].find('a')).split('</sup>')[1][:-4]\n",
    "    out_file_path = f\"downloads/find_isotopes_parsed/{Z}_{abbr}.txt\"\n",
    "    out_file = open(out_file_path, \"w\")\n",
    "    out_file.write(f\"{Z}\\n\")\n",
    "    out_file.write(f\"{abbr}\\n\")\n",
    "    for nuclide in nuclide_lst:\n",
    "        out_file.write(f\"{nuclide.find('sup').get_text()}\\n\")\n",
    "\n",
    "    out_file.close()"
   ]
  },
  {
   "cell_type": "code",
   "execution_count": 26,
   "metadata": {},
   "outputs": [],
   "source": [
    "def parse_isotopes_range(z_min, z_max):\n",
    "    for Z in range(z_min, z_max + 1):\n",
    "        parse_isotopes_one(Z)"
   ]
  },
  {
   "cell_type": "code",
   "execution_count": 8,
   "metadata": {},
   "outputs": [],
   "source": [
    "parse_isotopes_range(Z_MIN,Z_MAX)"
   ]
  },
  {
   "cell_type": "code",
   "execution_count": 27,
   "metadata": {},
   "outputs": [],
   "source": [
    "def download_all_isotopes(Z):\n",
    "    down_dir = \"downloads/find_isotopes_parsed\"\n",
    "    files_lst = os.listdir(down_dir)\n",
    "    file_name = [s for s in files_lst if str(Z) == s.split('_')[0]]\n",
    "    isotopes_lst_file = open(f\"{down_dir}/{file_name[0]}\", \"r\")\n",
    "    lines = isotopes_lst_file.readlines()\n",
    "    abbr = lines[1].strip()\n",
    "    A_lst = lines[2:]\n",
    "    for A in A_lst:\n",
    "        A = int(A)\n",
    "        if A < 10:\n",
    "            str_A = '00' + str(A)\n",
    "        elif A < 100:\n",
    "            str_A = '0' + str(A)\n",
    "        url = f\"http://nucleardata.nuclear.lu.se/toi/nuclide.asp?iZA={Z}0{str_A}\"\n",
    "        urllib.request.urlretrieve(url, f\"downloads/isotopes_html/{A}_{abbr}_{Z}.html\")"
   ]
  },
  {
   "cell_type": "code",
   "execution_count": 28,
   "metadata": {},
   "outputs": [],
   "source": [
    "def extract_Igamma(A, element, Z):\n",
    "    html_file = open(f\"downloads/isotopes_html/{A}_{element}_{Z}.html\", \"r\")\n",
    "    soup = BeautifulSoup(html_file.read(), 'lxml')\n",
    "\n",
    "    try:\n",
    "        gammas_table = soup.find_all(\"table\")[4]\n",
    "        gammas_rows = gammas_table.find_all('tr')[3:-1]\n",
    "    except:\n",
    "        A = int(A)\n",
    "        if A < 10:\n",
    "            str_A = '00' + str(A)\n",
    "        elif A < 100:\n",
    "            str_A = '0' + str(A)\n",
    "        print(colored(f\"Seems like there are no gamma-lines known for isotope {A}{element}.\", 'red'))\n",
    "        print(colored(\"Check yellow pages for reference.\", 'yellow'))\n",
    "        print(colored(f\"http://nucleardata.nuclear.lu.se/toi/nuclide.asp?iZA={Z}0{str_A}\", 'yellow'))\n",
    "        return 1\n",
    "    energy = []\n",
    "    sigm_energy = []\n",
    "    i = []\n",
    "    sigm_i = []\n",
    "\n",
    "    for row in gammas_rows:\n",
    "        cells = row.find_all('td')\n",
    "        \n",
    "        e_val = cells[0].get_text(strip=True)\n",
    "        i_val = cells[1].get_text(strip=True)\n",
    "        try:\n",
    "            ig_val = float(i_val[:-1])\n",
    "            sigm_ig_val = float(i_val[-1])\n",
    "        except:\n",
    "            ig_val = float('NaN')\n",
    "            sigm_ig_val = float('NaN')\n",
    "       \n",
    "        energy.append(float(e_val[:-1]))\n",
    "        sigm_energy.append(int(e_val[-1]))\n",
    "        i.append(ig_val)\n",
    "        \n",
    "        sigm_i.append(sigm_ig_val)\n",
    "\n",
    "\n",
    "    df_dict = {\n",
    "        \"E_tab\": energy,\n",
    "        \"sigm_E\": sigm_energy, \n",
    "        \"Ig\": i,\n",
    "        \"sigm_Ig\": sigm_i\n",
    "        }\n",
    "    df = pd.DataFrame(df_dict)\n",
    "    df_name = f'downloads/ig_db/{A}{element}.csv'\n",
    "    df.to_csv(df_name)\n",
    "   \n",
    "    print(f\"Ig extracted from file 'downloads/{A}{element}.html' into '{df_name}'.\")\n",
    "    return 0"
   ]
  },
  {
   "cell_type": "code",
   "execution_count": 29,
   "metadata": {},
   "outputs": [],
   "source": [
    "def extract_all_elements(z_min, z_max):\n",
    "    for Z in range(z_min, z_max + 1):\n",
    "        extract_element(Z)"
   ]
  },
  {
   "cell_type": "code",
   "execution_count": 30,
   "metadata": {},
   "outputs": [],
   "source": [
    "def extract_element(Z):\n",
    "    html_lst = os.listdir(\"downloads/isotopes_html\")\n",
    "    element_files = [f for f in html_lst if str(Z) == f.split('_')[-1].split('.')[0]]\n",
    "    for isotope_file in element_files:\n",
    "        A, element, Z = (isotope_file.split('.')[0]).split('_')\n",
    "        extract_Igamma(A, element, Z)\n",
    "        extract_info(A, element, Z)"
   ]
  },
  {
   "cell_type": "code",
   "execution_count": null,
   "metadata": {},
   "outputs": [],
   "source": [
    "def extract_info(A, element, ):\n",
    "    html_file = open(f\"downloads/isotopes_html/{A}_{element}_{Z}.html\", \"r\")\n",
    "    soup = BeautifulSoup(html_file.read(), 'lxml')"
   ]
  },
  {
   "cell_type": "code",
   "execution_count": 31,
   "metadata": {},
   "outputs": [
    {
     "output_type": "stream",
     "name": "stdout",
     "text": [
      "\u001b[31mSeems like there are no gamma-lines known for isotope 5Be.\u001b[0m\n\u001b[33mCheck yellow pages for reference.\u001b[0m\n\u001b[33mhttp://nucleardata.nuclear.lu.se/toi/nuclide.asp?iZA=40005\u001b[0m\nIg extracted from file 'downloads/14Be.html' into 'downloads/ig_db/14Be.csv'.\n\u001b[31mSeems like there are no gamma-lines known for isotope 8Be.\u001b[0m\n\u001b[33mCheck yellow pages for reference.\u001b[0m\n\u001b[33mhttp://nucleardata.nuclear.lu.se/toi/nuclide.asp?iZA=40008\u001b[0m\nIg extracted from file 'downloads/7Be.html' into 'downloads/ig_db/7Be.csv'.\n\u001b[31mSeems like there are no gamma-lines known for isotope 12Be.\u001b[0m\n\u001b[33mCheck yellow pages for reference.\u001b[0m\n\u001b[33mhttp://nucleardata.nuclear.lu.se/toi/nuclide.asp?iZA=40012\u001b[0m\n\u001b[31mSeems like there are no gamma-lines known for isotope 6Be.\u001b[0m\n\u001b[33mCheck yellow pages for reference.\u001b[0m\n\u001b[33mhttp://nucleardata.nuclear.lu.se/toi/nuclide.asp?iZA=40006\u001b[0m\n\u001b[31mSeems like there are no gamma-lines known for isotope 13Be.\u001b[0m\n\u001b[33mCheck yellow pages for reference.\u001b[0m\n\u001b[33mhttp://nucleardata.nuclear.lu.se/toi/nuclide.asp?iZA=40013\u001b[0m\n\u001b[31mSeems like there are no gamma-lines known for isotope 10Be.\u001b[0m\n\u001b[33mCheck yellow pages for reference.\u001b[0m\n\u001b[33mhttp://nucleardata.nuclear.lu.se/toi/nuclide.asp?iZA=40010\u001b[0m\nIg extracted from file 'downloads/11Be.html' into 'downloads/ig_db/11Be.csv'.\n\u001b[31mSeems like there are no gamma-lines known for isotope 9Be.\u001b[0m\n\u001b[33mCheck yellow pages for reference.\u001b[0m\n\u001b[33mhttp://nucleardata.nuclear.lu.se/toi/nuclide.asp?iZA=40009\u001b[0m\n"
     ]
    }
   ],
   "source": [
    "extract_Igamma_element(4)"
   ]
  },
  {
   "cell_type": "code",
   "execution_count": 13,
   "metadata": {},
   "outputs": [
    {
     "output_type": "stream",
     "name": "stdout",
     "text": [
      "Ig extracted from file 'downloads/20F.html' into 'downloads/ig_db/20F.csv'.\n"
     ]
    },
    {
     "output_type": "execute_result",
     "data": {
      "text/plain": [
       "0"
      ]
     },
     "metadata": {},
     "execution_count": 13
    }
   ],
   "source": [
    "extract_Igamma(20, \"F\", 9)"
   ]
  },
  {
   "cell_type": "code",
   "execution_count": 14,
   "metadata": {},
   "outputs": [],
   "source": [
    "for i in range(1,10):\n",
    "    download_all_isotopes(i)"
   ]
  },
  {
   "cell_type": "code",
   "execution_count": 15,
   "metadata": {},
   "outputs": [],
   "source": [
    "lst = os.listdir(\"downloads/isotopes_html\")"
   ]
  },
  {
   "cell_type": "code",
   "execution_count": 16,
   "metadata": {},
   "outputs": [
    {
     "output_type": "execute_result",
     "data": {
      "text/plain": [
       "107"
      ]
     },
     "metadata": {},
     "execution_count": 16
    }
   ],
   "source": [
    "len(lst)"
   ]
  },
  {
   "cell_type": "code",
   "execution_count": 17,
   "metadata": {},
   "outputs": [],
   "source": [
    "matching = [s for s in lst if \"12\" == s.split('_')[0]]"
   ]
  }
 ]
}