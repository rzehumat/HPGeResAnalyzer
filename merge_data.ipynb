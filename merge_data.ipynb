{
 "metadata": {
  "language_info": {
   "codemirror_mode": {
    "name": "ipython",
    "version": 3
   },
   "file_extension": ".py",
   "mimetype": "text/x-python",
   "name": "python",
   "nbconvert_exporter": "python",
   "pygments_lexer": "ipython3",
   "version": "3.8.5"
  },
  "orig_nbformat": 2,
  "kernelspec": {
   "name": "python3",
   "display_name": "Python 3.8.5 64-bit ('base': conda)",
   "metadata": {
    "interpreter": {
     "hash": "590f3899dd7b9bcfd4cbc68d67e174e21f00fe45394f2e3932fd522000967c3f"
    }
   }
  }
 },
 "nbformat": 4,
 "nbformat_minor": 2,
 "cells": [
  {
   "cell_type": "code",
   "execution_count": 102,
   "metadata": {},
   "outputs": [],
   "source": [
    "import glob\n",
    "\n",
    "import pandas as pd"
   ]
  },
  {
   "cell_type": "code",
   "execution_count": 103,
   "metadata": {},
   "outputs": [],
   "source": [
    "info_df = pd.DataFrame()\n",
    "for fname in glob.glob(\"downloads/ig_db/info*.csv\"):\n",
    "    df = pd.read_csv(fname, index_col=0)\n",
    "    df[\"Isotope\"] = fname.split(\"/\")[-1].split(\"_\")[1].split(\".\")[0]\n",
    "    info_df = info_df.append(df)\n",
    "info_df.head()\n",
    "\n",
    "info_df = info_df.set_index(\"Isotope\", drop=True)\n",
    "old_cols = info_df.columns.tolist()\n",
    "first_cols = [\"Half-life [s]\", \"Stable\", \"Prod_mode_Photon reaction\", \"Prod_mode_Fast neutron activation\"]\n",
    "new_cols = first_cols + list(set(old_cols) - set(first_cols))\n",
    "info_df = info_df[new_cols]"
   ]
  },
  {
   "cell_type": "code",
   "execution_count": null,
   "metadata": {},
   "outputs": [],
   "source": [
    "info_df[\"Prod_mode_Photon reaction\"] = info_df[\"Prod_mode_Photon reaction\"].replace(float(\"NaN\"), False)\n",
    "info_df[\"Prod_mode_Fast neutron activation\"] = info_df[\"Prod_mode_Fast neutron activation\"].replace(float(\"NaN\"), False)\n",
    "info_df[\"Prod_mode_Naturally occurring\"] = info_df[\"Prod_mode_Naturally occurring\"].replace(float(\"NaN\"), False)\n",
    "info_df[\"Prod_mode_Thermal neutron activation\"] = info_df[\"Prod_mode_Thermal neutron activation\"].replace(float(\"NaN\"), False)\n",
    "\n",
    "info_df[\"sigm_Sn(keV)\"] = info_df[\"sigm_Sn(keV)\"].replace(\"sy\", float(\"NaN\"))\n",
    "info_df[\"sigm_Sp(keV)\"] = info_df[\"sigm_Sp(keV)\"].replace(\"sy\", float(\"NaN\"))\n"
   ]
  },
  {
   "cell_type": "code",
   "execution_count": 137,
   "metadata": {},
   "outputs": [
    {
     "output_type": "execute_result",
     "data": {
      "text/plain": [
       "Half-life [s]                           float64\n",
       "Stable                                     bool\n",
       "Prod_mode_Photon reaction                  bool\n",
       "Prod_mode_Fast neutron activation          bool\n",
       "Prod_mode_Naturally occurring              bool\n",
       "Update                                   object\n",
       "sigm_Abundance                          float64\n",
       "sigm_Sn(keV)                            float64\n",
       "sigm_E(level)                           float64\n",
       "Literature cut-off date                  object\n",
       "sigm_Half-life [s]                      float64\n",
       "Author(s)                                object\n",
       "E(level)                                 object\n",
       "sigm_Sp(keV)                            float64\n",
       "Sn(keV)                                 float64\n",
       "Prod_mode_Charged particle reaction      object\n",
       "References since cut-off                 object\n",
       "Sp(keV)                                 float64\n",
       "Prod_mode_Thermal neutron activation       bool\n",
       "Abundance                                object\n",
       "Prod_mode_Fission product                object\n",
       "Jp                                       object\n",
       "ENSDF citation                           object\n",
       "dtype: object"
      ]
     },
     "metadata": {},
     "execution_count": 137
    }
   ],
   "source": [
    "info_df.dtypes"
   ]
  },
  {
   "cell_type": "code",
   "execution_count": 136,
   "metadata": {},
   "outputs": [],
   "source": [
    "info_df[\"Prod_mode_Thermal neutron activation\"] = info_df[\"Prod_mode_Thermal neutron activation\"].replace(float(\"NaN\"), False)"
   ]
  },
  {
   "cell_type": "code",
   "execution_count": 135,
   "metadata": {},
   "outputs": [
    {
     "output_type": "execute_result",
     "data": {
      "text/plain": [
       "Isotope\n",
       "74As      NaN\n",
       "111Te     NaN\n",
       "127mIn    NaN\n",
       "173Pt     NaN\n",
       "98Zr      NaN\n",
       "         ... \n",
       "168Ta     NaN\n",
       "83mRb     NaN\n",
       "108Sb     NaN\n",
       "46S       NaN\n",
       "190Bi     NaN\n",
       "Name: Prod_mode_Thermal neutron activation, Length: 3713, dtype: object"
      ]
     },
     "metadata": {},
     "execution_count": 135
    }
   ],
   "source": [
    "info_df[\"Prod_mode_Thermal neutron activation\"]"
   ]
  },
  {
   "cell_type": "code",
   "execution_count": 104,
   "metadata": {},
   "outputs": [],
   "source": [
    "#info_df[info_df[\"sigm_Sn(keV)\"] == \"sy\"][\"sigm_Sn(keV)\"] = float(\"NaN\")"
   ]
  },
  {
   "cell_type": "code",
   "execution_count": 105,
   "metadata": {},
   "outputs": [],
   "source": [
    "#info_df[\"sigm_Sn(keV)\"] = info_df[\"sigm_Sn(keV)\"].replace(\"sy\", float(\"NaN\"))"
   ]
  },
  {
   "cell_type": "code",
   "execution_count": 106,
   "metadata": {},
   "outputs": [],
   "source": [
    "#info_df[info_df[\"sigm_Sn(keV)\"].isna()]"
   ]
  },
  {
   "cell_type": "code",
   "execution_count": 107,
   "metadata": {},
   "outputs": [],
   "source": [
    "#info_df[info_df[\"Stable\"] == 1.0] = True"
   ]
  },
  {
   "cell_type": "code",
   "execution_count": 108,
   "metadata": {},
   "outputs": [],
   "source": [
    "#info_df[info_df[\"Stable\"] == True]"
   ]
  },
  {
   "cell_type": "code",
   "execution_count": null,
   "metadata": {},
   "outputs": [],
   "source": []
  }
 ]
}