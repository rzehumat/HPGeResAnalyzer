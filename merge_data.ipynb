{
 "metadata": {
  "language_info": {
   "codemirror_mode": {
    "name": "ipython",
    "version": 3
   },
   "file_extension": ".py",
   "mimetype": "text/x-python",
   "name": "python",
   "nbconvert_exporter": "python",
   "pygments_lexer": "ipython3",
   "version": "3.8.5"
  },
  "orig_nbformat": 2,
  "kernelspec": {
   "name": "python3",
   "display_name": "Python 3.8.5 64-bit ('base': conda)",
   "metadata": {
    "interpreter": {
     "hash": "590f3899dd7b9bcfd4cbc68d67e174e21f00fe45394f2e3932fd522000967c3f"
    }
   }
  }
 },
 "nbformat": 4,
 "nbformat_minor": 2,
 "cells": [
  {
   "cell_type": "code",
   "execution_count": 72,
   "metadata": {},
   "outputs": [],
   "source": [
    "import glob\n",
    "\n",
    "import pandas as pd"
   ]
  },
  {
   "cell_type": "code",
   "execution_count": 73,
   "metadata": {},
   "outputs": [],
   "source": [
    "info_df = pd.DataFrame()\n",
    "for fname in glob.glob(\"downloads/ig_db/info*.csv\"):\n",
    "    df = pd.read_csv(fname, index_col=0)\n",
    "    df[\"Isotope\"] = fname.split(\"/\")[-1].split(\"_\")[1].split(\".\")[0]\n",
    "    info_df = info_df.append(df)\n",
    "info_df.head()\n",
    "\n",
    "info_df = info_df.set_index(\"Isotope\", drop=True)\n",
    "old_cols = info_df.columns.tolist()\n",
    "first_cols = [\"Half-life [s]\", \"Stable\", \"Prod_mode_Photon reaction\", \"Prod_mode_Fast neutron activation\"]\n",
    "new_cols = first_cols + list(set(old_cols) - set(first_cols))\n",
    "info_df = info_df[new_cols]"
   ]
  },
  {
   "cell_type": "code",
   "execution_count": 74,
   "metadata": {},
   "outputs": [],
   "source": [
    "info_df[info_df[\"sigm_Sn(keV)\"] == \"sy\"] = float(\"NaN\")"
   ]
  },
  {
   "cell_type": "code",
   "execution_count": 79,
   "metadata": {},
   "outputs": [],
   "source": [
    "info_df[info_df[\"Stable\"] == 1.0] = True"
   ]
  },
  {
   "cell_type": "code",
   "execution_count": 83,
   "metadata": {},
   "outputs": [
    {
     "output_type": "execute_result",
     "data": {
      "text/plain": [
       "        Half-life [s] Stable Prod_mode_Photon reaction  \\\n",
       "Isotope                                                  \n",
       "82Nb              NaN    NaN                       NaN   \n",
       "84Ge              NaN    NaN                       NaN   \n",
       "78Cu              NaN    NaN                       NaN   \n",
       "257Lr             NaN    NaN                       NaN   \n",
       "67Mn              NaN    NaN                       NaN   \n",
       "...               ...    ...                       ...   \n",
       "173Ho             NaN    NaN                       NaN   \n",
       "168Ta             NaN    NaN                       NaN   \n",
       "108Sb             NaN    NaN                       NaN   \n",
       "46S               NaN    NaN                       NaN   \n",
       "190Bi             NaN    NaN                       NaN   \n",
       "\n",
       "        Prod_mode_Fast neutron activation Prod_mode_Naturally occurring  \\\n",
       "Isotope                                                                   \n",
       "82Nb                                  NaN                           NaN   \n",
       "84Ge                                  NaN                           NaN   \n",
       "78Cu                                  NaN                           NaN   \n",
       "257Lr                                 NaN                           NaN   \n",
       "67Mn                                  NaN                           NaN   \n",
       "...                                   ...                           ...   \n",
       "173Ho                                 NaN                           NaN   \n",
       "168Ta                                 NaN                           NaN   \n",
       "108Sb                                 NaN                           NaN   \n",
       "46S                                   NaN                           NaN   \n",
       "190Bi                                 NaN                           NaN   \n",
       "\n",
       "        Update sigm_Abundance sigm_Sn(keV) sigm_E(level)  \\\n",
       "Isotope                                                    \n",
       "82Nb       NaN            NaN          NaN           NaN   \n",
       "84Ge       NaN            NaN          NaN           NaN   \n",
       "78Cu       NaN            NaN          NaN           NaN   \n",
       "257Lr      NaN            NaN          NaN           NaN   \n",
       "67Mn       NaN            NaN          NaN           NaN   \n",
       "...        ...            ...          ...           ...   \n",
       "173Ho      NaN            NaN          NaN           NaN   \n",
       "168Ta      NaN            NaN          NaN           NaN   \n",
       "108Sb      NaN            NaN          NaN           NaN   \n",
       "46S        NaN            NaN          NaN           NaN   \n",
       "190Bi      NaN            NaN          NaN           NaN   \n",
       "\n",
       "        Literature cut-off date  ... sigm_Sp(keV) Sn(keV)  \\\n",
       "Isotope                          ...                        \n",
       "82Nb                        NaN  ...          NaN     NaN   \n",
       "84Ge                        NaN  ...          NaN     NaN   \n",
       "78Cu                        NaN  ...          NaN     NaN   \n",
       "257Lr                       NaN  ...          NaN     NaN   \n",
       "67Mn                        NaN  ...          NaN     NaN   \n",
       "...                         ...  ...          ...     ...   \n",
       "173Ho                       NaN  ...          NaN     NaN   \n",
       "168Ta                       NaN  ...          NaN     NaN   \n",
       "108Sb                       NaN  ...          NaN     NaN   \n",
       "46S                         NaN  ...          NaN     NaN   \n",
       "190Bi                       NaN  ...          NaN     NaN   \n",
       "\n",
       "        Prod_mode_Charged particle reaction References since cut-off Sp(keV)  \\\n",
       "Isotope                                                                        \n",
       "82Nb                                    NaN                      NaN     NaN   \n",
       "84Ge                                    NaN                      NaN     NaN   \n",
       "78Cu                                    NaN                      NaN     NaN   \n",
       "257Lr                                   NaN                      NaN     NaN   \n",
       "67Mn                                    NaN                      NaN     NaN   \n",
       "...                                     ...                      ...     ...   \n",
       "173Ho                                   NaN                      NaN     NaN   \n",
       "168Ta                                   NaN                      NaN     NaN   \n",
       "108Sb                                   NaN                      NaN     NaN   \n",
       "46S                                     NaN                      NaN     NaN   \n",
       "190Bi                                   NaN                      NaN     NaN   \n",
       "\n",
       "        Prod_mode_Thermal neutron activation Abundance  \\\n",
       "Isotope                                                  \n",
       "82Nb                                     NaN       NaN   \n",
       "84Ge                                     NaN       NaN   \n",
       "78Cu                                     NaN       NaN   \n",
       "257Lr                                    NaN       NaN   \n",
       "67Mn                                     NaN       NaN   \n",
       "...                                      ...       ...   \n",
       "173Ho                                    NaN       NaN   \n",
       "168Ta                                    NaN       NaN   \n",
       "108Sb                                    NaN       NaN   \n",
       "46S                                      NaN       NaN   \n",
       "190Bi                                    NaN       NaN   \n",
       "\n",
       "        Prod_mode_Fission product   Jp ENSDF citation  \n",
       "Isotope                                                \n",
       "82Nb                          NaN  NaN            NaN  \n",
       "84Ge                          NaN  NaN            NaN  \n",
       "78Cu                          NaN  NaN            NaN  \n",
       "257Lr                         NaN  NaN            NaN  \n",
       "67Mn                          NaN  NaN            NaN  \n",
       "...                           ...  ...            ...  \n",
       "173Ho                         NaN  NaN            NaN  \n",
       "168Ta                         NaN  NaN            NaN  \n",
       "108Sb                         NaN  NaN            NaN  \n",
       "46S                           NaN  NaN            NaN  \n",
       "190Bi                         NaN  NaN            NaN  \n",
       "\n",
       "[1370 rows x 23 columns]"
      ],
      "text/html": "<div>\n<style scoped>\n    .dataframe tbody tr th:only-of-type {\n        vertical-align: middle;\n    }\n\n    .dataframe tbody tr th {\n        vertical-align: top;\n    }\n\n    .dataframe thead th {\n        text-align: right;\n    }\n</style>\n<table border=\"1\" class=\"dataframe\">\n  <thead>\n    <tr style=\"text-align: right;\">\n      <th></th>\n      <th>Half-life [s]</th>\n      <th>Stable</th>\n      <th>Prod_mode_Photon reaction</th>\n      <th>Prod_mode_Fast neutron activation</th>\n      <th>Prod_mode_Naturally occurring</th>\n      <th>Update</th>\n      <th>sigm_Abundance</th>\n      <th>sigm_Sn(keV)</th>\n      <th>sigm_E(level)</th>\n      <th>Literature cut-off date</th>\n      <th>...</th>\n      <th>sigm_Sp(keV)</th>\n      <th>Sn(keV)</th>\n      <th>Prod_mode_Charged particle reaction</th>\n      <th>References since cut-off</th>\n      <th>Sp(keV)</th>\n      <th>Prod_mode_Thermal neutron activation</th>\n      <th>Abundance</th>\n      <th>Prod_mode_Fission product</th>\n      <th>Jp</th>\n      <th>ENSDF citation</th>\n    </tr>\n    <tr>\n      <th>Isotope</th>\n      <th></th>\n      <th></th>\n      <th></th>\n      <th></th>\n      <th></th>\n      <th></th>\n      <th></th>\n      <th></th>\n      <th></th>\n      <th></th>\n      <th></th>\n      <th></th>\n      <th></th>\n      <th></th>\n      <th></th>\n      <th></th>\n      <th></th>\n      <th></th>\n      <th></th>\n      <th></th>\n      <th></th>\n    </tr>\n  </thead>\n  <tbody>\n    <tr>\n      <th>82Nb</th>\n      <td>NaN</td>\n      <td>NaN</td>\n      <td>NaN</td>\n      <td>NaN</td>\n      <td>NaN</td>\n      <td>NaN</td>\n      <td>NaN</td>\n      <td>NaN</td>\n      <td>NaN</td>\n      <td>NaN</td>\n      <td>...</td>\n      <td>NaN</td>\n      <td>NaN</td>\n      <td>NaN</td>\n      <td>NaN</td>\n      <td>NaN</td>\n      <td>NaN</td>\n      <td>NaN</td>\n      <td>NaN</td>\n      <td>NaN</td>\n      <td>NaN</td>\n    </tr>\n    <tr>\n      <th>84Ge</th>\n      <td>NaN</td>\n      <td>NaN</td>\n      <td>NaN</td>\n      <td>NaN</td>\n      <td>NaN</td>\n      <td>NaN</td>\n      <td>NaN</td>\n      <td>NaN</td>\n      <td>NaN</td>\n      <td>NaN</td>\n      <td>...</td>\n      <td>NaN</td>\n      <td>NaN</td>\n      <td>NaN</td>\n      <td>NaN</td>\n      <td>NaN</td>\n      <td>NaN</td>\n      <td>NaN</td>\n      <td>NaN</td>\n      <td>NaN</td>\n      <td>NaN</td>\n    </tr>\n    <tr>\n      <th>78Cu</th>\n      <td>NaN</td>\n      <td>NaN</td>\n      <td>NaN</td>\n      <td>NaN</td>\n      <td>NaN</td>\n      <td>NaN</td>\n      <td>NaN</td>\n      <td>NaN</td>\n      <td>NaN</td>\n      <td>NaN</td>\n      <td>...</td>\n      <td>NaN</td>\n      <td>NaN</td>\n      <td>NaN</td>\n      <td>NaN</td>\n      <td>NaN</td>\n      <td>NaN</td>\n      <td>NaN</td>\n      <td>NaN</td>\n      <td>NaN</td>\n      <td>NaN</td>\n    </tr>\n    <tr>\n      <th>257Lr</th>\n      <td>NaN</td>\n      <td>NaN</td>\n      <td>NaN</td>\n      <td>NaN</td>\n      <td>NaN</td>\n      <td>NaN</td>\n      <td>NaN</td>\n      <td>NaN</td>\n      <td>NaN</td>\n      <td>NaN</td>\n      <td>...</td>\n      <td>NaN</td>\n      <td>NaN</td>\n      <td>NaN</td>\n      <td>NaN</td>\n      <td>NaN</td>\n      <td>NaN</td>\n      <td>NaN</td>\n      <td>NaN</td>\n      <td>NaN</td>\n      <td>NaN</td>\n    </tr>\n    <tr>\n      <th>67Mn</th>\n      <td>NaN</td>\n      <td>NaN</td>\n      <td>NaN</td>\n      <td>NaN</td>\n      <td>NaN</td>\n      <td>NaN</td>\n      <td>NaN</td>\n      <td>NaN</td>\n      <td>NaN</td>\n      <td>NaN</td>\n      <td>...</td>\n      <td>NaN</td>\n      <td>NaN</td>\n      <td>NaN</td>\n      <td>NaN</td>\n      <td>NaN</td>\n      <td>NaN</td>\n      <td>NaN</td>\n      <td>NaN</td>\n      <td>NaN</td>\n      <td>NaN</td>\n    </tr>\n    <tr>\n      <th>...</th>\n      <td>...</td>\n      <td>...</td>\n      <td>...</td>\n      <td>...</td>\n      <td>...</td>\n      <td>...</td>\n      <td>...</td>\n      <td>...</td>\n      <td>...</td>\n      <td>...</td>\n      <td>...</td>\n      <td>...</td>\n      <td>...</td>\n      <td>...</td>\n      <td>...</td>\n      <td>...</td>\n      <td>...</td>\n      <td>...</td>\n      <td>...</td>\n      <td>...</td>\n      <td>...</td>\n    </tr>\n    <tr>\n      <th>173Ho</th>\n      <td>NaN</td>\n      <td>NaN</td>\n      <td>NaN</td>\n      <td>NaN</td>\n      <td>NaN</td>\n      <td>NaN</td>\n      <td>NaN</td>\n      <td>NaN</td>\n      <td>NaN</td>\n      <td>NaN</td>\n      <td>...</td>\n      <td>NaN</td>\n      <td>NaN</td>\n      <td>NaN</td>\n      <td>NaN</td>\n      <td>NaN</td>\n      <td>NaN</td>\n      <td>NaN</td>\n      <td>NaN</td>\n      <td>NaN</td>\n      <td>NaN</td>\n    </tr>\n    <tr>\n      <th>168Ta</th>\n      <td>NaN</td>\n      <td>NaN</td>\n      <td>NaN</td>\n      <td>NaN</td>\n      <td>NaN</td>\n      <td>NaN</td>\n      <td>NaN</td>\n      <td>NaN</td>\n      <td>NaN</td>\n      <td>NaN</td>\n      <td>...</td>\n      <td>NaN</td>\n      <td>NaN</td>\n      <td>NaN</td>\n      <td>NaN</td>\n      <td>NaN</td>\n      <td>NaN</td>\n      <td>NaN</td>\n      <td>NaN</td>\n      <td>NaN</td>\n      <td>NaN</td>\n    </tr>\n    <tr>\n      <th>108Sb</th>\n      <td>NaN</td>\n      <td>NaN</td>\n      <td>NaN</td>\n      <td>NaN</td>\n      <td>NaN</td>\n      <td>NaN</td>\n      <td>NaN</td>\n      <td>NaN</td>\n      <td>NaN</td>\n      <td>NaN</td>\n      <td>...</td>\n      <td>NaN</td>\n      <td>NaN</td>\n      <td>NaN</td>\n      <td>NaN</td>\n      <td>NaN</td>\n      <td>NaN</td>\n      <td>NaN</td>\n      <td>NaN</td>\n      <td>NaN</td>\n      <td>NaN</td>\n    </tr>\n    <tr>\n      <th>46S</th>\n      <td>NaN</td>\n      <td>NaN</td>\n      <td>NaN</td>\n      <td>NaN</td>\n      <td>NaN</td>\n      <td>NaN</td>\n      <td>NaN</td>\n      <td>NaN</td>\n      <td>NaN</td>\n      <td>NaN</td>\n      <td>...</td>\n      <td>NaN</td>\n      <td>NaN</td>\n      <td>NaN</td>\n      <td>NaN</td>\n      <td>NaN</td>\n      <td>NaN</td>\n      <td>NaN</td>\n      <td>NaN</td>\n      <td>NaN</td>\n      <td>NaN</td>\n    </tr>\n    <tr>\n      <th>190Bi</th>\n      <td>NaN</td>\n      <td>NaN</td>\n      <td>NaN</td>\n      <td>NaN</td>\n      <td>NaN</td>\n      <td>NaN</td>\n      <td>NaN</td>\n      <td>NaN</td>\n      <td>NaN</td>\n      <td>NaN</td>\n      <td>...</td>\n      <td>NaN</td>\n      <td>NaN</td>\n      <td>NaN</td>\n      <td>NaN</td>\n      <td>NaN</td>\n      <td>NaN</td>\n      <td>NaN</td>\n      <td>NaN</td>\n      <td>NaN</td>\n      <td>NaN</td>\n    </tr>\n  </tbody>\n</table>\n<p>1370 rows × 23 columns</p>\n</div>"
     },
     "metadata": {},
     "execution_count": 83
    }
   ],
   "source": [
    "info_df[info_df[\"Stable\"].isna()]"
   ]
  },
  {
   "cell_type": "code",
   "execution_count": null,
   "metadata": {},
   "outputs": [],
   "source": []
  }
 ]
}