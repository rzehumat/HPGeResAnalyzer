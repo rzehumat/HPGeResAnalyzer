{
 "metadata": {
  "language_info": {
   "codemirror_mode": {
    "name": "ipython",
    "version": 3
   },
   "file_extension": ".py",
   "mimetype": "text/x-python",
   "name": "python",
   "nbconvert_exporter": "python",
   "pygments_lexer": "ipython3",
   "version": "3.8.5"
  },
  "orig_nbformat": 2,
  "kernelspec": {
   "name": "python3",
   "display_name": "Python 3.8.5 64-bit ('base': conda)",
   "metadata": {
    "interpreter": {
     "hash": "590f3899dd7b9bcfd4cbc68d67e174e21f00fe45394f2e3932fd522000967c3f"
    }
   }
  }
 },
 "nbformat": 4,
 "nbformat_minor": 2,
 "cells": [
  {
   "cell_type": "code",
   "execution_count": 3,
   "metadata": {},
   "outputs": [],
   "source": [
    "import glob\n",
    "\n",
    "import pandas as pd"
   ]
  },
  {
   "cell_type": "code",
   "execution_count": 37,
   "metadata": {},
   "outputs": [
    {
     "output_type": "stream",
     "name": "stdout",
     "text": [
      "[]\n"
     ]
    },
    {
     "output_type": "error",
     "ename": "KeyError",
     "evalue": "\"None of [Index(['Isotope', 'Half-life [s]', 'Stable', 'Prod_mode_Photon reaction',\\n       'Prod_mode_Fast neutron activation'],\\n      dtype='object')] are in the [columns]\"",
     "traceback": [
      "\u001b[0;31m---------------------------------------------------------------------------\u001b[0m",
      "\u001b[0;31mKeyError\u001b[0m                                  Traceback (most recent call last)",
      "\u001b[0;32m<ipython-input-37-812e029c0bd4>\u001b[0m in \u001b[0;36m<module>\u001b[0;34m\u001b[0m\n\u001b[1;32m     10\u001b[0m \u001b[0mfirst_cols\u001b[0m \u001b[0;34m=\u001b[0m \u001b[0;34m[\u001b[0m\u001b[0;34m\"Isotope\"\u001b[0m\u001b[0;34m,\u001b[0m \u001b[0;34m\"Half-life [s]\"\u001b[0m\u001b[0;34m,\u001b[0m \u001b[0;34m\"Stable\"\u001b[0m\u001b[0;34m,\u001b[0m \u001b[0;34m\"Prod_mode_Photon reaction\"\u001b[0m\u001b[0;34m,\u001b[0m \u001b[0;34m\"Prod_mode_Fast neutron activation\"\u001b[0m\u001b[0;34m]\u001b[0m\u001b[0;34m\u001b[0m\u001b[0;34m\u001b[0m\u001b[0m\n\u001b[1;32m     11\u001b[0m \u001b[0mnew_cols\u001b[0m \u001b[0;34m=\u001b[0m \u001b[0mfirst_cols\u001b[0m \u001b[0;34m+\u001b[0m \u001b[0mlist\u001b[0m\u001b[0;34m(\u001b[0m\u001b[0mset\u001b[0m\u001b[0;34m(\u001b[0m\u001b[0mold_cols\u001b[0m\u001b[0;34m)\u001b[0m \u001b[0;34m-\u001b[0m \u001b[0mset\u001b[0m\u001b[0;34m(\u001b[0m\u001b[0mfirst_cols\u001b[0m\u001b[0;34m)\u001b[0m\u001b[0;34m)\u001b[0m\u001b[0;34m\u001b[0m\u001b[0;34m\u001b[0m\u001b[0m\n\u001b[0;32m---> 12\u001b[0;31m \u001b[0minfo_df\u001b[0m \u001b[0;34m=\u001b[0m \u001b[0minfo_df\u001b[0m\u001b[0;34m[\u001b[0m\u001b[0mnew_cols\u001b[0m\u001b[0;34m]\u001b[0m\u001b[0;34m\u001b[0m\u001b[0;34m\u001b[0m\u001b[0m\n\u001b[0m",
      "\u001b[0;32m~/anaconda3/lib/python3.8/site-packages/pandas/core/frame.py\u001b[0m in \u001b[0;36m__getitem__\u001b[0;34m(self, key)\u001b[0m\n\u001b[1;32m   2906\u001b[0m             \u001b[0;32mif\u001b[0m \u001b[0mis_iterator\u001b[0m\u001b[0;34m(\u001b[0m\u001b[0mkey\u001b[0m\u001b[0;34m)\u001b[0m\u001b[0;34m:\u001b[0m\u001b[0;34m\u001b[0m\u001b[0;34m\u001b[0m\u001b[0m\n\u001b[1;32m   2907\u001b[0m                 \u001b[0mkey\u001b[0m \u001b[0;34m=\u001b[0m \u001b[0mlist\u001b[0m\u001b[0;34m(\u001b[0m\u001b[0mkey\u001b[0m\u001b[0;34m)\u001b[0m\u001b[0;34m\u001b[0m\u001b[0;34m\u001b[0m\u001b[0m\n\u001b[0;32m-> 2908\u001b[0;31m             \u001b[0mindexer\u001b[0m \u001b[0;34m=\u001b[0m \u001b[0mself\u001b[0m\u001b[0;34m.\u001b[0m\u001b[0mloc\u001b[0m\u001b[0;34m.\u001b[0m\u001b[0m_get_listlike_indexer\u001b[0m\u001b[0;34m(\u001b[0m\u001b[0mkey\u001b[0m\u001b[0;34m,\u001b[0m \u001b[0maxis\u001b[0m\u001b[0;34m=\u001b[0m\u001b[0;36m1\u001b[0m\u001b[0;34m,\u001b[0m \u001b[0mraise_missing\u001b[0m\u001b[0;34m=\u001b[0m\u001b[0;32mTrue\u001b[0m\u001b[0;34m)\u001b[0m\u001b[0;34m[\u001b[0m\u001b[0;36m1\u001b[0m\u001b[0;34m]\u001b[0m\u001b[0;34m\u001b[0m\u001b[0;34m\u001b[0m\u001b[0m\n\u001b[0m\u001b[1;32m   2909\u001b[0m \u001b[0;34m\u001b[0m\u001b[0m\n\u001b[1;32m   2910\u001b[0m         \u001b[0;31m# take() does not accept boolean indexers\u001b[0m\u001b[0;34m\u001b[0m\u001b[0;34m\u001b[0m\u001b[0;34m\u001b[0m\u001b[0m\n",
      "\u001b[0;32m~/anaconda3/lib/python3.8/site-packages/pandas/core/indexing.py\u001b[0m in \u001b[0;36m_get_listlike_indexer\u001b[0;34m(self, key, axis, raise_missing)\u001b[0m\n\u001b[1;32m   1252\u001b[0m             \u001b[0mkeyarr\u001b[0m\u001b[0;34m,\u001b[0m \u001b[0mindexer\u001b[0m\u001b[0;34m,\u001b[0m \u001b[0mnew_indexer\u001b[0m \u001b[0;34m=\u001b[0m \u001b[0max\u001b[0m\u001b[0;34m.\u001b[0m\u001b[0m_reindex_non_unique\u001b[0m\u001b[0;34m(\u001b[0m\u001b[0mkeyarr\u001b[0m\u001b[0;34m)\u001b[0m\u001b[0;34m\u001b[0m\u001b[0;34m\u001b[0m\u001b[0m\n\u001b[1;32m   1253\u001b[0m \u001b[0;34m\u001b[0m\u001b[0m\n\u001b[0;32m-> 1254\u001b[0;31m         \u001b[0mself\u001b[0m\u001b[0;34m.\u001b[0m\u001b[0m_validate_read_indexer\u001b[0m\u001b[0;34m(\u001b[0m\u001b[0mkeyarr\u001b[0m\u001b[0;34m,\u001b[0m \u001b[0mindexer\u001b[0m\u001b[0;34m,\u001b[0m \u001b[0maxis\u001b[0m\u001b[0;34m,\u001b[0m \u001b[0mraise_missing\u001b[0m\u001b[0;34m=\u001b[0m\u001b[0mraise_missing\u001b[0m\u001b[0;34m)\u001b[0m\u001b[0;34m\u001b[0m\u001b[0;34m\u001b[0m\u001b[0m\n\u001b[0m\u001b[1;32m   1255\u001b[0m         \u001b[0;32mreturn\u001b[0m \u001b[0mkeyarr\u001b[0m\u001b[0;34m,\u001b[0m \u001b[0mindexer\u001b[0m\u001b[0;34m\u001b[0m\u001b[0;34m\u001b[0m\u001b[0m\n\u001b[1;32m   1256\u001b[0m \u001b[0;34m\u001b[0m\u001b[0m\n",
      "\u001b[0;32m~/anaconda3/lib/python3.8/site-packages/pandas/core/indexing.py\u001b[0m in \u001b[0;36m_validate_read_indexer\u001b[0;34m(self, key, indexer, axis, raise_missing)\u001b[0m\n\u001b[1;32m   1296\u001b[0m             \u001b[0;32mif\u001b[0m \u001b[0mmissing\u001b[0m \u001b[0;34m==\u001b[0m \u001b[0mlen\u001b[0m\u001b[0;34m(\u001b[0m\u001b[0mindexer\u001b[0m\u001b[0;34m)\u001b[0m\u001b[0;34m:\u001b[0m\u001b[0;34m\u001b[0m\u001b[0;34m\u001b[0m\u001b[0m\n\u001b[1;32m   1297\u001b[0m                 \u001b[0maxis_name\u001b[0m \u001b[0;34m=\u001b[0m \u001b[0mself\u001b[0m\u001b[0;34m.\u001b[0m\u001b[0mobj\u001b[0m\u001b[0;34m.\u001b[0m\u001b[0m_get_axis_name\u001b[0m\u001b[0;34m(\u001b[0m\u001b[0maxis\u001b[0m\u001b[0;34m)\u001b[0m\u001b[0;34m\u001b[0m\u001b[0;34m\u001b[0m\u001b[0m\n\u001b[0;32m-> 1298\u001b[0;31m                 \u001b[0;32mraise\u001b[0m \u001b[0mKeyError\u001b[0m\u001b[0;34m(\u001b[0m\u001b[0;34mf\"None of [{key}] are in the [{axis_name}]\"\u001b[0m\u001b[0;34m)\u001b[0m\u001b[0;34m\u001b[0m\u001b[0;34m\u001b[0m\u001b[0m\n\u001b[0m\u001b[1;32m   1299\u001b[0m \u001b[0;34m\u001b[0m\u001b[0m\n\u001b[1;32m   1300\u001b[0m             \u001b[0;31m# We (temporarily) allow for some missing keys with .loc, except in\u001b[0m\u001b[0;34m\u001b[0m\u001b[0;34m\u001b[0m\u001b[0;34m\u001b[0m\u001b[0m\n",
      "\u001b[0;31mKeyError\u001b[0m: \"None of [Index(['Isotope', 'Half-life [s]', 'Stable', 'Prod_mode_Photon reaction',\\n       'Prod_mode_Fast neutron activation'],\\n      dtype='object')] are in the [columns]\""
     ]
    }
   ],
   "source": [
    "info_df = pd.DataFrame()\n",
    "for fname in glob.glob(\"downloads/ig_db/info*.csv\")[:20]:\n",
    "    df = pd.read_csv(fname, index_col=0)\n",
    "    df[\"Isotope\"] = fname.split(\"/\")[-1].split(\"_\")[1].split(\".\")[0]\n",
    "    info_df = info_df.append(df)\n",
    "info_df.head()\n",
    "old_cols = info_df.columns.tolist()\n",
    "#print(info_df.columns.tolist())\n",
    "info_df = info_df.set_index(\"Isotope\", drop=True)\n",
    "first_cols = [\"Half-life [s]\", \"Stable\", \"Prod_mode_Photon reaction\", \"Prod_mode_Fast neutron activation\"]\n",
    "new_cols = first_cols + list(set(old_cols) - set(first_cols))\n",
    "info_df = info_df[new_cols]"
   ]
  },
  {
   "cell_type": "code",
   "execution_count": 26,
   "metadata": {},
   "outputs": [
    {
     "output_type": "execute_result",
     "data": {
      "text/plain": [
       "  Isotope  Half-life [s]  Stable Prod_mode_Photon reaction  \\\n",
       "0   173Pt            NaN   False                       NaN   \n",
       "0    82Nb            NaN   False                       NaN   \n",
       "0    84Ge            NaN   False                       NaN   \n",
       "0    78Cu            NaN   False                       NaN   \n",
       "0    97Rb            NaN   False                       NaN   \n",
       "0    67Mn            NaN   False                       NaN   \n",
       "0    98In            NaN   False                       NaN   \n",
       "0    142I            NaN   False                       NaN   \n",
       "0     34K            NaN   False                       NaN   \n",
       "\n",
       "  Prod_mode_Fast neutron activation E(level) sigm_Sp(keV)  Sn(keV)  \\\n",
       "0                               NaN      NaN          NaN   8890.0   \n",
       "0                               NaN      NaN           sy  13600.0   \n",
       "0                               NaN      NaN          NaN   5500.0   \n",
       "0                               NaN      NaN          NaN   3500.0   \n",
       "0                               NaN      NaN          NaN   5222.0   \n",
       "0                               NaN      NaN          NaN   5300.0   \n",
       "0                               NaN      NaN           sy      NaN   \n",
       "0                               NaN      NaN           sy   3100.0   \n",
       "0                               NaN      NaN           sy  16300.0   \n",
       "\n",
       "  Prod_mode_Charged particle reaction  sigm_Half-life [s]  ...  \\\n",
       "0                                 NaN                 NaN  ...   \n",
       "0                                 NaN                 NaN  ...   \n",
       "0                                 NaN                 NaN  ...   \n",
       "0                                 NaN                 NaN  ...   \n",
       "0                                 NaN                 NaN  ...   \n",
       "0                                 NaN                 NaN  ...   \n",
       "0                                 NaN                 NaN  ...   \n",
       "0                                 NaN                 NaN  ...   \n",
       "0                                 NaN                 NaN  ...   \n",
       "\n",
       "         References since cut-off  Sp(keV)  \\\n",
       "0  173Pt decay from 1993-98 (NSR)   1800.0   \n",
       "0   82Nb decay from 1997-98 (NSR)   1400.0   \n",
       "0   84Ge decay from 1997-98 (NSR)  16200.0   \n",
       "0   78Cu decay from 1997-98 (NSR)  14800.0   \n",
       "0   97Rb decay from 1993-98 (NSR)  12600.0   \n",
       "0   67Mn decay from 1997-98 (NSR)      NaN   \n",
       "0   98In decay from 1998-98 (NSR)      5.0   \n",
       "0   142I decay from 1997-98 (NSR)  11200.0   \n",
       "0    34K decay from 1997-98 (NSR)      NaN   \n",
       "\n",
       "   Prod_mode_Thermal neutron activation Prod_mode_Fission product      Jp  \\\n",
       "0                                   NaN                       NaN     NaN   \n",
       "0                                   NaN                       NaN     NaN   \n",
       "0                                   NaN                      True      0+   \n",
       "0                                   NaN                       NaN     NaN   \n",
       "0                                   NaN                      True  3/2(+)   \n",
       "0                                   NaN                       NaN     NaN   \n",
       "0                                   NaN                       NaN     NaN   \n",
       "0                                   NaN                       NaN     NaN   \n",
       "0                                   NaN                       NaN     NaN   \n",
       "\n",
       "       ENSDF citation sigm_Sn(keV) sigm_E(level)  Literature cut-off date  \\\n",
       "0   NDS 75,377 (1995)          110           NaN               1993-10-01   \n",
       "0                 NaN           sy           NaN                      NaN   \n",
       "0  NDS 81, 331 (1997)           sy           NaN               1997-04-22   \n",
       "0                 NaN           sy           NaN                      NaN   \n",
       "0    NDS 70,85 (1993)           30           NaN               1993-07-01   \n",
       "0                 NaN           sy           NaN                      NaN   \n",
       "0  NDS 84, 565 (1998)          NaN           NaN               1998-06-12   \n",
       "0                 NaN           sy           NaN                      NaN   \n",
       "0                 NaN           sy           NaN                      NaN   \n",
       "\n",
       "        Author(s)  \n",
       "0    V.S. Shirley  \n",
       "0             NaN  \n",
       "0       J.K. Tuli  \n",
       "0             NaN  \n",
       "0  A. Artna-Cohen  \n",
       "0             NaN  \n",
       "0        B. Singh  \n",
       "0             NaN  \n",
       "0             NaN  \n",
       "\n",
       "[9 rows x 21 columns]"
      ],
      "text/html": "<div>\n<style scoped>\n    .dataframe tbody tr th:only-of-type {\n        vertical-align: middle;\n    }\n\n    .dataframe tbody tr th {\n        vertical-align: top;\n    }\n\n    .dataframe thead th {\n        text-align: right;\n    }\n</style>\n<table border=\"1\" class=\"dataframe\">\n  <thead>\n    <tr style=\"text-align: right;\">\n      <th></th>\n      <th>Isotope</th>\n      <th>Half-life [s]</th>\n      <th>Stable</th>\n      <th>Prod_mode_Photon reaction</th>\n      <th>Prod_mode_Fast neutron activation</th>\n      <th>E(level)</th>\n      <th>sigm_Sp(keV)</th>\n      <th>Sn(keV)</th>\n      <th>Prod_mode_Charged particle reaction</th>\n      <th>sigm_Half-life [s]</th>\n      <th>...</th>\n      <th>References since cut-off</th>\n      <th>Sp(keV)</th>\n      <th>Prod_mode_Thermal neutron activation</th>\n      <th>Prod_mode_Fission product</th>\n      <th>Jp</th>\n      <th>ENSDF citation</th>\n      <th>sigm_Sn(keV)</th>\n      <th>sigm_E(level)</th>\n      <th>Literature cut-off date</th>\n      <th>Author(s)</th>\n    </tr>\n  </thead>\n  <tbody>\n    <tr>\n      <th>0</th>\n      <td>173Pt</td>\n      <td>NaN</td>\n      <td>False</td>\n      <td>NaN</td>\n      <td>NaN</td>\n      <td>NaN</td>\n      <td>NaN</td>\n      <td>8890.0</td>\n      <td>NaN</td>\n      <td>NaN</td>\n      <td>...</td>\n      <td>173Pt decay from 1993-98 (NSR)</td>\n      <td>1800.0</td>\n      <td>NaN</td>\n      <td>NaN</td>\n      <td>NaN</td>\n      <td>NDS 75,377 (1995)</td>\n      <td>110</td>\n      <td>NaN</td>\n      <td>1993-10-01</td>\n      <td>V.S. Shirley</td>\n    </tr>\n    <tr>\n      <th>0</th>\n      <td>82Nb</td>\n      <td>NaN</td>\n      <td>False</td>\n      <td>NaN</td>\n      <td>NaN</td>\n      <td>NaN</td>\n      <td>sy</td>\n      <td>13600.0</td>\n      <td>NaN</td>\n      <td>NaN</td>\n      <td>...</td>\n      <td>82Nb decay from 1997-98 (NSR)</td>\n      <td>1400.0</td>\n      <td>NaN</td>\n      <td>NaN</td>\n      <td>NaN</td>\n      <td>NaN</td>\n      <td>sy</td>\n      <td>NaN</td>\n      <td>NaN</td>\n      <td>NaN</td>\n    </tr>\n    <tr>\n      <th>0</th>\n      <td>84Ge</td>\n      <td>NaN</td>\n      <td>False</td>\n      <td>NaN</td>\n      <td>NaN</td>\n      <td>NaN</td>\n      <td>NaN</td>\n      <td>5500.0</td>\n      <td>NaN</td>\n      <td>NaN</td>\n      <td>...</td>\n      <td>84Ge decay from 1997-98 (NSR)</td>\n      <td>16200.0</td>\n      <td>NaN</td>\n      <td>True</td>\n      <td>0+</td>\n      <td>NDS 81, 331 (1997)</td>\n      <td>sy</td>\n      <td>NaN</td>\n      <td>1997-04-22</td>\n      <td>J.K. Tuli</td>\n    </tr>\n    <tr>\n      <th>0</th>\n      <td>78Cu</td>\n      <td>NaN</td>\n      <td>False</td>\n      <td>NaN</td>\n      <td>NaN</td>\n      <td>NaN</td>\n      <td>NaN</td>\n      <td>3500.0</td>\n      <td>NaN</td>\n      <td>NaN</td>\n      <td>...</td>\n      <td>78Cu decay from 1997-98 (NSR)</td>\n      <td>14800.0</td>\n      <td>NaN</td>\n      <td>NaN</td>\n      <td>NaN</td>\n      <td>NaN</td>\n      <td>sy</td>\n      <td>NaN</td>\n      <td>NaN</td>\n      <td>NaN</td>\n    </tr>\n    <tr>\n      <th>0</th>\n      <td>97Rb</td>\n      <td>NaN</td>\n      <td>False</td>\n      <td>NaN</td>\n      <td>NaN</td>\n      <td>NaN</td>\n      <td>NaN</td>\n      <td>5222.0</td>\n      <td>NaN</td>\n      <td>NaN</td>\n      <td>...</td>\n      <td>97Rb decay from 1993-98 (NSR)</td>\n      <td>12600.0</td>\n      <td>NaN</td>\n      <td>True</td>\n      <td>3/2(+)</td>\n      <td>NDS 70,85 (1993)</td>\n      <td>30</td>\n      <td>NaN</td>\n      <td>1993-07-01</td>\n      <td>A. Artna-Cohen</td>\n    </tr>\n    <tr>\n      <th>0</th>\n      <td>67Mn</td>\n      <td>NaN</td>\n      <td>False</td>\n      <td>NaN</td>\n      <td>NaN</td>\n      <td>NaN</td>\n      <td>NaN</td>\n      <td>5300.0</td>\n      <td>NaN</td>\n      <td>NaN</td>\n      <td>...</td>\n      <td>67Mn decay from 1997-98 (NSR)</td>\n      <td>NaN</td>\n      <td>NaN</td>\n      <td>NaN</td>\n      <td>NaN</td>\n      <td>NaN</td>\n      <td>sy</td>\n      <td>NaN</td>\n      <td>NaN</td>\n      <td>NaN</td>\n    </tr>\n    <tr>\n      <th>0</th>\n      <td>98In</td>\n      <td>NaN</td>\n      <td>False</td>\n      <td>NaN</td>\n      <td>NaN</td>\n      <td>NaN</td>\n      <td>sy</td>\n      <td>NaN</td>\n      <td>NaN</td>\n      <td>NaN</td>\n      <td>...</td>\n      <td>98In decay from 1998-98 (NSR)</td>\n      <td>5.0</td>\n      <td>NaN</td>\n      <td>NaN</td>\n      <td>NaN</td>\n      <td>NDS 84, 565 (1998)</td>\n      <td>NaN</td>\n      <td>NaN</td>\n      <td>1998-06-12</td>\n      <td>B. Singh</td>\n    </tr>\n    <tr>\n      <th>0</th>\n      <td>142I</td>\n      <td>NaN</td>\n      <td>False</td>\n      <td>NaN</td>\n      <td>NaN</td>\n      <td>NaN</td>\n      <td>sy</td>\n      <td>3100.0</td>\n      <td>NaN</td>\n      <td>NaN</td>\n      <td>...</td>\n      <td>142I decay from 1997-98 (NSR)</td>\n      <td>11200.0</td>\n      <td>NaN</td>\n      <td>NaN</td>\n      <td>NaN</td>\n      <td>NaN</td>\n      <td>sy</td>\n      <td>NaN</td>\n      <td>NaN</td>\n      <td>NaN</td>\n    </tr>\n    <tr>\n      <th>0</th>\n      <td>34K</td>\n      <td>NaN</td>\n      <td>False</td>\n      <td>NaN</td>\n      <td>NaN</td>\n      <td>NaN</td>\n      <td>sy</td>\n      <td>16300.0</td>\n      <td>NaN</td>\n      <td>NaN</td>\n      <td>...</td>\n      <td>34K decay from 1997-98 (NSR)</td>\n      <td>NaN</td>\n      <td>NaN</td>\n      <td>NaN</td>\n      <td>NaN</td>\n      <td>NaN</td>\n      <td>sy</td>\n      <td>NaN</td>\n      <td>NaN</td>\n      <td>NaN</td>\n    </tr>\n  </tbody>\n</table>\n<p>9 rows × 21 columns</p>\n</div>"
     },
     "metadata": {},
     "execution_count": 26
    }
   ],
   "source": [
    "info_df[(info_df[\"Half-life [s]\"].isna()) & (info_df[\"Stable\"] == False)]"
   ]
  },
  {
   "cell_type": "code",
   "execution_count": 29,
   "metadata": {},
   "outputs": [
    {
     "output_type": "execute_result",
     "data": {
      "text/plain": [
       "  Isotope  Half-life [s]  Stable Prod_mode_Photon reaction  \\\n",
       "0    74As     1535328.00   False                      True   \n",
       "0   111Te          19.30   False                       NaN   \n",
       "0  127mIn           3.67   False                       NaN   \n",
       "0   173Pt            NaN   False                       NaN   \n",
       "0    98Zr          30.70   False                       NaN   \n",
       "\n",
       "  Prod_mode_Fast neutron activation E(level) sigm_Sp(keV)  Sn(keV)  \\\n",
       "0                              True      NaN          NaN   7975.0   \n",
       "0                               NaN      NaN          NaN   9270.0   \n",
       "0                               NaN   46271k          NaN   7252.0   \n",
       "0                               NaN      NaN          NaN   8890.0   \n",
       "0                               NaN      NaN          NaN   6399.0   \n",
       "\n",
       "  Prod_mode_Charged particle reaction  sigm_Half-life [s]  ...  \\\n",
       "0                                 NaN             1728.00  ...   \n",
       "0                                 NaN                0.40  ...   \n",
       "0                                 NaN                0.04  ...   \n",
       "0                                 NaN                 NaN  ...   \n",
       "0                                 NaN                0.40  ...   \n",
       "\n",
       "         References since cut-off  Sp(keV)  \\\n",
       "0   74As decay from 1994-98 (NSR)   6851.4   \n",
       "0  111Te decay from 1997-98 (NSR)   3230.0   \n",
       "0  127In decay from 1993-98 (NSR)  11956.0   \n",
       "0  173Pt decay from 1993-98 (NSR)   1800.0   \n",
       "0   98Zr decay from 1998-98 (NSR)  12305.0   \n",
       "\n",
       "   Prod_mode_Thermal neutron activation Prod_mode_Fission product      Jp  \\\n",
       "0                                   NaN                       NaN      2-   \n",
       "0                                   NaN                       NaN  (5/2+)   \n",
       "0                                   NaN                       NaN  (1/2-)   \n",
       "0                                   NaN                       NaN     NaN   \n",
       "0                                   NaN                      True      0+   \n",
       "\n",
       "       ENSDF citation sigm_Sn(keV) sigm_E(level)  Literature cut-off date  \\\n",
       "0   NDS 74,529 (1995)            4           NaN               1994-05-01   \n",
       "0   NDS 77,299 (1996)           89           NaN               1995-10-01   \n",
       "0     NDS 77,1 (1996)           57          71.0               1993-10-01   \n",
       "0   NDS 75,377 (1995)          110           NaN               1993-10-01   \n",
       "0  NDS 84, 565 (1998)           20           NaN               1998-06-12   \n",
       "\n",
       "                Author(s)  \n",
       "0             A.R. Farhan  \n",
       "0              J. Blachot  \n",
       "0  K. Kitao and M. Oshima  \n",
       "0            V.S. Shirley  \n",
       "0                B. Singh  \n",
       "\n",
       "[5 rows x 21 columns]"
      ],
      "text/html": "<div>\n<style scoped>\n    .dataframe tbody tr th:only-of-type {\n        vertical-align: middle;\n    }\n\n    .dataframe tbody tr th {\n        vertical-align: top;\n    }\n\n    .dataframe thead th {\n        text-align: right;\n    }\n</style>\n<table border=\"1\" class=\"dataframe\">\n  <thead>\n    <tr style=\"text-align: right;\">\n      <th></th>\n      <th>Isotope</th>\n      <th>Half-life [s]</th>\n      <th>Stable</th>\n      <th>Prod_mode_Photon reaction</th>\n      <th>Prod_mode_Fast neutron activation</th>\n      <th>E(level)</th>\n      <th>sigm_Sp(keV)</th>\n      <th>Sn(keV)</th>\n      <th>Prod_mode_Charged particle reaction</th>\n      <th>sigm_Half-life [s]</th>\n      <th>...</th>\n      <th>References since cut-off</th>\n      <th>Sp(keV)</th>\n      <th>Prod_mode_Thermal neutron activation</th>\n      <th>Prod_mode_Fission product</th>\n      <th>Jp</th>\n      <th>ENSDF citation</th>\n      <th>sigm_Sn(keV)</th>\n      <th>sigm_E(level)</th>\n      <th>Literature cut-off date</th>\n      <th>Author(s)</th>\n    </tr>\n  </thead>\n  <tbody>\n    <tr>\n      <th>0</th>\n      <td>74As</td>\n      <td>1535328.00</td>\n      <td>False</td>\n      <td>True</td>\n      <td>True</td>\n      <td>NaN</td>\n      <td>NaN</td>\n      <td>7975.0</td>\n      <td>NaN</td>\n      <td>1728.00</td>\n      <td>...</td>\n      <td>74As decay from 1994-98 (NSR)</td>\n      <td>6851.4</td>\n      <td>NaN</td>\n      <td>NaN</td>\n      <td>2-</td>\n      <td>NDS 74,529 (1995)</td>\n      <td>4</td>\n      <td>NaN</td>\n      <td>1994-05-01</td>\n      <td>A.R. Farhan</td>\n    </tr>\n    <tr>\n      <th>0</th>\n      <td>111Te</td>\n      <td>19.30</td>\n      <td>False</td>\n      <td>NaN</td>\n      <td>NaN</td>\n      <td>NaN</td>\n      <td>NaN</td>\n      <td>9270.0</td>\n      <td>NaN</td>\n      <td>0.40</td>\n      <td>...</td>\n      <td>111Te decay from 1997-98 (NSR)</td>\n      <td>3230.0</td>\n      <td>NaN</td>\n      <td>NaN</td>\n      <td>(5/2+)</td>\n      <td>NDS 77,299 (1996)</td>\n      <td>89</td>\n      <td>NaN</td>\n      <td>1995-10-01</td>\n      <td>J. Blachot</td>\n    </tr>\n    <tr>\n      <th>0</th>\n      <td>127mIn</td>\n      <td>3.67</td>\n      <td>False</td>\n      <td>NaN</td>\n      <td>NaN</td>\n      <td>46271k</td>\n      <td>NaN</td>\n      <td>7252.0</td>\n      <td>NaN</td>\n      <td>0.04</td>\n      <td>...</td>\n      <td>127In decay from 1993-98 (NSR)</td>\n      <td>11956.0</td>\n      <td>NaN</td>\n      <td>NaN</td>\n      <td>(1/2-)</td>\n      <td>NDS 77,1 (1996)</td>\n      <td>57</td>\n      <td>71.0</td>\n      <td>1993-10-01</td>\n      <td>K. Kitao and M. Oshima</td>\n    </tr>\n    <tr>\n      <th>0</th>\n      <td>173Pt</td>\n      <td>NaN</td>\n      <td>False</td>\n      <td>NaN</td>\n      <td>NaN</td>\n      <td>NaN</td>\n      <td>NaN</td>\n      <td>8890.0</td>\n      <td>NaN</td>\n      <td>NaN</td>\n      <td>...</td>\n      <td>173Pt decay from 1993-98 (NSR)</td>\n      <td>1800.0</td>\n      <td>NaN</td>\n      <td>NaN</td>\n      <td>NaN</td>\n      <td>NDS 75,377 (1995)</td>\n      <td>110</td>\n      <td>NaN</td>\n      <td>1993-10-01</td>\n      <td>V.S. Shirley</td>\n    </tr>\n    <tr>\n      <th>0</th>\n      <td>98Zr</td>\n      <td>30.70</td>\n      <td>False</td>\n      <td>NaN</td>\n      <td>NaN</td>\n      <td>NaN</td>\n      <td>NaN</td>\n      <td>6399.0</td>\n      <td>NaN</td>\n      <td>0.40</td>\n      <td>...</td>\n      <td>98Zr decay from 1998-98 (NSR)</td>\n      <td>12305.0</td>\n      <td>NaN</td>\n      <td>True</td>\n      <td>0+</td>\n      <td>NDS 84, 565 (1998)</td>\n      <td>20</td>\n      <td>NaN</td>\n      <td>1998-06-12</td>\n      <td>B. Singh</td>\n    </tr>\n  </tbody>\n</table>\n<p>5 rows × 21 columns</p>\n</div>"
     },
     "metadata": {},
     "execution_count": 29
    }
   ],
   "source": [
    "info_df.index_col=\"Isotope\"\n",
    "info_df.head()"
   ]
  },
  {
   "cell_type": "code",
   "execution_count": null,
   "metadata": {},
   "outputs": [],
   "source": []
  },
  {
   "cell_type": "code",
   "execution_count": null,
   "metadata": {},
   "outputs": [],
   "source": [
    "df.to_parquet(\"ig_db/info_all.pqt\")"
   ]
  }
 ]
}