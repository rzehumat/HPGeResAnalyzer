{
 "metadata": {
  "language_info": {
   "codemirror_mode": {
    "name": "ipython",
    "version": 3
   },
   "file_extension": ".py",
   "mimetype": "text/x-python",
   "name": "python",
   "nbconvert_exporter": "python",
   "pygments_lexer": "ipython3",
   "version": "3.8.5"
  },
  "orig_nbformat": 2,
  "kernelspec": {
   "name": "python3",
   "display_name": "Python 3.8.5 64-bit ('base': conda)",
   "metadata": {
    "interpreter": {
     "hash": "590f3899dd7b9bcfd4cbc68d67e174e21f00fe45394f2e3932fd522000967c3f"
    }
   }
  }
 },
 "nbformat": 4,
 "nbformat_minor": 2,
 "cells": [
  {
   "cell_type": "code",
   "execution_count": 1,
   "metadata": {},
   "outputs": [],
   "source": [
    "import pandas as pd\n",
    "import re\n",
    "import numpy as np"
   ]
  },
  {
   "cell_type": "code",
   "execution_count": 2,
   "metadata": {},
   "outputs": [],
   "source": [
    "df = pd.read_csv(\"out/M1-C1-Udepl-120.csv\")"
   ]
  },
  {
   "cell_type": "code",
   "execution_count": 22,
   "metadata": {},
   "outputs": [],
   "source": [
    "rho = 19.01\n",
    "d = 0.028\n",
    "\n",
    "mass_1 = 0.2361\n",
    "mass_2 = 0.2214\n",
    "\n",
    "AVOGADRO = 6.02214076e+23\n",
    "molar_mass = 238.0507847"
   ]
  },
  {
   "cell_type": "code",
   "execution_count": 6,
   "metadata": {},
   "outputs": [],
   "source": [
    "mu_df = pd.read_csv(\"aux_data/mu_92.csv\", index_col=0)"
   ]
  },
  {
   "cell_type": "code",
   "execution_count": 8,
   "metadata": {},
   "outputs": [],
   "source": [
    "def get_mu_one(val, mu_df):\n",
    "    if val in mu_df[\"photon_energy\"]:\n",
    "        return mu_df.loc[val, \"total_attenuation_without_coherent_scatt\"]\n",
    "    lower = mu_df[mu_df[\"photon_energy\"] < val].iloc[-1]\n",
    "    upper = mu_df[mu_df[\"photon_energy\"] > val].iloc[0]\n",
    "    return lower[\"total_attenuation_without_coherent_scatt\"] + ((val-lower[\"photon_energy\"])/((upper-lower)[\"photon_energy\"])) * ((upper-lower)[\"total_attenuation_without_coherent_scatt\"]) \n",
    "    # mu_df.iloc[(mu_df[mu_df[\"photon_energy\"] > val]['photon_energy']-val).abs().argsort()[:2]]"
   ]
  },
  {
   "cell_type": "code",
   "execution_count": 9,
   "metadata": {},
   "outputs": [],
   "source": [
    "def get_mu_col(energy_col, mu_df):\n",
    "    return energy_col.apply(lambda x: get_mu_one(x, mu_df))"
   ]
  },
  {
   "cell_type": "code",
   "execution_count": 10,
   "metadata": {},
   "outputs": [],
   "source": [
    "mu = get_mu_col(df[\"Energy\"], mu_df)"
   ]
  },
  {
   "cell_type": "code",
   "execution_count": 16,
   "metadata": {},
   "outputs": [],
   "source": [
    "k = (mu * rho * d) / (1-np.exp(-mu * rho * d))"
   ]
  },
  {
   "cell_type": "code",
   "execution_count": 17,
   "metadata": {},
   "outputs": [],
   "source": [
    "lam = np.log(2) / df[\"Half-life [s]\"]"
   ]
  },
  {
   "cell_type": "code",
   "execution_count": 24,
   "metadata": {},
   "outputs": [],
   "source": [
    "N = mass_1*AVOGADRO/molar_mass"
   ]
  },
  {
   "cell_type": "code",
   "execution_count": 26,
   "metadata": {},
   "outputs": [],
   "source": [
    "t_irr = 30*60"
   ]
  },
  {
   "cell_type": "code",
   "execution_count": 28,
   "metadata": {},
   "outputs": [],
   "source": [
    "irr_start = pd.to_datetime(\"1.12.2020 10:31:00\")"
   ]
  },
  {
   "cell_type": "code",
   "execution_count": 30,
   "metadata": {},
   "outputs": [],
   "source": [
    "irr_end = irr_start + pd.to_timedelta(t_irr, \"s\")"
   ]
  },
  {
   "cell_type": "code",
   "execution_count": 38,
   "metadata": {},
   "outputs": [],
   "source": [
    "delta_t = pd.to_datetime(df[\"Acquisition Started\"][0]) - irr_end"
   ]
  },
  {
   "cell_type": "code",
   "execution_count": 44,
   "metadata": {},
   "outputs": [],
   "source": [
    "delta_t = delta_t.total_seconds()"
   ]
  },
  {
   "cell_type": "code",
   "execution_count": 47,
   "metadata": {},
   "outputs": [
    {
     "output_type": "execute_result",
     "data": {
      "text/plain": [
       "['Energy',\n",
       " 'E_tab',\n",
       " 'Ig [%]',\n",
       " 'Area',\n",
       " 'Isotope',\n",
       " 'sigm_E',\n",
       " 'sigm_Ig',\n",
       " 'FWHM',\n",
       " '%err',\n",
       " 'Live Time',\n",
       " 'Real Time',\n",
       " 'Dead Time (rel)',\n",
       " 'Ig',\n",
       " 'IT',\n",
       " 'Peak Analysis Performed on',\n",
       " 'Report Generated On',\n",
       " 'Channel',\n",
       " 'Efficiency Calibration Used Done On',\n",
       " 'Bkgnd',\n",
       " 'Sample Taken On',\n",
       " 'Pk',\n",
       " 'Peak Analysis Report                    2.12.2020  10',\n",
       " 'Energy Calibration Used Done On',\n",
       " 'Cts/Sec',\n",
       " 'Acquisition Started',\n",
       " 'Identification Energy Tolerance',\n",
       " 'eps',\n",
       " 'Geometry',\n",
       " 'Half-life [s]',\n",
       " 'Stable',\n",
       " 'Prod_mode_Photon reaction',\n",
       " 'Prod_mode_Fast neutron activation',\n",
       " 'Prod_mode_Naturally occurring',\n",
       " 'sigm_Abundance',\n",
       " 'sigm_Half-life [s]',\n",
       " 'Prod_mode_Charged particle reaction',\n",
       " 'Prod_mode_Thermal neutron activation',\n",
       " 'Abundance',\n",
       " 'Prod_mode_Fission product',\n",
       " 'fiss_yield',\n",
       " 'sigm_fiss_yield']"
      ]
     },
     "metadata": {},
     "execution_count": 47
    }
   ],
   "source": [
    "df.columns.to_list()"
   ]
  },
  {
   "cell_type": "code",
   "execution_count": 62,
   "metadata": {},
   "outputs": [],
   "source": [
    "df[\"RR\"] = ((df['Real Time'][0] / df[\"Live Time\"][0]) * k * lam * df[\"Area\"]) / (N * (1-np.exp(-lam*t_irr)) * np.exp(-lam * delta_t) * (1-np.exp(-lam * df[\"Real Time\"][0])) * df[\"eps\"] * df[\"Ig\"])"
   ]
  },
  {
   "cell_type": "code",
   "execution_count": 71,
   "metadata": {},
   "outputs": [],
   "source": [
    "df[\"RR\"] = ((df['Real Time'][0] / df[\"Live Time\"][0]) * k * lam * df[\"Area\"]) #/ (N * (1-np.exp(-lam*t_irr)) * np.exp(-lam * delta_t) * (1-np.exp(-lam * df[\"Real Time\"])) * df[\"eps\"] * df[\"Ig\"])"
   ]
  },
  {
   "cell_type": "code",
   "execution_count": 73,
   "metadata": {},
   "outputs": [
    {
     "output_type": "execute_result",
     "data": {
      "text/plain": [
       "0       786.0\n",
       "1         NaN\n",
       "2         NaN\n",
       "3         NaN\n",
       "4         NaN\n",
       "        ...  \n",
       "5148      NaN\n",
       "5149      NaN\n",
       "5150      NaN\n",
       "5151      NaN\n",
       "5152      NaN\n",
       "Name: Area, Length: 5153, dtype: float64"
      ]
     },
     "metadata": {},
     "execution_count": 73
    }
   ],
   "source": [
    "df[\"Area\"]"
   ]
  },
  {
   "cell_type": "code",
   "execution_count": 55,
   "metadata": {},
   "outputs": [
    {
     "output_type": "execute_result",
     "data": {
      "text/plain": [
       "0       321.4\n",
       "1         NaN\n",
       "2         NaN\n",
       "3         NaN\n",
       "4         NaN\n",
       "        ...  \n",
       "5148      NaN\n",
       "5149      NaN\n",
       "5150      NaN\n",
       "5151      NaN\n",
       "5152      NaN\n",
       "Name: Real Time, Length: 5153, dtype: float64"
      ]
     },
     "metadata": {},
     "execution_count": 55
    }
   ],
   "source": [
    "df[\"Real Time\"]"
   ]
  }
 ]
}