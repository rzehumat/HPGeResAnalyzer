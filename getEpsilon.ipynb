{
 "metadata": {
  "language_info": {
   "codemirror_mode": {
    "name": "ipython",
    "version": 3
   },
   "file_extension": ".py",
   "mimetype": "text/x-python",
   "name": "python",
   "nbconvert_exporter": "python",
   "pygments_lexer": "ipython3",
   "version": "3.8.5-final"
  },
  "orig_nbformat": 2,
  "kernelspec": {
   "name": "python3",
   "display_name": "Python 3.8.5 64-bit ('base': conda)",
   "metadata": {
    "interpreter": {
     "hash": "590f3899dd7b9bcfd4cbc68d67e174e21f00fe45394f2e3932fd522000967c3f"
    }
   }
  }
 },
 "nbformat": 4,
 "nbformat_minor": 2,
 "cells": [
  {
   "cell_type": "code",
   "execution_count": 1,
   "metadata": {},
   "outputs": [],
   "source": [
    "import pandas as pd"
   ]
  },
  {
   "cell_type": "code",
   "execution_count": null,
   "metadata": {},
   "outputs": [],
   "source": [
    "def add_epsilon(reports_dir):\n",
    "    "
   ]
  },
  {
   "cell_type": "code",
   "execution_count": 4,
   "metadata": {},
   "outputs": [],
   "source": [
    "eps_df = pd.read_csv(\"aux_data/epsilons.csv\", index_col=0)"
   ]
  },
  {
   "cell_type": "code",
   "execution_count": 5,
   "metadata": {},
   "outputs": [
    {
     "output_type": "execute_result",
     "data": {
      "text/plain": [
       "         epsilon (3 mm) epsilon (30 mm)  epsilon (80 mm)  epsilon (120 mm)  \\\n",
       "E [keV]                                                                      \n",
       "1         5.281210e-175     1.78785E-54    4.889870e-130     2.973220e-139   \n",
       "2         5.961370e-100     1.43596E-52     6.321290e-74      1.108590e-78   \n",
       "3          3.069400e-69     2.46036E-43     2.831130e-51      2.164550e-54   \n",
       "4          3.358090e-52     7.95922E-36     8.655630e-39      4.602290e-41   \n",
       "5          2.624080e-41     4.66365E-30     7.751400e-31      1.320340e-32   \n",
       "...                 ...             ...              ...               ...   \n",
       "2995       1.044700e+01     2.40641E+00     7.556770e-01      4.475800e-01   \n",
       "2996       1.044720e+01     2.40560E+00     7.554280e-01      4.474830e-01   \n",
       "2997       1.044740e+01     2.40478E+00     7.551800e-01      4.473860e-01   \n",
       "2998       1.044760e+01     2.40396E+00     7.549310e-01      4.472890e-01   \n",
       "2999       1.044780e+01     2.40315E+00     7.546820e-01      4.471920e-01   \n",
       "\n",
       "         epsilon (250 mm)  \n",
       "E [keV]                    \n",
       "1           1.227770e-101  \n",
       "2            2.895580e-59  \n",
       "3            6.973980e-42  \n",
       "4            3.410710e-32  \n",
       "5            5.752400e-26  \n",
       "...                   ...  \n",
       "2995         1.119700e-01  \n",
       "2996         1.119250e-01  \n",
       "2997         1.118800e-01  \n",
       "2998         1.118350e-01  \n",
       "2999         1.117900e-01  \n",
       "\n",
       "[2999 rows x 5 columns]"
      ],
      "text/html": "<div>\n<style scoped>\n    .dataframe tbody tr th:only-of-type {\n        vertical-align: middle;\n    }\n\n    .dataframe tbody tr th {\n        vertical-align: top;\n    }\n\n    .dataframe thead th {\n        text-align: right;\n    }\n</style>\n<table border=\"1\" class=\"dataframe\">\n  <thead>\n    <tr style=\"text-align: right;\">\n      <th></th>\n      <th>epsilon (3 mm)</th>\n      <th>epsilon (30 mm)</th>\n      <th>epsilon (80 mm)</th>\n      <th>epsilon (120 mm)</th>\n      <th>epsilon (250 mm)</th>\n    </tr>\n    <tr>\n      <th>E [keV]</th>\n      <th></th>\n      <th></th>\n      <th></th>\n      <th></th>\n      <th></th>\n    </tr>\n  </thead>\n  <tbody>\n    <tr>\n      <th>1</th>\n      <td>5.281210e-175</td>\n      <td>1.78785E-54</td>\n      <td>4.889870e-130</td>\n      <td>2.973220e-139</td>\n      <td>1.227770e-101</td>\n    </tr>\n    <tr>\n      <th>2</th>\n      <td>5.961370e-100</td>\n      <td>1.43596E-52</td>\n      <td>6.321290e-74</td>\n      <td>1.108590e-78</td>\n      <td>2.895580e-59</td>\n    </tr>\n    <tr>\n      <th>3</th>\n      <td>3.069400e-69</td>\n      <td>2.46036E-43</td>\n      <td>2.831130e-51</td>\n      <td>2.164550e-54</td>\n      <td>6.973980e-42</td>\n    </tr>\n    <tr>\n      <th>4</th>\n      <td>3.358090e-52</td>\n      <td>7.95922E-36</td>\n      <td>8.655630e-39</td>\n      <td>4.602290e-41</td>\n      <td>3.410710e-32</td>\n    </tr>\n    <tr>\n      <th>5</th>\n      <td>2.624080e-41</td>\n      <td>4.66365E-30</td>\n      <td>7.751400e-31</td>\n      <td>1.320340e-32</td>\n      <td>5.752400e-26</td>\n    </tr>\n    <tr>\n      <th>...</th>\n      <td>...</td>\n      <td>...</td>\n      <td>...</td>\n      <td>...</td>\n      <td>...</td>\n    </tr>\n    <tr>\n      <th>2995</th>\n      <td>1.044700e+01</td>\n      <td>2.40641E+00</td>\n      <td>7.556770e-01</td>\n      <td>4.475800e-01</td>\n      <td>1.119700e-01</td>\n    </tr>\n    <tr>\n      <th>2996</th>\n      <td>1.044720e+01</td>\n      <td>2.40560E+00</td>\n      <td>7.554280e-01</td>\n      <td>4.474830e-01</td>\n      <td>1.119250e-01</td>\n    </tr>\n    <tr>\n      <th>2997</th>\n      <td>1.044740e+01</td>\n      <td>2.40478E+00</td>\n      <td>7.551800e-01</td>\n      <td>4.473860e-01</td>\n      <td>1.118800e-01</td>\n    </tr>\n    <tr>\n      <th>2998</th>\n      <td>1.044760e+01</td>\n      <td>2.40396E+00</td>\n      <td>7.549310e-01</td>\n      <td>4.472890e-01</td>\n      <td>1.118350e-01</td>\n    </tr>\n    <tr>\n      <th>2999</th>\n      <td>1.044780e+01</td>\n      <td>2.40315E+00</td>\n      <td>7.546820e-01</td>\n      <td>4.471920e-01</td>\n      <td>1.117900e-01</td>\n    </tr>\n  </tbody>\n</table>\n<p>2999 rows × 5 columns</p>\n</div>"
     },
     "metadata": {},
     "execution_count": 5
    }
   ],
   "source": [
    "eps_df"
   ]
  }
 ]
}