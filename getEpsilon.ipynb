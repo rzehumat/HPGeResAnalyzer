{
 "metadata": {
  "language_info": {
   "codemirror_mode": {
    "name": "ipython",
    "version": 3
   },
   "file_extension": ".py",
   "mimetype": "text/x-python",
   "name": "python",
   "nbconvert_exporter": "python",
   "pygments_lexer": "ipython3",
   "version": "3.8.5-final"
  },
  "orig_nbformat": 2,
  "kernelspec": {
   "name": "python3",
   "display_name": "Python 3.8.5 64-bit ('base': conda)",
   "metadata": {
    "interpreter": {
     "hash": "590f3899dd7b9bcfd4cbc68d67e174e21f00fe45394f2e3932fd522000967c3f"
    }
   }
  }
 },
 "nbformat": 4,
 "nbformat_minor": 2,
 "cells": [
  {
   "cell_type": "code",
   "execution_count": 231,
   "metadata": {},
   "outputs": [],
   "source": [
    "import pandas as pd\n",
    "import glob\n",
    "import numpy as np\n",
    "from math import modf, isnan\n",
    "from pathlib import Path"
   ]
  },
  {
   "cell_type": "code",
   "execution_count": 232,
   "metadata": {},
   "outputs": [],
   "source": [
    "def add_epsilon_dir(parsed_dir):\n",
    "    \n",
    "    if not os.path.isdir(parsed_dir):\n",
    "        raise Exception(f\"Directory '{parsed_dir}' not found. Consider creating it and moving parsed files there.\")\n",
    "    \n",
    "    CALIBRATION_PATH = \"aux_data/epsilons.csv\"\n",
    "    eps_df = pd.read_csv(CALIBRATION_PATH, index_col=0)\n",
    "    Path(\"./with_eps\").mkdir(parents=True, exist_ok=True)\n",
    "    for parsed_file in glob.iglob(f\"{parsed_dir}/*.csv\"):\n",
    "        add_epsilon_file(parsed_file)"
   ]
  },
  {
   "cell_type": "code",
   "execution_count": 233,
   "metadata": {},
   "outputs": [],
   "source": [
    "def add_epsilon_file(report_path):\n",
    "    df = pd.read_csv(report_path, index_col=0)\n",
    "    # Modify here!!!\n",
    "    geom = 30\n",
    "    df[\"eps\"] = df[\"E\"].apply(lambda x: add_epsilon_val(x, geom))\n",
    "    print(report_path)\n",
    "    df.to_csv(\"with_eps/fname.csv\")"
   ]
  },
  {
   "cell_type": "code",
   "execution_count": 234,
   "metadata": {},
   "outputs": [],
   "source": [
    "def add_epsilon_val(num, geom):\n",
    "    if isnan(num):\n",
    "        return float(\"NaN\")\n",
    "    else:\n",
    "        dec_e, int_e = modf(num)\n",
    "        int_e = int(int_e)\n",
    "        \n",
    "        curr_eps = float(eps_df.loc[int_e, f\"eps_{geom}_mm\"])\n",
    "        eps = curr_eps + dec_e*(float(eps_df.loc[int_e + 1, f\"eps_{geom}_mm\"]) - curr_eps)\n",
    "    return eps"
   ]
  },
  {
   "cell_type": "code",
   "execution_count": 238,
   "metadata": {
    "tags": []
   },
   "outputs": [
    {
     "output_type": "stream",
     "name": "stdout",
     "text": [
      "Num is\n271.131\nwith parts\n0.1309999999999718\n271.0\nInt is\n271\n272\n30\n0.0230818\ncurr eps is\n0.0230818\neps is\n0.023070717400000003\nNum is\n275.4491\nwith parts\n0.4490999999999872\n275.0\nInt is\n275\n276\n30\n0.0227466\ncurr eps is\n0.0227466\neps is\n0.02270959416\nNum is\n295.93921\nwith parts\n0.9392100000000028\n295.0\nInt is\n295\n296\n30\n0.0211995\ncurr eps is\n0.0211995\neps is\n0.021131782959\nNum is\n316.3\nwith parts\n0.30000000000001137\n316.0\nInt is\n316\n317\n30\n0.0197801\ncurr eps is\n0.0197801\neps is\n0.019761229999999998\nNum is\n324.83\nwith parts\n0.8299999999999841\n324.0\nInt is\n324\n325\n30\n0.0192877\ncurr eps is\n0.0192877\neps is\n0.019237983\nNum is\n329.4252\nwith parts\n0.425200000000018\n329.0\nInt is\n329\n330\n30\n0.0189922\ncurr eps is\n0.0189922\neps is\n0.0189675384\nNum is\n340.401\nwith parts\n0.40100000000001046\n340.0\nInt is\n340\n341\n30\n0.0183732\ncurr eps is\n0.0183732\neps is\n0.018351465799999998\nNum is\n357.26\nwith parts\n0.2599999999999909\n357.0\nInt is\n357\n358\n30\n0.0174935\ncurr eps is\n0.0174935\neps is\n0.017480759999999998\nNum is\n411.11631\nwith parts\n0.11630999999999858\n411.0\nInt is\n411\n412\n30\n0.015198500000000002\ncurr eps is\n0.015198500000000002\neps is\n0.015194254685000002\nNum is\n416.048\nwith parts\n0.04800000000000182\n416.0\nInt is\n416\n417\n30\n0.015017500000000001\ncurr eps is\n0.015017500000000001\neps is\n0.015015786400000002\nNum is\n443.965\nwith parts\n0.964999999999975\n443.0\nInt is\n443\n444\n30\n0.014113599999999999\ncurr eps is\n0.014113599999999999\neps is\n0.014083395499999998\nNum is\n488.67922\nwith parts\n0.6792199999999866\n488.0\nInt is\n488\n489\n30\n0.0128387\ncurr eps is\n0.0128387\neps is\n0.01282137989\nNum is\n503.474\nwith parts\n0.47399999999998954\n503.0\nInt is\n503\n504\n30\n0.0124665\ncurr eps is\n0.0124665\neps is\n0.012455124\nNum is\n534.245\nwith parts\n0.24500000000000455\n534.0\nInt is\n534\n535\n30\n0.0117659\ncurr eps is\n0.0117659\neps is\n0.011760706\nNum is\n556.56\nwith parts\n0.5599999999999454\n556.0\nInt is\n556\n557\n30\n0.0113176\ncurr eps is\n0.0113176\neps is\n0.011306680000000001\nNum is\n586.26482\nwith parts\n0.26481999999998607\n586.0\nInt is\n586\n587\n30\n0.010762\ncurr eps is\n0.010762\neps is\n0.010757339168\nNum is\n656.487\nwith parts\n0.48699999999996635\n656.0\nInt is\n656\n657\n30\n0.0096666\ncurr eps is\n0.0096666\neps is\n0.00965981122\nNum is\n688.67\nwith parts\n0.6699999999999591\n688.0\nInt is\n688\n689\n30\n0.00924092\ncurr eps is\n0.00924092\neps is\n0.0092324378\nNum is\n712.8430000000002\nwith parts\n0.8430000000001883\n712.0\nInt is\n712\n713\n30\n0.00894691\ncurr eps is\n0.00894691\neps is\n0.008936945739999997\nNum is\n778.90401\nwith parts\n0.9040099999999711\n778.0\nInt is\n778\n779\n30\n0.00823193\ncurr eps is\n0.00823193\neps is\n0.008222980301\nNum is\n810.451\nwith parts\n0.45100000000002183\n810.0\nInt is\n810\n811\n30\n0.00792708\ncurr eps is\n0.00792708\neps is\n0.00792295786\nNum is\n841.57\nwith parts\n0.57000000000005\n841.0\nInt is\n841\n842\n30\n0.00765375\ncurr eps is\n0.00765375\neps is\n0.0076489164\nNum is\n867.378\nwith parts\n0.37800000000004275\n867.0\nInt is\n867\n868\n30\n0.00743946\ncurr eps is\n0.00743946\neps is\n0.00743643978\nNum is\n901.1811\nwith parts\n0.18110000000001492\n901.0\nInt is\n901\n902\n30\n0.00717773\ncurr eps is\n0.00717773\neps is\n0.00717638986\nNum is\n919.33\nwith parts\n0.3300000000000409\n919.0\nInt is\n919\n920\n30\n0.00704694\ncurr eps is\n0.00704694\neps is\n0.007044590399999999\nNum is\n964.0791\nwith parts\n0.07910000000003947\n964.0\nInt is\n964\n965\n30\n0.00674113\ncurr eps is\n0.00674113\neps is\n0.006740618223\nNum is\n1005.2721\nwith parts\n0.2721000000000231\n1005.0\nInt is\n1005\n1006\n30\n0.00648613\ncurr eps is\n0.00648613\neps is\n0.006484508284\nNum is\n1212.9481\nwith parts\n0.9481000000000677\n1212.0\nInt is\n1212\n1213\n30\n0.00546034\ncurr eps is\n0.00546034\neps is\n0.005456443309\nNum is\n1249.9381\nwith parts\n0.9381000000000768\n1249.0\nInt is\n1249\n1250\n30\n0.00531263\ncurr eps is\n0.00531263\neps is\n0.005308999553\nNum is\n1292.7781\nwith parts\n0.7780999999999949\n1292.0\nInt is\n1292\n1293\n30\n0.00515156\ncurr eps is\n0.00515156\neps is\n0.0051487432780000005\nNum is\n1299.1401\nwith parts\n0.14010000000007494\n1299.0\nInt is\n1299\n1300\n30\n0.00512635\ncurr eps is\n0.00512635\neps is\n0.005125848442\nNum is\n1457.6431\nwith parts\n0.643100000000004\n1457.0\nInt is\n1457\n1458\n30\n0.00462158\ncurr eps is\n0.00462158\neps is\n0.004619747165\nNum is\n1528.1031\nwith parts\n0.10310000000004038\n1528.0\nInt is\n1528\n1529\n30\n0.00442866\ncurr eps is\n0.00442866\neps is\n0.004428392971\nwith_Ig/152Eu.csv\n"
     ]
    }
   ],
   "source": [
    "add_epsilon_dir(\"with_Ig\")"
   ]
  }
 ]
}