{
 "metadata": {
  "language_info": {
   "codemirror_mode": {
    "name": "ipython",
    "version": 3
   },
   "file_extension": ".py",
   "mimetype": "text/x-python",
   "name": "python",
   "nbconvert_exporter": "python",
   "pygments_lexer": "ipython3",
   "version": "3.8.5-final"
  },
  "orig_nbformat": 2,
  "kernelspec": {
   "name": "python3",
   "display_name": "Python 3.8.5 64-bit ('base': conda)",
   "metadata": {
    "interpreter": {
     "hash": "590f3899dd7b9bcfd4cbc68d67e174e21f00fe45394f2e3932fd522000967c3f"
    }
   }
  }
 },
 "nbformat": 4,
 "nbformat_minor": 2,
 "cells": [
  {
   "cell_type": "code",
   "execution_count": 11,
   "metadata": {},
   "outputs": [],
   "source": [
    "import pandas as pd\n",
    "import glob\n",
    "import numpy as np\n",
    "from math import modf, isnan\n",
    "from pathlib import Path"
   ]
  },
  {
   "cell_type": "code",
   "execution_count": 12,
   "metadata": {},
   "outputs": [],
   "source": [
    "def add_epsilon_dir(parsed_dir):\n",
    "    \n",
    "    if not os.path.isdir(parsed_dir):\n",
    "        raise Exception(f\"Directory '{parsed_dir}' not found. Consider creating it and moving parsed files there.\")\n",
    "    \n",
    "    CALIBRATION_PATH = \"aux_data/epsilons.csv\"\n",
    "    eps_df = pd.read_csv(CALIBRATION_PATH, index_col=0)\n",
    "    Path(\"./with_eps\").mkdir(parents=True, exist_ok=True)\n",
    "    for parsed_file in glob.iglob(f\"{parsed_dir}/*.csv\"):\n",
    "        add_epsilon_file(parsed_file, eps_df)"
   ]
  },
  {
   "cell_type": "code",
   "execution_count": 13,
   "metadata": {},
   "outputs": [],
   "source": [
    "def add_epsilon_file(report_path, eps_df):\n",
    "    file_name = report_path.split('/')[1]\n",
    "    df = pd.read_csv(report_path, index_col=0)\n",
    "    # Modify here!!!\n",
    "    # DONE in .py file\n",
    "    geom = 30\n",
    "    df[\"eps\"] = df[\"E\"].apply(lambda x: add_epsilon_val(x, geom, eps_df))\n",
    "    print(report_path)\n",
    "    df.to_csv(f\"with_eps/{file_name}\")"
   ]
  },
  {
   "cell_type": "code",
   "execution_count": 14,
   "metadata": {},
   "outputs": [],
   "source": [
    "def add_epsilon_val(num, geom, eps_df):\n",
    "    if isnan(num):\n",
    "        return float(\"NaN\")\n",
    "    else:\n",
    "        dec_e, int_e = modf(num)\n",
    "        int_e = int(int_e)\n",
    "        \n",
    "        curr_eps = float(eps_df.loc[int_e, f\"eps_{geom}_mm\"])\n",
    "        eps = curr_eps + dec_e*(float(eps_df.loc[int_e + 1, f\"eps_{geom}_mm\"]) - curr_eps)\n",
    "    return eps"
   ]
  },
  {
   "cell_type": "code",
   "execution_count": 15,
   "metadata": {
    "tags": []
   },
   "outputs": [
    {
     "output_type": "stream",
     "name": "stdout",
     "text": [
      "Anaoavin\nwith_Ig/152Eu.csv\nwith_Ig/152Eu.csv\n"
     ]
    }
   ],
   "source": [
    "add_epsilon_dir(\"with_Ig\")"
   ]
  }
 ]
}