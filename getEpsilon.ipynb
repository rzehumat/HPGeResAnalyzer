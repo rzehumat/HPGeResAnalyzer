{
 "metadata": {
  "language_info": {
   "codemirror_mode": {
    "name": "ipython",
    "version": 3
   },
   "file_extension": ".py",
   "mimetype": "text/x-python",
   "name": "python",
   "nbconvert_exporter": "python",
   "pygments_lexer": "ipython3",
   "version": "3.8.5-final"
  },
  "orig_nbformat": 2,
  "kernelspec": {
   "name": "python3",
   "display_name": "Python 3.8.5 64-bit ('base': conda)",
   "metadata": {
    "interpreter": {
     "hash": "590f3899dd7b9bcfd4cbc68d67e174e21f00fe45394f2e3932fd522000967c3f"
    }
   }
  }
 },
 "nbformat": 4,
 "nbformat_minor": 2,
 "cells": [
  {
   "cell_type": "code",
   "execution_count": 19,
   "metadata": {},
   "outputs": [],
   "source": [
    "import pandas as pd\n",
    "import glob\n",
    "import numpy as np\n",
    "from math import modf, isnan\n",
    "from pathlib import Path"
   ]
  },
  {
   "cell_type": "code",
   "execution_count": 20,
   "metadata": {},
   "outputs": [],
   "source": [
    "def add_epsilon_dir(parsed_dir, geom):\n",
    "    \n",
    "    if not os.path.isdir(parsed_dir):\n",
    "        raise Exception(f\"Directory '{parsed_dir}' not found. Consider creating it and moving parsed files there.\")\n",
    "    \n",
    "    CALIBRATION_PATH = \"aux_data/epsilons.csv\"\n",
    "    eps_df = pd.read_csv(CALIBRATION_PATH, index_col=0)\n",
    "    Path(\"./with_eps\").mkdir(parents=True, exist_ok=True)\n",
    "    for parsed_file in glob.iglob(f\"{parsed_dir}/*.csv\"):\n",
    "        add_epsilon_file(parsed_file, geom, eps_df)"
   ]
  },
  {
   "cell_type": "code",
   "execution_count": 21,
   "metadata": {},
   "outputs": [],
   "source": [
    "def add_epsilon_file(report_path, geom, eps_df):\n",
    "    file_name = report_path.split('/')[1]\n",
    "    df = pd.read_csv(report_path, index_col=0)\n",
    "    \n",
    "    df[\"Geometry\"] = [geom for i in range(df.shape[0])]\n",
    "    df[\"eps\"] = df[\"E_tab\"].apply(lambda x: add_epsilon_val(x, geom, eps_df))\n",
    "\n",
    "    old_column_order = df.columns.tolist()\n",
    "    first_cols = [\"Pk\", \"Energy\", \"FWHM\", \"E_tab\", \"Area\", \"%err\", \"Ig\", \"eps\", \"Geometry\"]\n",
    "    new_cols = first_cols + list(set(old_column_order) - set(first_cols))\n",
    "    df = df[new_cols]\n",
    "    # that is wrong -- it's always 30 in the RPT files...\n",
    "    df = df.drop(columns = [\"Sample Geometry\"])\n",
    "    \n",
    "    df.to_csv(f\"with_eps/{file_name}\")"
   ]
  },
  {
   "cell_type": "code",
   "execution_count": 25,
   "metadata": {},
   "outputs": [],
   "source": [
    "def add_epsilon_val(num, geom, eps_df):\n",
    "    if isnan(num):\n",
    "        return float(\"NaN\")\n",
    "    else:\n",
    "        dec_e, int_e = modf(num)\n",
    "        int_e = int(int_e)\n",
    "        \n",
    "        curr_eps = float(eps_df.loc[int_e, f\"eps_{geom}_mm\"])\n",
    "        eps = curr_eps + dec_e*(float(eps_df.loc[int_e + 1, f\"eps_{geom}_mm\"]) - curr_eps)\n",
    "    return eps"
   ]
  },
  {
   "cell_type": "code",
   "execution_count": 26,
   "metadata": {
    "tags": []
   },
   "outputs": [
    {
     "output_type": "stream",
     "name": "stdout",
     "text": [
      "['Pk', 'IT', 'Energy', 'Area', 'Bkgnd', 'FWHM', 'Channel', 'Left', 'PW', 'Cts/Sec', '%err', 'Fit', 'Report Generated On', 'Sample Identification', 'Sample Type', 'Sample Geometry', 'Peak Locate Threshold', 'Peak Locate Range (in channels)', 'Peak Area Range (in channels)', 'Identification Energy Tolerance', 'Sample Size', 'Sample Taken On', 'Acquisition Started', 'Live Time', 'Real Time', 'Dead Time', 'Peak Analysis Report                    26.11.2020  5', 'Peak Analysis Performed on', 'Peak Analysis From Channel', 'Peak Search Sensitivity', 'Max Iterations', 'Use Fixed FWHM', 'Peak Fit Engine Name', 'E_tab', 'Ig', 'eps']\n"
     ]
    }
   ],
   "source": [
    "add_epsilon_dir(\"with_Ig\", 80)"
   ]
  }
 ]
}