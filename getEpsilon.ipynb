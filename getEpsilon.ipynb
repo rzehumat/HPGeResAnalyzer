{
 "metadata": {
  "language_info": {
   "codemirror_mode": {
    "name": "ipython",
    "version": 3
   },
   "file_extension": ".py",
   "mimetype": "text/x-python",
   "name": "python",
   "nbconvert_exporter": "python",
   "pygments_lexer": "ipython3",
   "version": "3.8.5-final"
  },
  "orig_nbformat": 2,
  "kernelspec": {
   "name": "python3",
   "display_name": "Python 3.8.5 64-bit ('base': conda)",
   "metadata": {
    "interpreter": {
     "hash": "590f3899dd7b9bcfd4cbc68d67e174e21f00fe45394f2e3932fd522000967c3f"
    }
   }
  }
 },
 "nbformat": 4,
 "nbformat_minor": 2,
 "cells": [
  {
   "cell_type": "code",
   "execution_count": 184,
   "metadata": {},
   "outputs": [],
   "source": [
    "import pandas as pd\n",
    "import glob\n",
    "import numpy as np\n",
    "from math import modf, isnan\n",
    "from pathlib import Path"
   ]
  },
  {
   "cell_type": "code",
   "execution_count": 185,
   "metadata": {},
   "outputs": [],
   "source": [
    "def add_epsilon_dir(parsed_dir):\n",
    "    \n",
    "    if not os.path.isdir(parsed_dir):\n",
    "        raise Exception(f\"Directory '{parsed_dir}' not found. Consider creating it and moving parsed files there.\")\n",
    "    \n",
    "    CALIBRATION_PATH = \"aux_data/epsilons.csv\"\n",
    "    eps_df = pd.read_csv(CALIBRATION_PATH, index_col=0)\n",
    "    Path(\"./with_eps\").mkdir(parents=True, exist_ok=True)\n",
    "    for parsed_file in glob.iglob(f\"{parsed_dir}/*.csv\"):\n",
    "        add_epsilon_file(parsed_file)"
   ]
  },
  {
   "cell_type": "code",
   "execution_count": 186,
   "metadata": {},
   "outputs": [],
   "source": [
    "def add_epsilon_file(report_path):\n",
    "    df = pd.read_csv(report_path, index_col=0)\n",
    "    # Modify here!!!\n",
    "    geom = 30\n",
    "    #print(\"DF is\")\n",
    "    #print(df)\n",
    "    df[\"eps\"] = df[\"E\"].apply(lambda x: add_epsilon_val(x, geom))\n",
    "    print(report_path)\n",
    "    df.to_csv(\"with_eps/fname.csv\")"
   ]
  },
  {
   "cell_type": "code",
   "execution_count": 187,
   "metadata": {},
   "outputs": [],
   "source": [
    "def add_epsilon_val(num, geom):\n",
    "    \n",
    "    \n",
    "    if isnan(num):\n",
    "        return float(\"NaN\")\n",
    "    else:\n",
    "        dec_e, int_e = modf(num)\n",
    "        print(\"Num is\")\n",
    "        print(num)\n",
    "        print(\"with parts\")\n",
    "        print(dec_e)\n",
    "        print(int_e)\n",
    "        int_e = int(int_e)\n",
    "        print(\"Int is\")\n",
    "        print(int_e)\n",
    "        print(int_e + 1)\n",
    "        print(geom)\n",
    "        print(eps_df.loc[int_e, f\"eps_{geom}_mm\"])\n",
    "        curr_eps = float(eps_df.loc[int_e, f\"eps_{geom}_mm\"])\n",
    "        print(\"curr eps is\")\n",
    "        print(curr_eps)\n",
    "        eps = curr_eps + dec_e*(float(eps_df.loc[int_e + 1, f\"eps_{geom}_mm\"]) - curr_eps)\n",
    "        print(\"eps is\")\n",
    "        print(eps)\n",
    "    return eps"
   ]
  },
  {
   "cell_type": "code",
   "execution_count": 201,
   "metadata": {},
   "outputs": [
    {
     "output_type": "execute_result",
     "data": {
      "text/plain": [
       "             eps\n",
       "count  33.000000\n",
       "mean    0.011536\n",
       "std     0.005767\n",
       "min     0.004428\n",
       "25%     0.007045\n",
       "50%     0.009660\n",
       "75%     0.015194\n",
       "max     0.023071"
      ],
      "text/html": "<div>\n<style scoped>\n    .dataframe tbody tr th:only-of-type {\n        vertical-align: middle;\n    }\n\n    .dataframe tbody tr th {\n        vertical-align: top;\n    }\n\n    .dataframe thead th {\n        text-align: right;\n    }\n</style>\n<table border=\"1\" class=\"dataframe\">\n  <thead>\n    <tr style=\"text-align: right;\">\n      <th></th>\n      <th>eps</th>\n    </tr>\n  </thead>\n  <tbody>\n    <tr>\n      <th>count</th>\n      <td>33.000000</td>\n    </tr>\n    <tr>\n      <th>mean</th>\n      <td>0.011536</td>\n    </tr>\n    <tr>\n      <th>std</th>\n      <td>0.005767</td>\n    </tr>\n    <tr>\n      <th>min</th>\n      <td>0.004428</td>\n    </tr>\n    <tr>\n      <th>25%</th>\n      <td>0.007045</td>\n    </tr>\n    <tr>\n      <th>50%</th>\n      <td>0.009660</td>\n    </tr>\n    <tr>\n      <th>75%</th>\n      <td>0.015194</td>\n    </tr>\n    <tr>\n      <th>max</th>\n      <td>0.023071</td>\n    </tr>\n  </tbody>\n</table>\n</div>"
     },
     "metadata": {},
     "execution_count": 201
    }
   ],
   "source": [
    "aa = pd.read_csv(\"with_eps/fname.csv\", index_col=0)\n",
    "aa[[\"eps\"]].describe()"
   ]
  },
  {
   "cell_type": "code",
   "execution_count": 206,
   "metadata": {},
   "outputs": [
    {
     "output_type": "stream",
     "name": "stdout",
     "text": [
      "0.0230818\n0.0230723248\n"
     ]
    },
    {
     "output_type": "execute_result",
     "data": {
      "text/plain": [
       "   E_keV       eps_3_mm    eps_30_mm      eps_80_mm     eps_120_mm  \\\n",
       "0      1  5.281210e-178  1.78785E-57  4.889870e-133  2.973220e-142   \n",
       "1      2  5.961370e-103  1.43596E-55   6.321290e-77   1.108590e-81   \n",
       "2      3   3.069400e-72  2.46036E-46   2.831130e-54   2.164550e-57   \n",
       "3      4   3.358090e-55  7.95922E-39   8.655630e-42   4.602290e-44   \n",
       "4      5   2.624080e-44  4.66365E-33   7.751400e-34   1.320340e-35   \n",
       "\n",
       "      eps_250_mm  \n",
       "0  1.227770e-104  \n",
       "1   2.895580e-62  \n",
       "2   6.973980e-45  \n",
       "3   3.410710e-35  \n",
       "4   5.752400e-29  "
      ],
      "text/html": "<div>\n<style scoped>\n    .dataframe tbody tr th:only-of-type {\n        vertical-align: middle;\n    }\n\n    .dataframe tbody tr th {\n        vertical-align: top;\n    }\n\n    .dataframe thead th {\n        text-align: right;\n    }\n</style>\n<table border=\"1\" class=\"dataframe\">\n  <thead>\n    <tr style=\"text-align: right;\">\n      <th></th>\n      <th>E_keV</th>\n      <th>eps_3_mm</th>\n      <th>eps_30_mm</th>\n      <th>eps_80_mm</th>\n      <th>eps_120_mm</th>\n      <th>eps_250_mm</th>\n    </tr>\n  </thead>\n  <tbody>\n    <tr>\n      <th>0</th>\n      <td>1</td>\n      <td>5.281210e-178</td>\n      <td>1.78785E-57</td>\n      <td>4.889870e-133</td>\n      <td>2.973220e-142</td>\n      <td>1.227770e-104</td>\n    </tr>\n    <tr>\n      <th>1</th>\n      <td>2</td>\n      <td>5.961370e-103</td>\n      <td>1.43596E-55</td>\n      <td>6.321290e-77</td>\n      <td>1.108590e-81</td>\n      <td>2.895580e-62</td>\n    </tr>\n    <tr>\n      <th>2</th>\n      <td>3</td>\n      <td>3.069400e-72</td>\n      <td>2.46036E-46</td>\n      <td>2.831130e-54</td>\n      <td>2.164550e-57</td>\n      <td>6.973980e-45</td>\n    </tr>\n    <tr>\n      <th>3</th>\n      <td>4</td>\n      <td>3.358090e-55</td>\n      <td>7.95922E-39</td>\n      <td>8.655630e-42</td>\n      <td>4.602290e-44</td>\n      <td>3.410710e-35</td>\n    </tr>\n    <tr>\n      <th>4</th>\n      <td>5</td>\n      <td>2.624080e-44</td>\n      <td>4.66365E-33</td>\n      <td>7.751400e-34</td>\n      <td>1.320340e-35</td>\n      <td>5.752400e-29</td>\n    </tr>\n  </tbody>\n</table>\n</div>"
     },
     "metadata": {},
     "execution_count": 206
    }
   ],
   "source": [
    "eps_df = pd.read_csv(\"aux_data/epsilons.csv\")\n",
    "geom = 30\n",
    "int_e = 271\n",
    "dec_e = 0.112\n",
    "curr_eps = float(eps_df.loc[int_e, f\"eps_{geom}_mm\"])\n",
    "print(curr_eps)\n",
    "eps = curr_eps + dec_e*(float(eps_df.loc[int_e + 1, f\"eps_{geom}_mm\"]) - curr_eps)\n",
    "print(eps)\n",
    "eps_df.head()"
   ]
  },
  {
   "cell_type": "code",
   "execution_count": 205,
   "metadata": {},
   "outputs": [
    {
     "output_type": "execute_result",
     "data": {
      "text/plain": [
       "             eps\n",
       "count  33.000000\n",
       "mean    0.011562\n",
       "std     0.005792\n",
       "min     0.004431\n",
       "25%     0.007052\n",
       "50%     0.009674\n",
       "75%     0.015231\n",
       "max     0.023156"
      ],
      "text/html": "<div>\n<style scoped>\n    .dataframe tbody tr th:only-of-type {\n        vertical-align: middle;\n    }\n\n    .dataframe tbody tr th {\n        vertical-align: top;\n    }\n\n    .dataframe thead th {\n        text-align: right;\n    }\n</style>\n<table border=\"1\" class=\"dataframe\">\n  <thead>\n    <tr style=\"text-align: right;\">\n      <th></th>\n      <th>eps</th>\n    </tr>\n  </thead>\n  <tbody>\n    <tr>\n      <th>count</th>\n      <td>33.000000</td>\n    </tr>\n    <tr>\n      <th>mean</th>\n      <td>0.011562</td>\n    </tr>\n    <tr>\n      <th>std</th>\n      <td>0.005792</td>\n    </tr>\n    <tr>\n      <th>min</th>\n      <td>0.004431</td>\n    </tr>\n    <tr>\n      <th>25%</th>\n      <td>0.007052</td>\n    </tr>\n    <tr>\n      <th>50%</th>\n      <td>0.009674</td>\n    </tr>\n    <tr>\n      <th>75%</th>\n      <td>0.015231</td>\n    </tr>\n    <tr>\n      <th>max</th>\n      <td>0.023156</td>\n    </tr>\n  </tbody>\n</table>\n</div>"
     },
     "metadata": {},
     "execution_count": 205
    }
   ],
   "source": [
    "aa = pd.read_csv(\"with_eps/fname.csv\", index_col=0)\n",
    "aa[[\"eps\"]].describe()"
   ]
  },
  {
   "cell_type": "code",
   "execution_count": 202,
   "metadata": {
    "tags": []
   },
   "outputs": [
    {
     "output_type": "stream",
     "name": "stdout",
     "text": [
      "Num is\n271.131\nwith parts\n0.1309999999999718\n271.0\nInt is\n271\n272\n30\n2.31671E-02\ncurr eps is\n0.0231671\neps is\n0.023155925700000003\nNum is\n275.4491\nwith parts\n0.4490999999999872\n275.0\nInt is\n275\n276\n30\n2.28296E-02\ncurr eps is\n0.0228296\neps is\n0.022792324699999998\nNum is\n295.93921\nwith parts\n0.9392100000000028\n295.0\nInt is\n295\n296\n30\n2.12720E-02\ncurr eps is\n0.021272\neps is\n0.021203907275\nNum is\n316.3\nwith parts\n0.30000000000001137\n316.0\nInt is\n316\n317\n30\n1.98435E-02\ncurr eps is\n0.0198435\neps is\n0.01982448\nNum is\n324.83\nwith parts\n0.8299999999999841\n324.0\nInt is\n324\n325\n30\n1.93479E-02\ncurr eps is\n0.0193479\neps is\n0.019297934000000003\nNum is\n329.4252\nwith parts\n0.425200000000018\n329.0\nInt is\n329\n330\n30\n1.90506E-02\ncurr eps is\n0.0190506\neps is\n0.01902576832\nNum is\n340.401\nwith parts\n0.40100000000001046\n340.0\nInt is\n340\n341\n30\n1.84278E-02\ncurr eps is\n0.0184278\neps is\n0.0184059054\nNum is\n357.26\nwith parts\n0.2599999999999909\n357.0\nInt is\n357\n358\n30\n1.75429E-02\ncurr eps is\n0.0175429\neps is\n0.017530056\nNum is\n411.11631\nwith parts\n0.11630999999999858\n411.0\nInt is\n411\n412\n30\n1.52353E-02\ncurr eps is\n0.0152353\neps is\n0.015231019792\nNum is\n416.048\nwith parts\n0.04800000000000182\n416.0\nInt is\n416\n417\n30\n1.50533E-02\ncurr eps is\n0.0150533\neps is\n0.0150515816\nNum is\n443.965\nwith parts\n0.964999999999975\n443.0\nInt is\n443\n444\n30\n1.41450E-02\ncurr eps is\n0.014145\neps is\n0.014114699000000001\nNum is\n488.67922\nwith parts\n0.6792199999999866\n488.0\nInt is\n488\n489\n30\n1.28644E-02\ncurr eps is\n0.0128644\neps is\n0.012846944046\nNum is\n503.474\nwith parts\n0.47399999999998954\n503.0\nInt is\n503\n504\n30\n1.24906E-02\ncurr eps is\n0.0124906\neps is\n0.0124791766\nNum is\n534.245\nwith parts\n0.24500000000000455\n534.0\nInt is\n534\n535\n30\n1.17872E-02\ncurr eps is\n0.0117872\neps is\n0.0117819815\nNum is\n556.56\nwith parts\n0.5599999999999454\n556.0\nInt is\n556\n557\n30\n1.13372E-02\ncurr eps is\n0.0113372\neps is\n0.011326224000000001\nNum is\n586.26482\nwith parts\n0.26481999999998607\n586.0\nInt is\n586\n587\n30\n1.07795E-02\ncurr eps is\n0.0107795\neps is\n0.01077486565\nNum is\n656.487\nwith parts\n0.48699999999996635\n656.0\nInt is\n656\n657\n30\n9.68058E-03\ncurr eps is\n0.00968058\neps is\n0.00967377174\nNum is\n688.67\nwith parts\n0.6699999999999591\n688.0\nInt is\n688\n689\n30\n9.25362E-03\ncurr eps is\n0.00925362\neps is\n0.009245111\nNum is\n712.8430000000002\nwith parts\n0.8430000000001883\n712.0\nInt is\n712\n713\n30\n8.95876E-03\ncurr eps is\n0.00895876\neps is\n0.008948770449999999\nNum is\n778.90401\nwith parts\n0.9040099999999711\n778.0\nInt is\n778\n779\n30\n8.24186E-03\ncurr eps is\n0.00824186\neps is\n0.0082328831807\nNum is\n810.451\nwith parts\n0.45100000000002183\n810.0\nInt is\n810\n811\n30\n7.93625E-03\ncurr eps is\n0.00793625\neps is\n0.00793211433\nNum is\n841.57\nwith parts\n0.57000000000005\n841.0\nInt is\n841\n842\n30\n7.66225E-03\ncurr eps is\n0.00766225\neps is\n0.007657404999999999\nNum is\n867.378\nwith parts\n0.37800000000004275\n867.0\nInt is\n867\n868\n30\n7.44746E-03\ncurr eps is\n0.00744746\neps is\n0.007444436\nNum is\n901.1811\nwith parts\n0.18110000000001492\n901.0\nInt is\n901\n902\n30\n7.18515E-03\ncurr eps is\n0.00718515\neps is\n0.007183806238\nNum is\n919.33\nwith parts\n0.3300000000000409\n919.0\nInt is\n919\n920\n30\n7.05407E-03\ncurr eps is\n0.00705407\neps is\n0.0070517170999999995\nNum is\n964.0791\nwith parts\n0.07910000000003947\n964.0\nInt is\n964\n965\n30\n6.74762E-03\ncurr eps is\n0.00674762\neps is\n0.006747106641\nNum is\n1005.2721\nwith parts\n0.2721000000000231\n1005.0\nInt is\n1005\n1006\n30\n6.49211E-03\ncurr eps is\n0.00649211\neps is\n0.006490482842\nNum is\n1212.9481\nwith parts\n0.9481000000000677\n1212.0\nInt is\n1212\n1213\n30\n5.46446E-03\ncurr eps is\n0.00546446\neps is\n0.005460553828\nNum is\n1249.9381\nwith parts\n0.9381000000000768\n1249.0\nInt is\n1249\n1250\n30\n5.31650E-03\ncurr eps is\n0.0053165\neps is\n0.0053128695529999995\nNum is\n1292.7781\nwith parts\n0.7780999999999949\n1292.0\nInt is\n1292\n1293\n30\n5.15519E-03\ncurr eps is\n0.00515519\neps is\n0.005152365497\nNum is\n1299.1401\nwith parts\n0.14010000000007494\n1299.0\nInt is\n1299\n1300\n30\n5.12993E-03\ncurr eps is\n0.00512993\neps is\n0.005129428442\nNum is\n1457.6431\nwith parts\n0.643100000000004\n1457.0\nInt is\n1457\n1458\n30\n4.62443E-03\ncurr eps is\n0.00462443\neps is\n0.004622597165\nNum is\n1528.1031\nwith parts\n0.10310000000004038\n1528.0\nInt is\n1528\n1529\n30\n4.43126E-03\ncurr eps is\n0.00443126\neps is\n0.00443099194\nwith_Ig/152Eu.csv\n"
     ]
    }
   ],
   "source": [
    "add_epsilon_dir(\"with_Ig\")"
   ]
  },
  {
   "cell_type": "code",
   "execution_count": 211,
   "metadata": {},
   "outputs": [],
   "source": [
    "CALIBRATION_PATH = \"aux_data/epsilons.csv\"\n",
    "eps_df = pd.read_csv(CALIBRATION_PATH)"
   ]
  },
  {
   "cell_type": "code",
   "execution_count": 212,
   "metadata": {},
   "outputs": [
    {
     "output_type": "execute_result",
     "data": {
      "text/plain": [
       "             E_keV       eps_3_mm      eps_80_mm     eps_120_mm     eps_250_mm\n",
       "count  2999.000000   2.999000e+03   2.999000e+03   2.999000e+03   2.999000e+03\n",
       "mean   1500.000000   2.648253e-02   2.447403e-03   1.307376e-03   3.613009e-04\n",
       "std     865.881054   2.751390e-02   2.484149e-03   1.287368e-03   3.523722e-04\n",
       "min       1.000000  5.281210e-178  4.889870e-133  2.973220e-142  1.227770e-104\n",
       "25%     750.500000   1.123900e-02   9.889750e-04   5.485045e-04   1.516045e-04\n",
       "50%    1500.000000   1.512000e-02   1.463030e-03   7.833490e-04   2.235570e-04\n",
       "75%    2249.500000   2.766780e-02   2.677035e-03   1.434070e-03   3.969360e-04\n",
       "max    2999.000000   1.407630e-01   1.222290e-02   6.316610e-03   1.711560e-03"
      ],
      "text/html": "<div>\n<style scoped>\n    .dataframe tbody tr th:only-of-type {\n        vertical-align: middle;\n    }\n\n    .dataframe tbody tr th {\n        vertical-align: top;\n    }\n\n    .dataframe thead th {\n        text-align: right;\n    }\n</style>\n<table border=\"1\" class=\"dataframe\">\n  <thead>\n    <tr style=\"text-align: right;\">\n      <th></th>\n      <th>E_keV</th>\n      <th>eps_3_mm</th>\n      <th>eps_80_mm</th>\n      <th>eps_120_mm</th>\n      <th>eps_250_mm</th>\n    </tr>\n  </thead>\n  <tbody>\n    <tr>\n      <th>count</th>\n      <td>2999.000000</td>\n      <td>2.999000e+03</td>\n      <td>2.999000e+03</td>\n      <td>2.999000e+03</td>\n      <td>2.999000e+03</td>\n    </tr>\n    <tr>\n      <th>mean</th>\n      <td>1500.000000</td>\n      <td>2.648253e-02</td>\n      <td>2.447403e-03</td>\n      <td>1.307376e-03</td>\n      <td>3.613009e-04</td>\n    </tr>\n    <tr>\n      <th>std</th>\n      <td>865.881054</td>\n      <td>2.751390e-02</td>\n      <td>2.484149e-03</td>\n      <td>1.287368e-03</td>\n      <td>3.523722e-04</td>\n    </tr>\n    <tr>\n      <th>min</th>\n      <td>1.000000</td>\n      <td>5.281210e-178</td>\n      <td>4.889870e-133</td>\n      <td>2.973220e-142</td>\n      <td>1.227770e-104</td>\n    </tr>\n    <tr>\n      <th>25%</th>\n      <td>750.500000</td>\n      <td>1.123900e-02</td>\n      <td>9.889750e-04</td>\n      <td>5.485045e-04</td>\n      <td>1.516045e-04</td>\n    </tr>\n    <tr>\n      <th>50%</th>\n      <td>1500.000000</td>\n      <td>1.512000e-02</td>\n      <td>1.463030e-03</td>\n      <td>7.833490e-04</td>\n      <td>2.235570e-04</td>\n    </tr>\n    <tr>\n      <th>75%</th>\n      <td>2249.500000</td>\n      <td>2.766780e-02</td>\n      <td>2.677035e-03</td>\n      <td>1.434070e-03</td>\n      <td>3.969360e-04</td>\n    </tr>\n    <tr>\n      <th>max</th>\n      <td>2999.000000</td>\n      <td>1.407630e-01</td>\n      <td>1.222290e-02</td>\n      <td>6.316610e-03</td>\n      <td>1.711560e-03</td>\n    </tr>\n  </tbody>\n</table>\n</div>"
     },
     "metadata": {},
     "execution_count": 212
    }
   ],
   "source": [
    "eps_df.describe()"
   ]
  }
 ]
}